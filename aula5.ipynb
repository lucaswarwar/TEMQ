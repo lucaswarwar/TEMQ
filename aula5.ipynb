{
 "cells": [
  {
   "cell_type": "markdown",
   "metadata": {},
   "source": [
    "# Aula 5: Pandas e Numpy\n",
    "\n",
    "Pandas e NumPy são duas bibliotecas muito importantes para se trabalhar com dados no python.\n",
    "\n",
    "A biblioteca NumPy que é bastante utilizada na academia para programação numérica\n",
    "\n",
    "Já o Pandas é utilizado predominantemente para Data Visualization e para Data Analysis"
   ]
  },
  {
   "cell_type": "code",
   "execution_count": 3,
   "metadata": {},
   "outputs": [],
   "source": [
    "import numpy as np"
   ]
  },
  {
   "cell_type": "markdown",
   "metadata": {},
   "source": [
    "#### Vetorização\n",
    "\n",
    "NumPy é excelente para operações com vetores.\n",
    "\n",
    "Operações do tipo:\n",
    "\n",
    "- multiplicação matricial e outras operações de álgebra linear  \n",
    "- vetores de número aleatório  \n",
    "- aplicação de transformação (ex., seno, cosseno, log, ...)\n",
    "\n",
    "Vamos tentar criar duas matrizes utilizando listas. Uma 3 x 3 e outra um vetor 1 x 3:"
   ]
  },
  {
   "cell_type": "code",
   "execution_count": 186,
   "metadata": {},
   "outputs": [
    {
     "name": "stdout",
     "output_type": "stream",
     "text": [
      "[[5, 1, 3], [1, 1, 1], [1, 2, 1]]\n",
      "[1, 2, 3]\n"
     ]
    },
    {
     "ename": "TypeError",
     "evalue": "can't multiply sequence by non-int of type 'list'",
     "output_type": "error",
     "traceback": [
      "\u001b[0;31m---------------------------------------------------------------------------\u001b[0m",
      "\u001b[0;31mTypeError\u001b[0m                                 Traceback (most recent call last)",
      "\u001b[0;32m<ipython-input-186-285ac479eda2>\u001b[0m in \u001b[0;36m<module>\u001b[0;34m\u001b[0m\n\u001b[1;32m      3\u001b[0m \u001b[0mprint\u001b[0m\u001b[0;34m(\u001b[0m\u001b[0ma\u001b[0m\u001b[0;34m)\u001b[0m\u001b[0;34m\u001b[0m\u001b[0;34m\u001b[0m\u001b[0m\n\u001b[1;32m      4\u001b[0m \u001b[0mprint\u001b[0m\u001b[0;34m(\u001b[0m\u001b[0mb\u001b[0m\u001b[0;34m)\u001b[0m\u001b[0;34m\u001b[0m\u001b[0;34m\u001b[0m\u001b[0m\n\u001b[0;32m----> 5\u001b[0;31m \u001b[0mprint\u001b[0m\u001b[0;34m(\u001b[0m\u001b[0ma\u001b[0m\u001b[0;34m*\u001b[0m\u001b[0mb\u001b[0m\u001b[0;34m)\u001b[0m\u001b[0;34m\u001b[0m\u001b[0;34m\u001b[0m\u001b[0m\n\u001b[0m",
      "\u001b[0;31mTypeError\u001b[0m: can't multiply sequence by non-int of type 'list'"
     ]
    }
   ],
   "source": [
    "a = [[ 5, 1 ,3], [ 1, 1 ,1], [ 1, 2 ,1]]\n",
    "b = [1, 2, 3]\n",
    "print(a)\n",
    "print(b)\n",
    "print(a*b)"
   ]
  },
  {
   "cell_type": "code",
   "execution_count": 187,
   "metadata": {},
   "outputs": [
    {
     "data": {
      "text/plain": [
       "6"
      ]
     },
     "execution_count": 187,
     "metadata": {},
     "output_type": "execute_result"
    }
   ],
   "source": [
    "2*3"
   ]
  },
  {
   "cell_type": "markdown",
   "metadata": {},
   "source": [
    "Como podemos observar não conseguimos multiplicar essas duas listas. Analisando o erro fica claro que não podemos multiplicar uma lista por uma outra lista.\n",
    "\n",
    "#### NumPy Arrays\n",
    "\n",
    "A coisa mais importante que o NumPy define é um **array** N-dimensional formalmente denominado de [numpy.ndarray](http://docs.scipy.org/doc/numpy/reference/arrays.ndarray.html)\n",
    "\n",
    "Podemos, então, recriar os vetores *a e b* como NumPy arrays e obter sua multiplicação da seguinte maneira:"
   ]
  },
  {
   "cell_type": "code",
   "execution_count": 191,
   "metadata": {},
   "outputs": [
    {
     "name": "stdout",
     "output_type": "stream",
     "text": [
      "[[5 2 9]\n",
      " [1 2 3]\n",
      " [1 4 3]]\n"
     ]
    }
   ],
   "source": [
    "a = np.array([[ 5, 1 ,3], [ 1, 1 ,1], [ 1, 2 ,1]])\n",
    "b = np.array([1, 2, 3])\n",
    "print(a*b)"
   ]
  },
  {
   "cell_type": "markdown",
   "metadata": {},
   "source": [
    "Observe, porém, que a multiplicação foi realizada elemento por elemento.\n",
    "\n",
    "Não obtivemos uma multiplicação matricial. Voltaremos a este problema mais tarde\n",
    "\n",
    "NumPy arrays são parecidos com listas exceto que:\n",
    "\n",
    "- As entradas devem ser *homogeneas* (elementos do mesmo tipo)  \n",
    "- Esses tipos devem ser um dos tipos (`dtypes`) suportados pelo NumPy  \n",
    "\n",
    "\n",
    "Os tipos mais importantes são:\n",
    "\n",
    "- float64: 64 bit número em ponto flutuante  \n",
    "- int64: 64 bit inteiro  \n",
    "- bool:  8 bit True ou False  \n",
    "\n",
    "Podemos obter o tipo de um objeto da seguinte maneira:"
   ]
  },
  {
   "cell_type": "code",
   "execution_count": 192,
   "metadata": {},
   "outputs": [
    {
     "data": {
      "text/plain": [
       "(numpy.ndarray, numpy.int64)"
      ]
     },
     "execution_count": 192,
     "metadata": {},
     "output_type": "execute_result"
    }
   ],
   "source": [
    "type(a), type(a[0][0])"
   ]
  },
  {
   "cell_type": "code",
   "execution_count": 190,
   "metadata": {},
   "outputs": [
    {
     "data": {
      "text/plain": [
       "5"
      ]
     },
     "execution_count": 190,
     "metadata": {},
     "output_type": "execute_result"
    }
   ],
   "source": [
    "a[0][0]"
   ]
  },
  {
   "cell_type": "markdown",
   "metadata": {},
   "source": [
    "Para se obter a multiplicação matricial, devemod utilizar \".dot\". Por exemplo:"
   ]
  },
  {
   "cell_type": "code",
   "execution_count": 6,
   "metadata": {},
   "outputs": [
    {
     "name": "stdout",
     "output_type": "stream",
     "text": [
      "[16  6  8]\n"
     ]
    }
   ],
   "source": [
    "print(a.dot(b))"
   ]
  },
  {
   "cell_type": "markdown",
   "metadata": {},
   "source": [
    "Ainda assim nossa multiplicação não esta correta dado que estamos multiplicando uma matrix 3 x 3 por uma 1 x 3.\n",
    "\n",
    "Redefinindo *b* da forma correta podemos obter a multiplicação matricial:"
   ]
  },
  {
   "cell_type": "code",
   "execution_count": 194,
   "metadata": {},
   "outputs": [
    {
     "name": "stdout",
     "output_type": "stream",
     "text": [
      "[[1]\n",
      " [2]\n",
      " [3]]\n",
      "/n\n",
      "[[16]\n",
      " [ 6]\n",
      " [ 8]]\n"
     ]
    }
   ],
   "source": [
    "b = np.array([[1], [2], [3]])\n",
    "print(b)\n",
    "print(\"/n\")\n",
    "print(a.dot(b))"
   ]
  },
  {
   "cell_type": "markdown",
   "metadata": {},
   "source": [
    "Há uma outra maneira de se definir uma matriz. Essa envolve a utilização de [numpy.matrix](https://docs.scipy.org/doc/numpy/reference/generated/numpy.matrix.html)\n",
    "\n",
    "Definindo-se dessa maneira as matrizes, podemos utilizar a operação produto (*), para multiplica-las:"
   ]
  },
  {
   "cell_type": "code",
   "execution_count": 195,
   "metadata": {},
   "outputs": [
    {
     "name": "stdout",
     "output_type": "stream",
     "text": [
      "[[5 1 3]\n",
      " [1 1 1]\n",
      " [1 2 1]]\n"
     ]
    },
    {
     "data": {
      "text/plain": [
       "matrix([[16],\n",
       "        [ 6],\n",
       "        [ 8]])"
      ]
     },
     "execution_count": 195,
     "metadata": {},
     "output_type": "execute_result"
    }
   ],
   "source": [
    "a = np.matrix('[5, 1 ,3; 1, 1 ,1; 1, 2 ,1]')\n",
    "b = np.matrix('[1; 2; 3]')\n",
    "print(a)\n",
    "a * b"
   ]
  },
  {
   "cell_type": "markdown",
   "metadata": {},
   "source": [
    "Podemos obter a transposta de diferentes maneiras:"
   ]
  },
  {
   "cell_type": "code",
   "execution_count": 10,
   "metadata": {},
   "outputs": [
    {
     "data": {
      "text/plain": [
       "matrix([[5, 1, 1],\n",
       "        [1, 1, 2],\n",
       "        [3, 1, 1]])"
      ]
     },
     "execution_count": 10,
     "metadata": {},
     "output_type": "execute_result"
    }
   ],
   "source": [
    "a.transpose()"
   ]
  },
  {
   "cell_type": "code",
   "execution_count": 11,
   "metadata": {},
   "outputs": [
    {
     "data": {
      "text/plain": [
       "matrix([[5, 1, 1],\n",
       "        [1, 1, 2],\n",
       "        [3, 1, 1]])"
      ]
     },
     "execution_count": 11,
     "metadata": {},
     "output_type": "execute_result"
    }
   ],
   "source": [
    "a.T"
   ]
  },
  {
   "cell_type": "markdown",
   "metadata": {},
   "source": [
    "E a Inversa de uma matriz"
   ]
  },
  {
   "cell_type": "code",
   "execution_count": 12,
   "metadata": {},
   "outputs": [
    {
     "data": {
      "text/plain": [
       "matrix([[ 5.00000000e-01, -2.50000000e+00,  1.00000000e+00],\n",
       "        [ 9.25185854e-18, -1.00000000e+00,  1.00000000e+00],\n",
       "        [-5.00000000e-01,  4.50000000e+00, -2.00000000e+00]])"
      ]
     },
     "execution_count": 12,
     "metadata": {},
     "output_type": "execute_result"
    }
   ],
   "source": [
    "a.getI()"
   ]
  },
  {
   "cell_type": "code",
   "execution_count": 13,
   "metadata": {},
   "outputs": [
    {
     "data": {
      "text/plain": [
       "matrix([[ 5.00000000e-01, -2.50000000e+00,  1.00000000e+00],\n",
       "        [ 9.25185854e-18, -1.00000000e+00,  1.00000000e+00],\n",
       "        [-5.00000000e-01,  4.50000000e+00, -2.00000000e+00]])"
      ]
     },
     "execution_count": 13,
     "metadata": {},
     "output_type": "execute_result"
    }
   ],
   "source": [
    "a.I"
   ]
  },
  {
   "cell_type": "markdown",
   "metadata": {},
   "source": [
    "No mais, NumPy arrays podem ser criados a partir de listas utilizando np.array"
   ]
  },
  {
   "cell_type": "code",
   "execution_count": 196,
   "metadata": {},
   "outputs": [
    {
     "data": {
      "text/plain": [
       "array([10, 20])"
      ]
     },
     "execution_count": 196,
     "metadata": {},
     "output_type": "execute_result"
    }
   ],
   "source": [
    "lista = [10, 20]\n",
    "np.array(lista)"
   ]
  },
  {
   "cell_type": "code",
   "execution_count": 203,
   "metadata": {},
   "outputs": [
    {
     "data": {
      "text/plain": [
       "matrix([[1, 3, 5],\n",
       "        [1, 1, 1],\n",
       "        [1, 1, 2]])"
      ]
     },
     "execution_count": 203,
     "metadata": {},
     "output_type": "execute_result"
    }
   ],
   "source": [
    "a"
   ]
  },
  {
   "cell_type": "code",
   "execution_count": 202,
   "metadata": {},
   "outputs": [
    {
     "data": {
      "text/plain": [
       "1.7777777777777777"
      ]
     },
     "execution_count": 202,
     "metadata": {},
     "output_type": "execute_result"
    }
   ],
   "source": [
    "a.mean()"
   ]
  },
  {
   "cell_type": "code",
   "execution_count": null,
   "metadata": {},
   "outputs": [],
   "source": []
  },
  {
   "cell_type": "markdown",
   "metadata": {},
   "source": [
    "##### Métodos em um Array"
   ]
  },
  {
   "cell_type": "code",
   "execution_count": 210,
   "metadata": {},
   "outputs": [
    {
     "data": {
      "text/plain": [
       "array([5, 4, 3, 2, 1])"
      ]
     },
     "execution_count": 210,
     "metadata": {},
     "output_type": "execute_result"
    }
   ],
   "source": [
    "a = np.array([5, 4, 3, 2, 1])\n",
    "a"
   ]
  },
  {
   "cell_type": "code",
   "execution_count": 206,
   "metadata": {},
   "outputs": [
    {
     "data": {
      "text/plain": [
       "array([1, 2, 3, 4])"
      ]
     },
     "execution_count": 206,
     "metadata": {},
     "output_type": "execute_result"
    }
   ],
   "source": [
    "a.sort()\n",
    "a"
   ]
  },
  {
   "cell_type": "code",
   "execution_count": 207,
   "metadata": {},
   "outputs": [
    {
     "data": {
      "text/plain": [
       "10"
      ]
     },
     "execution_count": 207,
     "metadata": {},
     "output_type": "execute_result"
    }
   ],
   "source": [
    "a.sum()"
   ]
  },
  {
   "cell_type": "code",
   "execution_count": 208,
   "metadata": {},
   "outputs": [
    {
     "data": {
      "text/plain": [
       "2.5"
      ]
     },
     "execution_count": 208,
     "metadata": {},
     "output_type": "execute_result"
    }
   ],
   "source": [
    "a.mean()"
   ]
  },
  {
   "cell_type": "code",
   "execution_count": 211,
   "metadata": {},
   "outputs": [
    {
     "data": {
      "text/plain": [
       "3.0"
      ]
     },
     "execution_count": 211,
     "metadata": {},
     "output_type": "execute_result"
    }
   ],
   "source": [
    "np.median(a)"
   ]
  },
  {
   "cell_type": "code",
   "execution_count": 84,
   "metadata": {},
   "outputs": [
    {
     "data": {
      "text/plain": [
       "4"
      ]
     },
     "execution_count": 84,
     "metadata": {},
     "output_type": "execute_result"
    }
   ],
   "source": [
    "a.max()"
   ]
  },
  {
   "cell_type": "markdown",
   "metadata": {},
   "source": [
    "### PANDAS\n",
    "\n",
    "Pandas será, provavelmente, a biblioteca mais utilizada por nós daqui em diante. Realizaremos quase todas as operações com dados nela. Importar, maniputar, salvar, estimar, ..."
   ]
  },
  {
   "cell_type": "code",
   "execution_count": 5,
   "metadata": {},
   "outputs": [],
   "source": [
    "import pandas as pd"
   ]
  },
  {
   "cell_type": "code",
   "execution_count": null,
   "metadata": {},
   "outputs": [],
   "source": []
  },
  {
   "cell_type": "code",
   "execution_count": 12,
   "metadata": {},
   "outputs": [
    {
     "data": {
      "text/html": [
       "<div>\n",
       "<style scoped>\n",
       "    .dataframe tbody tr th:only-of-type {\n",
       "        vertical-align: middle;\n",
       "    }\n",
       "\n",
       "    .dataframe tbody tr th {\n",
       "        vertical-align: top;\n",
       "    }\n",
       "\n",
       "    .dataframe thead th {\n",
       "        text-align: right;\n",
       "    }\n",
       "</style>\n",
       "<table border=\"1\" class=\"dataframe\">\n",
       "  <thead>\n",
       "    <tr style=\"text-align: right;\">\n",
       "      <th></th>\n",
       "      <th>nome</th>\n",
       "      <th>obs</th>\n",
       "      <th>rate</th>\n",
       "    </tr>\n",
       "  </thead>\n",
       "  <tbody>\n",
       "    <tr>\n",
       "      <th>0</th>\n",
       "      <td>Dunkirk (2017) - IMDb</td>\n",
       "      <td>543.268</td>\n",
       "      <td>7.9</td>\n",
       "    </tr>\n",
       "    <tr>\n",
       "      <th>1</th>\n",
       "      <td>Piratas do Caribe: A Vinganca de Salazar (2017...</td>\n",
       "      <td>259.112</td>\n",
       "      <td>6.6</td>\n",
       "    </tr>\n",
       "    <tr>\n",
       "      <th>2</th>\n",
       "      <td>Soul Surfer: Coragem de Viver (2011) - IMDb</td>\n",
       "      <td>45.257</td>\n",
       "      <td>7.0</td>\n",
       "    </tr>\n",
       "    <tr>\n",
       "      <th>3</th>\n",
       "      <td>Top Gun: Ases Indomaveis (1986) - IMDb</td>\n",
       "      <td>291.570</td>\n",
       "      <td>6.9</td>\n",
       "    </tr>\n",
       "    <tr>\n",
       "      <th>4</th>\n",
       "      <td>A Lista de Schindler (1993) - IMDb</td>\n",
       "      <td>1.198.580</td>\n",
       "      <td>8.9</td>\n",
       "    </tr>\n",
       "    <tr>\n",
       "      <th>5</th>\n",
       "      <td>Dunkirk (2017) - IMDb</td>\n",
       "      <td>543.268</td>\n",
       "      <td>7.9</td>\n",
       "    </tr>\n",
       "    <tr>\n",
       "      <th>6</th>\n",
       "      <td>Piratas do Caribe: A Vinganca de Salazar (2017...</td>\n",
       "      <td>259.112</td>\n",
       "      <td>6.6</td>\n",
       "    </tr>\n",
       "    <tr>\n",
       "      <th>7</th>\n",
       "      <td>Soul Surfer: Coragem de Viver (2011) - IMDb</td>\n",
       "      <td>45.257</td>\n",
       "      <td>7.0</td>\n",
       "    </tr>\n",
       "    <tr>\n",
       "      <th>8</th>\n",
       "      <td>Top Gun: Ases Indomaveis (1986) - IMDb</td>\n",
       "      <td>291.570</td>\n",
       "      <td>6.9</td>\n",
       "    </tr>\n",
       "    <tr>\n",
       "      <th>9</th>\n",
       "      <td>A Lista de Schindler (1993) - IMDb</td>\n",
       "      <td>1.198.580</td>\n",
       "      <td>8.9</td>\n",
       "    </tr>\n",
       "    <tr>\n",
       "      <th>10</th>\n",
       "      <td>A Lista de Gustavo (2020) - IMDb</td>\n",
       "      <td>1.198.580</td>\n",
       "      <td>8.9</td>\n",
       "    </tr>\n",
       "  </tbody>\n",
       "</table>\n",
       "</div>"
      ],
      "text/plain": [
       "                                                 nome        obs  rate\n",
       "0                               Dunkirk (2017) - IMDb    543.268   7.9\n",
       "1   Piratas do Caribe: A Vinganca de Salazar (2017...    259.112   6.6\n",
       "2         Soul Surfer: Coragem de Viver (2011) - IMDb     45.257   7.0\n",
       "3              Top Gun: Ases Indomaveis (1986) - IMDb    291.570   6.9\n",
       "4                  A Lista de Schindler (1993) - IMDb  1.198.580   8.9\n",
       "5                               Dunkirk (2017) - IMDb    543.268   7.9\n",
       "6   Piratas do Caribe: A Vinganca de Salazar (2017...    259.112   6.6\n",
       "7         Soul Surfer: Coragem de Viver (2011) - IMDb     45.257   7.0\n",
       "8              Top Gun: Ases Indomaveis (1986) - IMDb    291.570   6.9\n",
       "9                  A Lista de Schindler (1993) - IMDb  1.198.580   8.9\n",
       "10                   A Lista de Gustavo (2020) - IMDb  1.198.580   8.9"
      ]
     },
     "execution_count": 12,
     "metadata": {},
     "output_type": "execute_result"
    }
   ],
   "source": [
    "pd.read_csv(\"ex_save_filmes.csv\")"
   ]
  },
  {
   "cell_type": "code",
   "execution_count": null,
   "metadata": {},
   "outputs": [],
   "source": []
  },
  {
   "cell_type": "markdown",
   "metadata": {},
   "source": [
    "Podemos ler um arquivo em formato CSV, por exemplo, e transforma-lo em uma base (dataframe)."
   ]
  },
  {
   "cell_type": "code",
   "execution_count": 7,
   "metadata": {},
   "outputs": [],
   "source": [
    "df1 = pd.read_csv(\"filmes.csv\", header = None, names=['nome', 'obs', 'rate']) "
   ]
  },
  {
   "cell_type": "code",
   "execution_count": 13,
   "metadata": {},
   "outputs": [
    {
     "data": {
      "text/html": [
       "<div>\n",
       "<style scoped>\n",
       "    .dataframe tbody tr th:only-of-type {\n",
       "        vertical-align: middle;\n",
       "    }\n",
       "\n",
       "    .dataframe tbody tr th {\n",
       "        vertical-align: top;\n",
       "    }\n",
       "\n",
       "    .dataframe thead th {\n",
       "        text-align: right;\n",
       "    }\n",
       "</style>\n",
       "<table border=\"1\" class=\"dataframe\">\n",
       "  <thead>\n",
       "    <tr style=\"text-align: right;\">\n",
       "      <th></th>\n",
       "      <th>nome</th>\n",
       "      <th>obs</th>\n",
       "      <th>rate</th>\n",
       "    </tr>\n",
       "  </thead>\n",
       "  <tbody>\n",
       "    <tr>\n",
       "      <th>0</th>\n",
       "      <td>Dunkirk (2017) - IMDb</td>\n",
       "      <td>543.268</td>\n",
       "      <td>7.9</td>\n",
       "    </tr>\n",
       "    <tr>\n",
       "      <th>1</th>\n",
       "      <td>Piratas do Caribe: A Vinganca de Salazar (2017...</td>\n",
       "      <td>259.112</td>\n",
       "      <td>6.6</td>\n",
       "    </tr>\n",
       "    <tr>\n",
       "      <th>2</th>\n",
       "      <td>Soul Surfer: Coragem de Viver (2011) - IMDb</td>\n",
       "      <td>45.257</td>\n",
       "      <td>7.0</td>\n",
       "    </tr>\n",
       "    <tr>\n",
       "      <th>3</th>\n",
       "      <td>Top Gun: Ases Indomaveis (1986) - IMDb</td>\n",
       "      <td>291.570</td>\n",
       "      <td>6.9</td>\n",
       "    </tr>\n",
       "    <tr>\n",
       "      <th>4</th>\n",
       "      <td>A Lista de Schindler (1993) - IMDb</td>\n",
       "      <td>1.198.580</td>\n",
       "      <td>8.9</td>\n",
       "    </tr>\n",
       "    <tr>\n",
       "      <th>5</th>\n",
       "      <td>Dunkirk (2017) - IMDb</td>\n",
       "      <td>543.268</td>\n",
       "      <td>7.9</td>\n",
       "    </tr>\n",
       "    <tr>\n",
       "      <th>6</th>\n",
       "      <td>Piratas do Caribe: A Vinganca de Salazar (2017...</td>\n",
       "      <td>259.112</td>\n",
       "      <td>6.6</td>\n",
       "    </tr>\n",
       "    <tr>\n",
       "      <th>7</th>\n",
       "      <td>Soul Surfer: Coragem de Viver (2011) - IMDb</td>\n",
       "      <td>45.257</td>\n",
       "      <td>7.0</td>\n",
       "    </tr>\n",
       "    <tr>\n",
       "      <th>8</th>\n",
       "      <td>Top Gun: Ases Indomaveis (1986) - IMDb</td>\n",
       "      <td>291.570</td>\n",
       "      <td>6.9</td>\n",
       "    </tr>\n",
       "    <tr>\n",
       "      <th>9</th>\n",
       "      <td>A Lista de Schindler (1993) - IMDb</td>\n",
       "      <td>1.198.580</td>\n",
       "      <td>8.9</td>\n",
       "    </tr>\n",
       "    <tr>\n",
       "      <th>10</th>\n",
       "      <td>A Lista de Gustavo (2020) - IMDb</td>\n",
       "      <td>1.198.580</td>\n",
       "      <td>8.9</td>\n",
       "    </tr>\n",
       "  </tbody>\n",
       "</table>\n",
       "</div>"
      ],
      "text/plain": [
       "                                                 nome        obs  rate\n",
       "0                               Dunkirk (2017) - IMDb    543.268   7.9\n",
       "1   Piratas do Caribe: A Vinganca de Salazar (2017...    259.112   6.6\n",
       "2         Soul Surfer: Coragem de Viver (2011) - IMDb     45.257   7.0\n",
       "3              Top Gun: Ases Indomaveis (1986) - IMDb    291.570   6.9\n",
       "4                  A Lista de Schindler (1993) - IMDb  1.198.580   8.9\n",
       "5                               Dunkirk (2017) - IMDb    543.268   7.9\n",
       "6   Piratas do Caribe: A Vinganca de Salazar (2017...    259.112   6.6\n",
       "7         Soul Surfer: Coragem de Viver (2011) - IMDb     45.257   7.0\n",
       "8              Top Gun: Ases Indomaveis (1986) - IMDb    291.570   6.9\n",
       "9                  A Lista de Schindler (1993) - IMDb  1.198.580   8.9\n",
       "10                   A Lista de Gustavo (2020) - IMDb  1.198.580   8.9"
      ]
     },
     "execution_count": 13,
     "metadata": {},
     "output_type": "execute_result"
    }
   ],
   "source": [
    "df1"
   ]
  },
  {
   "cell_type": "markdown",
   "metadata": {},
   "source": [
    "Salvar uma base de dados em csv."
   ]
  },
  {
   "cell_type": "code",
   "execution_count": 11,
   "metadata": {},
   "outputs": [],
   "source": [
    "df1.to_csv('ex_save_filmes.csv', index=False)"
   ]
  },
  {
   "cell_type": "markdown",
   "metadata": {},
   "source": [
    "O mesmo pode-se aplicar para o [pickle](). Podemos ler e salvar bases de dados em pickle"
   ]
  },
  {
   "cell_type": "code",
   "execution_count": 14,
   "metadata": {},
   "outputs": [],
   "source": [
    "dfp = pd.read_pickle(\"dados.pkl\")"
   ]
  },
  {
   "cell_type": "code",
   "execution_count": 15,
   "metadata": {},
   "outputs": [
    {
     "data": {
      "text/plain": [
       "['KFD0001',\n",
       " 'KFD0002',\n",
       " 'KFD0003',\n",
       " 'KFD0004',\n",
       " 'KFD0005',\n",
       " 'KFD0006',\n",
       " 'KFD0007',\n",
       " 'KFD0008',\n",
       " 'KFD0009',\n",
       " 'KFD0010',\n",
       " 'KFD0011',\n",
       " 'KFD0012',\n",
       " 'KFD0013',\n",
       " 'KFD0014',\n",
       " 'KFD0015',\n",
       " 'KFD0016',\n",
       " 'KFD0017',\n",
       " 'KFD0018',\n",
       " 'KFD0019',\n",
       " 'KFD0020',\n",
       " 'KFD0021',\n",
       " 'KFD0022',\n",
       " 'KFD0023',\n",
       " 'KFD0024',\n",
       " 'KFD0025',\n",
       " 'KFD0026',\n",
       " 'KFD0027',\n",
       " 'KFD0028',\n",
       " 'KFD0029',\n",
       " 'KFD0030',\n",
       " 'KFD0031',\n",
       " 'KFD0032',\n",
       " 'KFD0033',\n",
       " 'KFD0034',\n",
       " 'KFD0035',\n",
       " 'KFD0036',\n",
       " 'KFD0037',\n",
       " 'KFD0038',\n",
       " 'KFD0039',\n",
       " 'KFD0040',\n",
       " 'KFD0041',\n",
       " 'KFD0042',\n",
       " 'KFD0043',\n",
       " 'KFD0044',\n",
       " 'KFD0045',\n",
       " 'KFD0046',\n",
       " 'KFD0047',\n",
       " 'KFD0048',\n",
       " 'KFD0049',\n",
       " 'KFD0050',\n",
       " 'KFD0051',\n",
       " 'KFD0052',\n",
       " 'KFD0053',\n",
       " 'KFD0054',\n",
       " 'KFD0055',\n",
       " 'KFD0056',\n",
       " 'KFD0057',\n",
       " 'KFD0058',\n",
       " 'KFD0059',\n",
       " 'KFD0060',\n",
       " 'KFD0061',\n",
       " 'KFD0062',\n",
       " 'KFD0063',\n",
       " 'KFD0064',\n",
       " 'KFD0065',\n",
       " 'KFD0066',\n",
       " 'KFD0067',\n",
       " 'KFD0068',\n",
       " 'KFD0069',\n",
       " 'KFD0070',\n",
       " 'KFD0071',\n",
       " 'KFD0072',\n",
       " 'KFD0073',\n",
       " 'KFD0074',\n",
       " 'KFD0075',\n",
       " 'KFD0076',\n",
       " 'KFD0077',\n",
       " 'KFD0078',\n",
       " 'KFD0079',\n",
       " 'KFD0080',\n",
       " 'KFD0081',\n",
       " 'KFD0082',\n",
       " 'KFD0083',\n",
       " 'KFD0084',\n",
       " 'KFD0085',\n",
       " 'KFD0086',\n",
       " 'KFD0087',\n",
       " 'KFD0088',\n",
       " 'KFD0089',\n",
       " 'KFD0090',\n",
       " 'KFD0091',\n",
       " 'KFD0092',\n",
       " 'KFD0093',\n",
       " 'KFD0094',\n",
       " 'KFD0095',\n",
       " 'KFD0096',\n",
       " 'KFD0097',\n",
       " 'KFD0098',\n",
       " 'KFD0099',\n",
       " 'KFD0100',\n",
       " 'KFD0101',\n",
       " 'KFD0102',\n",
       " 'KFD0103',\n",
       " 'KFD0104',\n",
       " 'KFD0105',\n",
       " 'KFD0106',\n",
       " 'KFD0107',\n",
       " 'KFD0108',\n",
       " 'KFD0109',\n",
       " 'KFD0110',\n",
       " 'KFD0111',\n",
       " 'KFD0112',\n",
       " 'KFD0113',\n",
       " 'KFD0114',\n",
       " 'KFD0115',\n",
       " 'KFD0116',\n",
       " 'KFD0117',\n",
       " 'KFD0118',\n",
       " 'KFD0119',\n",
       " 'KFD0120',\n",
       " 'KFD0121',\n",
       " 'KFD0122',\n",
       " 'KFD0123',\n",
       " 'KFD0124',\n",
       " 'KFD0125',\n",
       " 'KFD0126',\n",
       " 'KFD0127',\n",
       " 'KFD0128',\n",
       " 'KFD0129',\n",
       " 'KFD0130',\n",
       " 'KFD0131',\n",
       " 'KFD0132',\n",
       " 'KFD0133',\n",
       " 'KFD0134',\n",
       " 'KFD0135',\n",
       " 'KFD0136',\n",
       " 'KFD0137',\n",
       " 'KFD0138',\n",
       " 'KFD0139',\n",
       " 'KFD0140',\n",
       " 'KFD0141',\n",
       " 'KFD0142',\n",
       " 'KFD0143',\n",
       " 'KFD0144',\n",
       " 'KFD0145',\n",
       " 'KFD0146',\n",
       " 'KFD0147',\n",
       " 'KFD0148',\n",
       " 'KFD0149',\n",
       " 'KFD0150',\n",
       " 'KFD0151',\n",
       " 'KFD0152',\n",
       " 'KFD0153',\n",
       " 'KFD0154',\n",
       " 'KFD0155',\n",
       " 'KFD0156',\n",
       " 'KFD0157',\n",
       " 'KFD0158',\n",
       " 'KFD0159',\n",
       " 'KFD0160',\n",
       " 'KFD0161',\n",
       " 'KFD0162',\n",
       " 'KFD0163',\n",
       " 'KFD0164',\n",
       " 'KFD0165',\n",
       " 'KFD0166',\n",
       " 'KFD0167',\n",
       " 'KFD0168',\n",
       " 'KFD0169',\n",
       " 'KFD0170',\n",
       " 'KFD0171',\n",
       " 'KFD0172',\n",
       " 'KFD0173',\n",
       " 'KFD0174',\n",
       " 'KFD0175',\n",
       " 'KFD0176',\n",
       " 'KFD0177',\n",
       " 'KFD0178',\n",
       " 'KFD0179',\n",
       " 'KFD0180',\n",
       " 'KFD0181',\n",
       " 'KFD0182',\n",
       " 'KFD0183',\n",
       " 'KFD0184',\n",
       " 'KFD0185',\n",
       " 'KFD0186',\n",
       " 'KFD0187',\n",
       " 'KFD0188',\n",
       " 'KFD0189',\n",
       " 'KFD0190',\n",
       " 'KFD0191',\n",
       " 'KFD0192',\n",
       " 'KFD0193',\n",
       " 'KFD0194',\n",
       " 'KFD0195',\n",
       " 'KFD0196',\n",
       " 'KFD0197',\n",
       " 'KFD0198',\n",
       " 'KFD0199',\n",
       " 'KFD0200',\n",
       " 'KFD0201',\n",
       " 'KFD0202',\n",
       " 'KFD0203',\n",
       " 'KFD0204',\n",
       " 'KFD0205',\n",
       " 'KFD0206',\n",
       " 'KFD0207',\n",
       " 'KFD0208',\n",
       " 'KFD0209',\n",
       " 'KFD0210',\n",
       " 'KFD0211',\n",
       " 'KFD0212',\n",
       " 'KFD0213',\n",
       " 'KFD0214',\n",
       " 'KFD0215',\n",
       " 'KFD0216',\n",
       " 'KFD0217',\n",
       " 'KFD0218',\n",
       " 'KFD0219',\n",
       " 'KFD0220',\n",
       " 'KFD0221',\n",
       " 'KFD0222',\n",
       " 'KFD0223',\n",
       " 'KFD0224',\n",
       " 'KFD0225',\n",
       " 'KFD0226',\n",
       " 'KFD0227',\n",
       " 'KFD0228',\n",
       " 'KFD0229',\n",
       " 'KFD0230',\n",
       " 'KFD0231',\n",
       " 'KFD0232',\n",
       " 'KFD0233',\n",
       " 'KFD0234',\n",
       " 'KFD0235',\n",
       " 'KFD0236',\n",
       " 'KFD0237',\n",
       " 'KFD0238',\n",
       " 'KFD0239',\n",
       " 'KFD0240',\n",
       " 'KFD0241',\n",
       " 'KFD0242',\n",
       " 'KFD0243',\n",
       " 'KFD0244',\n",
       " 'KFD0245',\n",
       " 'KFD0246',\n",
       " 'KFD0247',\n",
       " 'KFD0248',\n",
       " 'KFD0249',\n",
       " 'KFD0250',\n",
       " 'KFD0251',\n",
       " 'KFD0252',\n",
       " 'KFD0253',\n",
       " 'KFD0254',\n",
       " 'KFD0255',\n",
       " 'KFD0256',\n",
       " 'KFD0257',\n",
       " 'KFD0258',\n",
       " 'KFD0259',\n",
       " 'KFD0260',\n",
       " 'KFD0261',\n",
       " 'KFD0262',\n",
       " 'KFD0263',\n",
       " 'KFD0264',\n",
       " 'KFD0265',\n",
       " 'KFD0266',\n",
       " 'KFD0267',\n",
       " 'KFD0268',\n",
       " 'KFD0269',\n",
       " 'KFD0270',\n",
       " 'KFD0271',\n",
       " 'KFD0272',\n",
       " 'KFD0273',\n",
       " 'KFD0274',\n",
       " 'KFD0275',\n",
       " 'KFD0276',\n",
       " 'KFD0277',\n",
       " 'KFD0278',\n",
       " 'KFD0279',\n",
       " 'KFD0280',\n",
       " 'KFD0281',\n",
       " 'KFD0282',\n",
       " 'KFD0283',\n",
       " 'KFD0284',\n",
       " 'KFD0285',\n",
       " 'KFD0286',\n",
       " 'KFD0287',\n",
       " 'KFD0288',\n",
       " 'KFD0289',\n",
       " 'KFD0290',\n",
       " 'KFD0291',\n",
       " 'KFD0292',\n",
       " 'KFD0293',\n",
       " 'KFD0294',\n",
       " 'KFD0295',\n",
       " 'KFD0296',\n",
       " 'KFD0297',\n",
       " 'KFD0298',\n",
       " 'KFD0299',\n",
       " 'KFD0300',\n",
       " 'KFD0301',\n",
       " 'KFD0302',\n",
       " 'KFD0303',\n",
       " 'KFD0304',\n",
       " 'KFD0305',\n",
       " 'KFD0306',\n",
       " 'KFD0307',\n",
       " 'KFD0308',\n",
       " 'KFD0309',\n",
       " 'KFD0310',\n",
       " 'KFD0311',\n",
       " 'KFD0312',\n",
       " 'KFD0313',\n",
       " 'KFD0314',\n",
       " 'KFD0315',\n",
       " 'KFD0316',\n",
       " 'KFD0317',\n",
       " 'KFD0318',\n",
       " 'KFD0319',\n",
       " 'KFD0320',\n",
       " 'KFD0321',\n",
       " 'KFD0322',\n",
       " 'KFD0323',\n",
       " 'KFD0324',\n",
       " 'KFD0325',\n",
       " 'KFD0326',\n",
       " 'KFD0327',\n",
       " 'KFD0328',\n",
       " 'KFD0329',\n",
       " 'KFD0330',\n",
       " 'KFD0331',\n",
       " 'KFD0332',\n",
       " 'KFD0333',\n",
       " 'KFD0334',\n",
       " 'KFD0335',\n",
       " 'KFD0336',\n",
       " 'KFD0337',\n",
       " 'KFD0338',\n",
       " 'KFD0339',\n",
       " 'KFD0340',\n",
       " 'KFD0341',\n",
       " 'KFD0342',\n",
       " 'KFD0343',\n",
       " 'KFD0344',\n",
       " 'KFD0345',\n",
       " 'KFD0346',\n",
       " 'KFD0347',\n",
       " 'KFD0348',\n",
       " 'KFD0349',\n",
       " 'KFD0350',\n",
       " 'KFD0351',\n",
       " 'KFD0352',\n",
       " 'KFD0353',\n",
       " 'KFD0354',\n",
       " 'KFD0355',\n",
       " 'KFD0356',\n",
       " 'KFD0357',\n",
       " 'KFD0358',\n",
       " 'KFD0359',\n",
       " 'KFD0360',\n",
       " 'KFD0361',\n",
       " 'KFD0362',\n",
       " 'KFD0363',\n",
       " 'KFD0364',\n",
       " 'KFD0365',\n",
       " 'KFD0366',\n",
       " 'KFD0367',\n",
       " 'KFD0368',\n",
       " 'KFD0369',\n",
       " 'KFD0370',\n",
       " 'KFD0371',\n",
       " 'KFD0372',\n",
       " 'KFD0373',\n",
       " 'KFD0374',\n",
       " 'KFD0375',\n",
       " 'KFD0376',\n",
       " 'KFD0377',\n",
       " 'KFD0378',\n",
       " 'KFD0379',\n",
       " 'KFD0380',\n",
       " 'KFD0381',\n",
       " 'KFD0382',\n",
       " 'KFD0383',\n",
       " 'KFD0384',\n",
       " 'KFD0385',\n",
       " 'KFD0386',\n",
       " 'KFD0387',\n",
       " 'KFD0388',\n",
       " 'KFD0389',\n",
       " 'KFD0390',\n",
       " 'KFD0391',\n",
       " 'KFD0392',\n",
       " 'KFD0393',\n",
       " 'KFD0394',\n",
       " 'KFD0395',\n",
       " 'KFD0396',\n",
       " 'KFD0397',\n",
       " 'KFD0398',\n",
       " 'KFD0399',\n",
       " 'KFD0400',\n",
       " 'KFD0401',\n",
       " 'KFD0402',\n",
       " 'KFD0403',\n",
       " 'KFD0404',\n",
       " 'KFD0405',\n",
       " 'KFD0406',\n",
       " 'KFD0407',\n",
       " 'KFD0408',\n",
       " 'KFD0409',\n",
       " 'KFD0410',\n",
       " 'KFD0411',\n",
       " 'KFD0412',\n",
       " 'KFD0413',\n",
       " 'KFD0414',\n",
       " 'KFD0415',\n",
       " 'KFD0416',\n",
       " 'KFD0417',\n",
       " 'KFD0418',\n",
       " 'KFD0419',\n",
       " 'KFD0420',\n",
       " 'KFD0421',\n",
       " 'KFD0422',\n",
       " 'KFD0423',\n",
       " 'KFD0424',\n",
       " 'KFD0425',\n",
       " 'KFD0426',\n",
       " 'KFD0427',\n",
       " 'KFD0428',\n",
       " 'KFD0429',\n",
       " 'KFD0430',\n",
       " 'KFD0431',\n",
       " 'KFD0432',\n",
       " 'KFD0433',\n",
       " 'KFD0434',\n",
       " 'KFD0435',\n",
       " 'KFD0436',\n",
       " 'KFD0437',\n",
       " 'KFD0438',\n",
       " 'KFD0439',\n",
       " 'KFD0440',\n",
       " 'KFD0441',\n",
       " 'KFD0442',\n",
       " 'KFD0443',\n",
       " 'KFD0444',\n",
       " 'KFD0445',\n",
       " 'KFD0446',\n",
       " 'KFD0447',\n",
       " 'KFD0448',\n",
       " 'KFD0449',\n",
       " 'KFD0450',\n",
       " 'KFD0451',\n",
       " 'KFD0452',\n",
       " 'KFD0453',\n",
       " 'KFD0454',\n",
       " 'KFD0455',\n",
       " 'KFD0456',\n",
       " 'KFD0457',\n",
       " 'KFD0458',\n",
       " 'KFD0459',\n",
       " 'KFD0460',\n",
       " 'KFD0461',\n",
       " 'KFD0462',\n",
       " 'KFD0463',\n",
       " 'KFD0464',\n",
       " 'KFD0465',\n",
       " 'KFD0466',\n",
       " 'KFD0467',\n",
       " 'KFD0468',\n",
       " 'KFD0469',\n",
       " 'KFD0470',\n",
       " 'KFD0471',\n",
       " 'KFD0472',\n",
       " 'KFD0473',\n",
       " 'KFD0474',\n",
       " 'KFD0475',\n",
       " 'KFD0476',\n",
       " 'KFD0477',\n",
       " 'KFD0478',\n",
       " 'KFD0479',\n",
       " 'KFD0480',\n",
       " 'KFD0481',\n",
       " 'KFD0482',\n",
       " 'KFD0483',\n",
       " 'KFD0484',\n",
       " 'KFD0485',\n",
       " 'KFD0486',\n",
       " 'KFD0487',\n",
       " 'KFD0488',\n",
       " 'KFD0489',\n",
       " 'KFD0490',\n",
       " 'KFD0491',\n",
       " 'KFD0492',\n",
       " 'KFD0493',\n",
       " 'KFD0494',\n",
       " 'KFD0495',\n",
       " 'KFD0496',\n",
       " 'KFD0497',\n",
       " 'KFD0498',\n",
       " 'KFD0499',\n",
       " 'KFD0500',\n",
       " 'KFD0501',\n",
       " 'KFD0502',\n",
       " 'KFD0503',\n",
       " 'KFD0504',\n",
       " 'KFD0505',\n",
       " 'KFD0506',\n",
       " 'KFD0507',\n",
       " 'KFD0508',\n",
       " 'KFD0509',\n",
       " 'KFD0510',\n",
       " 'KFD0511',\n",
       " 'KFD0512',\n",
       " 'KFD0513',\n",
       " 'KFD0514',\n",
       " 'KFD0515',\n",
       " 'KFD0516',\n",
       " 'KFD0517',\n",
       " 'KFD0518',\n",
       " 'KFD0519',\n",
       " 'KFD0520',\n",
       " 'KFD0521',\n",
       " 'KFD0522',\n",
       " 'KFD0523',\n",
       " 'KFD0524',\n",
       " 'KFD0525',\n",
       " 'KFD0526',\n",
       " 'KFD0527',\n",
       " 'KFD0528',\n",
       " 'KFD0529',\n",
       " 'KFD0530',\n",
       " 'KFD0531',\n",
       " 'KFD0532',\n",
       " 'KFD0533',\n",
       " 'KFD0534',\n",
       " 'KFD0535',\n",
       " 'KFD0536',\n",
       " 'KFD0537',\n",
       " 'KFD0538',\n",
       " 'KFD0539',\n",
       " 'KFD0540',\n",
       " 'KFD0541',\n",
       " 'KFD0542',\n",
       " 'KFD0543',\n",
       " 'KFD0544',\n",
       " 'KFD0545',\n",
       " 'KFD0546',\n",
       " 'KFD0547',\n",
       " 'KFD0548',\n",
       " 'KFD0549',\n",
       " 'KFD0550',\n",
       " 'KFD0551',\n",
       " 'KFD0552',\n",
       " 'KFD0553',\n",
       " 'KFD0554',\n",
       " 'KFD0555',\n",
       " 'KFD0556',\n",
       " 'KFD0557',\n",
       " 'KFD0558',\n",
       " 'KFD0559',\n",
       " 'KFD0560',\n",
       " 'KFD0561',\n",
       " 'KFD0562',\n",
       " 'KFD0563',\n",
       " 'KFD0564',\n",
       " 'KFD0565',\n",
       " 'KFD0566',\n",
       " 'KFD0567',\n",
       " 'KFD0568',\n",
       " 'KFD0569',\n",
       " 'KFD0570',\n",
       " 'KFD0571',\n",
       " 'KFD0572',\n",
       " 'KFD0573',\n",
       " 'KFD0574',\n",
       " 'KFD0575',\n",
       " 'KFD0576',\n",
       " 'KFD0577',\n",
       " 'KFD0578',\n",
       " 'KFD0579',\n",
       " 'KFD0580',\n",
       " 'KFD0581',\n",
       " 'KFD0582',\n",
       " 'KFD0583',\n",
       " 'KFD0584',\n",
       " 'KFD0585',\n",
       " 'KFD0586',\n",
       " 'KFD0587',\n",
       " 'KFD0588',\n",
       " 'KFD0589',\n",
       " 'KFD0590',\n",
       " 'KFD0591',\n",
       " 'KFD0592',\n",
       " 'KFD0593',\n",
       " 'KFD0594',\n",
       " 'KFD0595',\n",
       " 'KFD0596',\n",
       " 'KFD0597',\n",
       " 'KFD0598',\n",
       " 'KFD0599',\n",
       " 'KFD0600',\n",
       " 'KFD0601',\n",
       " 'KFD0602',\n",
       " 'KFD0603',\n",
       " 'KFD0604',\n",
       " 'KFD0605',\n",
       " 'KFD0606',\n",
       " 'KFD0607',\n",
       " 'KFD0608',\n",
       " 'KFD0609',\n",
       " 'KFD0610',\n",
       " 'KFD0611',\n",
       " 'KFD0612',\n",
       " 'KFD0613',\n",
       " 'KFD0614',\n",
       " 'KFD0615',\n",
       " 'KFD0616',\n",
       " 'KFD0617',\n",
       " 'KFD0618',\n",
       " 'KFD0619',\n",
       " 'KFD0620',\n",
       " 'KFD0621',\n",
       " 'KFD0622',\n",
       " 'KFD0623',\n",
       " 'KFD0624',\n",
       " 'KFD0625',\n",
       " 'KFD0626',\n",
       " 'KFD0627',\n",
       " 'KFD0628',\n",
       " 'KFD0629',\n",
       " 'KFD0630',\n",
       " 'KFD0631',\n",
       " 'KFD0632',\n",
       " 'KFD0633',\n",
       " 'KFD0634',\n",
       " 'KFD0635',\n",
       " 'KFD0636',\n",
       " 'KFD0637',\n",
       " 'KFD0638',\n",
       " 'KFD0639',\n",
       " 'KFD0640',\n",
       " 'KFD0641',\n",
       " 'KFD0642',\n",
       " 'KFD0643',\n",
       " 'KFD0644',\n",
       " 'KFD0645',\n",
       " 'KFD0646',\n",
       " 'KFD0647',\n",
       " 'KFD0648',\n",
       " 'KFD0649',\n",
       " 'KFD0650',\n",
       " 'KFD0651',\n",
       " 'KFD0652',\n",
       " 'KFD0653',\n",
       " 'KFD0654',\n",
       " 'KFD0655',\n",
       " 'KFD0656',\n",
       " 'KFD0657',\n",
       " 'KFD0658',\n",
       " 'KFD0659',\n",
       " 'KFD0660',\n",
       " 'KFD0661',\n",
       " 'KFD0662',\n",
       " 'KFD0663',\n",
       " 'KFD0664',\n",
       " 'KFD0665',\n",
       " 'KFD0666',\n",
       " 'KFD0667',\n",
       " 'KFD0668',\n",
       " 'KFD0669',\n",
       " 'KFD0670',\n",
       " 'KFD0671',\n",
       " 'KFD0672',\n",
       " 'KFD0673',\n",
       " 'KFD0674',\n",
       " 'KFD0675',\n",
       " 'KFD0676',\n",
       " 'KFD0677',\n",
       " 'KFD0678',\n",
       " 'KFD0679',\n",
       " 'KFD0680',\n",
       " 'KFD0681',\n",
       " 'KFD0682',\n",
       " 'KFD0683',\n",
       " 'KFD0684',\n",
       " 'KFD0685',\n",
       " 'KFD0686',\n",
       " 'KFD0687',\n",
       " 'KFD0688',\n",
       " 'KFD0689',\n",
       " 'KFD0690',\n",
       " 'KFD0691',\n",
       " 'KFD0692',\n",
       " 'KFD0693',\n",
       " 'KFD0694',\n",
       " 'KFD0695',\n",
       " 'KFD0696',\n",
       " 'KFD0697',\n",
       " 'KFD0698',\n",
       " 'KFD0699',\n",
       " 'KFD0700',\n",
       " 'KFD0701',\n",
       " 'KFD0702',\n",
       " 'KFD0703',\n",
       " 'KFD0704',\n",
       " 'KFD0705',\n",
       " 'KFD0706',\n",
       " 'KFD0707',\n",
       " 'KFD0708',\n",
       " 'KFD0709',\n",
       " 'KFD0710',\n",
       " 'KFD0711',\n",
       " 'KFD0712',\n",
       " 'KFD0713',\n",
       " 'KFD0714',\n",
       " 'KFD0715',\n",
       " 'KFD0716',\n",
       " 'KFD0717',\n",
       " 'KFD0718',\n",
       " 'KFD0719',\n",
       " 'KFD0720',\n",
       " 'KFD0721',\n",
       " 'KFD0722',\n",
       " 'KFD0723',\n",
       " 'KFD0724',\n",
       " 'KFD0725',\n",
       " 'KFD0726',\n",
       " 'KFD0727',\n",
       " 'KFD0728',\n",
       " 'KFD0729',\n",
       " 'KFD0730',\n",
       " 'KFD0731',\n",
       " 'KFD0732',\n",
       " 'KFD0733',\n",
       " 'KFD0734',\n",
       " 'KFD0735',\n",
       " 'KFD0736',\n",
       " 'KFD0737',\n",
       " 'KFD0738',\n",
       " 'KFD0739',\n",
       " 'KFD0740',\n",
       " 'KFD0741',\n",
       " 'KFD0742',\n",
       " 'KFD0743',\n",
       " 'KFD0744',\n",
       " 'KFD0745',\n",
       " 'KFD0746',\n",
       " 'KFD0747',\n",
       " 'KFD0748',\n",
       " 'KFD0749',\n",
       " 'KFD0750',\n",
       " 'KFD0751',\n",
       " 'KFD0752',\n",
       " 'KFD0753',\n",
       " 'KFD0754',\n",
       " 'KFD0755',\n",
       " 'KFD0756',\n",
       " 'KFD0757',\n",
       " 'KFD0758',\n",
       " 'KFD0759',\n",
       " 'KFD0760',\n",
       " 'KFD0761',\n",
       " 'KFD0762',\n",
       " 'KFD0763',\n",
       " 'KFD0764',\n",
       " 'KFD0765',\n",
       " 'KFD0766',\n",
       " 'KFD0767',\n",
       " 'KFD0768',\n",
       " 'KFD0769',\n",
       " 'KFD0770',\n",
       " 'KFD0771',\n",
       " 'KFD0772',\n",
       " 'KFD0773',\n",
       " 'KFD0774',\n",
       " 'KFD0775',\n",
       " 'KFD0776',\n",
       " 'KFD0777',\n",
       " 'KFD0778',\n",
       " 'KFD0779',\n",
       " 'KFD0780',\n",
       " 'KFD0781',\n",
       " 'KFD0782',\n",
       " 'KFD0783',\n",
       " 'KFD0784',\n",
       " 'KFD0785',\n",
       " 'KFD0786',\n",
       " 'KFD0787',\n",
       " 'KFD0788',\n",
       " 'KFD0789',\n",
       " 'KFD0790',\n",
       " 'KFD0791',\n",
       " 'KFD0792',\n",
       " 'KFD0793',\n",
       " 'KFD0794',\n",
       " 'KFD0795',\n",
       " 'KFD0796',\n",
       " 'KFD0797',\n",
       " 'KFD0798',\n",
       " 'KFD0799',\n",
       " 'KFD0800',\n",
       " 'KFD0801',\n",
       " 'KFD0802',\n",
       " 'KFD0803',\n",
       " 'KFD0804',\n",
       " 'KFD0805',\n",
       " 'KFD0806',\n",
       " 'KFD0807',\n",
       " 'KFD0808',\n",
       " 'KFD0809',\n",
       " 'KFD0810',\n",
       " 'KFD0811',\n",
       " 'KFD0812',\n",
       " 'KFD0813',\n",
       " 'KFD0814',\n",
       " 'KFD0815',\n",
       " 'KFD0816',\n",
       " 'KFD0817',\n",
       " 'KFD0818',\n",
       " 'KFD0819',\n",
       " 'KFD0820',\n",
       " 'KFD0821',\n",
       " 'KFD0822',\n",
       " 'KFD0823',\n",
       " 'KFD0824',\n",
       " 'KFD0825',\n",
       " 'KFD0826',\n",
       " 'KFD0827',\n",
       " 'KFD0828',\n",
       " 'KFD0829',\n",
       " 'KFD0830',\n",
       " 'KFD0831',\n",
       " 'KFD0832',\n",
       " 'KFD0833',\n",
       " 'KFD0834',\n",
       " 'KFD0835',\n",
       " 'KFD0836',\n",
       " 'KFD0837',\n",
       " 'KFD0838',\n",
       " 'KFD0839',\n",
       " 'KFD0840',\n",
       " 'KFD0841',\n",
       " 'KFD0842',\n",
       " 'KFD0843',\n",
       " 'KFD0844',\n",
       " 'KFD0845',\n",
       " 'KFD0846',\n",
       " 'KFD0847',\n",
       " 'KFD0848',\n",
       " 'KFD0849',\n",
       " 'KFD0850',\n",
       " 'KFD0851',\n",
       " 'KFD0852',\n",
       " 'KFD0853',\n",
       " 'KFD0854',\n",
       " 'KFD0855',\n",
       " 'KFD0856',\n",
       " 'KFD0857',\n",
       " 'KFD0858',\n",
       " 'KFD0859',\n",
       " 'KFD0860',\n",
       " 'KFD0861',\n",
       " 'KFD0862',\n",
       " 'KFD0863',\n",
       " 'KFD0864',\n",
       " 'KFD0865',\n",
       " 'KFD0866',\n",
       " 'KFD0867',\n",
       " 'KFD0868',\n",
       " 'KFD0869',\n",
       " 'KFD0870',\n",
       " 'KFD0871',\n",
       " 'KFD0872',\n",
       " 'KFD0873',\n",
       " 'KFD0874',\n",
       " 'KFD0875',\n",
       " 'KFD0876',\n",
       " 'KFD0877',\n",
       " 'KFD0878',\n",
       " 'KFD0879',\n",
       " 'KFD0880',\n",
       " 'KFD0881',\n",
       " 'KFD0882',\n",
       " 'KFD0883',\n",
       " 'KFD0884',\n",
       " 'KFD0885',\n",
       " 'KFD0886',\n",
       " 'KFD0887',\n",
       " 'KFD0888',\n",
       " 'KFD0889',\n",
       " 'KFD0890',\n",
       " 'KFD0891',\n",
       " 'KFD0892',\n",
       " 'KFD0893',\n",
       " 'KFD0894',\n",
       " 'KFD0895',\n",
       " 'KFD0896',\n",
       " 'KFD0897',\n",
       " 'KFD0898',\n",
       " 'KFD0899',\n",
       " 'KFD0900',\n",
       " 'KFD0901',\n",
       " 'KFD0902',\n",
       " 'KFD0903',\n",
       " 'KFD0904',\n",
       " 'KFD0905',\n",
       " 'KFD0906',\n",
       " 'KFD0907',\n",
       " 'KFD0908',\n",
       " 'KFD0909',\n",
       " 'KFD0910',\n",
       " 'KFD0911',\n",
       " 'KFD0912',\n",
       " 'KFD0913',\n",
       " 'KFD0914',\n",
       " 'KFD0915',\n",
       " 'KFD0916',\n",
       " 'KFD0917',\n",
       " 'KFD0918',\n",
       " 'KFD0919',\n",
       " 'KFD0920',\n",
       " 'KFD0921',\n",
       " 'KFD0922',\n",
       " 'KFD0923',\n",
       " 'KFD0924',\n",
       " 'KFD0925',\n",
       " 'KFD0926',\n",
       " 'KFD0927',\n",
       " 'KFD0928',\n",
       " 'KFD0929',\n",
       " 'KFD0930',\n",
       " 'KFD0931',\n",
       " 'KFD0932',\n",
       " 'KFD0933',\n",
       " 'KFD0934',\n",
       " 'KFD0935',\n",
       " 'KFD0936',\n",
       " 'KFD0937',\n",
       " 'KFD0938',\n",
       " 'KFD0939',\n",
       " 'KFD0940',\n",
       " 'KFD0941',\n",
       " 'KFD0942',\n",
       " 'KFD0943',\n",
       " 'KFD0944',\n",
       " 'KFD0945',\n",
       " 'KFD0946',\n",
       " 'KFD0947',\n",
       " 'KFD0948',\n",
       " 'KFD0949',\n",
       " 'KFD0950',\n",
       " 'KFD0951',\n",
       " 'KFD0952',\n",
       " 'KFD0953',\n",
       " 'KFD0954',\n",
       " 'KFD0955',\n",
       " 'KFD0956',\n",
       " 'KFD0957',\n",
       " 'KFD0958',\n",
       " 'KFD0959',\n",
       " 'KFD0960',\n",
       " 'KFD0961',\n",
       " 'KFD0962',\n",
       " 'KFD0963',\n",
       " 'KFD0964',\n",
       " 'KFD0965',\n",
       " 'KFD0966',\n",
       " 'KFD0967',\n",
       " 'KFD0968',\n",
       " 'KFD0969',\n",
       " 'KFD0970',\n",
       " 'KFD0971',\n",
       " 'KFD0972',\n",
       " 'KFD0973',\n",
       " 'KFD0974',\n",
       " 'KFD0975',\n",
       " 'KFD0976',\n",
       " 'KFD0977',\n",
       " 'KFD0978',\n",
       " 'KFD0979',\n",
       " 'KFD0980',\n",
       " 'KFD0981',\n",
       " 'KFD0982',\n",
       " 'KFD0983',\n",
       " 'KFD0984',\n",
       " 'KFD0985',\n",
       " 'KFD0986',\n",
       " 'KFD0987',\n",
       " 'KFD0988',\n",
       " 'KFD0989',\n",
       " 'KFD0990',\n",
       " 'KFD0991',\n",
       " 'KFD0992',\n",
       " 'KFD0993',\n",
       " 'KFD0994',\n",
       " 'KFD0995',\n",
       " 'KFD0996',\n",
       " 'KFD0997',\n",
       " 'KFD0998',\n",
       " 'KFD0999',\n",
       " 'KFD1000',\n",
       " ...]"
      ]
     },
     "execution_count": 15,
     "metadata": {},
     "output_type": "execute_result"
    }
   ],
   "source": [
    "dfp"
   ]
  },
  {
   "cell_type": "code",
   "execution_count": 16,
   "metadata": {},
   "outputs": [],
   "source": [
    "dfp = pd.DataFrame(dfp)"
   ]
  },
  {
   "cell_type": "code",
   "execution_count": 17,
   "metadata": {},
   "outputs": [
    {
     "data": {
      "text/html": [
       "<div>\n",
       "<style scoped>\n",
       "    .dataframe tbody tr th:only-of-type {\n",
       "        vertical-align: middle;\n",
       "    }\n",
       "\n",
       "    .dataframe tbody tr th {\n",
       "        vertical-align: top;\n",
       "    }\n",
       "\n",
       "    .dataframe thead th {\n",
       "        text-align: right;\n",
       "    }\n",
       "</style>\n",
       "<table border=\"1\" class=\"dataframe\">\n",
       "  <thead>\n",
       "    <tr style=\"text-align: right;\">\n",
       "      <th></th>\n",
       "      <th>0</th>\n",
       "    </tr>\n",
       "  </thead>\n",
       "  <tbody>\n",
       "    <tr>\n",
       "      <th>0</th>\n",
       "      <td>KFD0001</td>\n",
       "    </tr>\n",
       "    <tr>\n",
       "      <th>1</th>\n",
       "      <td>KFD0002</td>\n",
       "    </tr>\n",
       "    <tr>\n",
       "      <th>2</th>\n",
       "      <td>KFD0003</td>\n",
       "    </tr>\n",
       "    <tr>\n",
       "      <th>3</th>\n",
       "      <td>KFD0004</td>\n",
       "    </tr>\n",
       "    <tr>\n",
       "      <th>4</th>\n",
       "      <td>KFD0005</td>\n",
       "    </tr>\n",
       "    <tr>\n",
       "      <th>...</th>\n",
       "      <td>...</td>\n",
       "    </tr>\n",
       "    <tr>\n",
       "      <th>3319663</th>\n",
       "      <td>PGZ9995</td>\n",
       "    </tr>\n",
       "    <tr>\n",
       "      <th>3319664</th>\n",
       "      <td>PGZ9996</td>\n",
       "    </tr>\n",
       "    <tr>\n",
       "      <th>3319665</th>\n",
       "      <td>PGZ9997</td>\n",
       "    </tr>\n",
       "    <tr>\n",
       "      <th>3319666</th>\n",
       "      <td>PGZ9998</td>\n",
       "    </tr>\n",
       "    <tr>\n",
       "      <th>3319667</th>\n",
       "      <td>PGZ9999</td>\n",
       "    </tr>\n",
       "  </tbody>\n",
       "</table>\n",
       "<p>3319668 rows × 1 columns</p>\n",
       "</div>"
      ],
      "text/plain": [
       "               0\n",
       "0        KFD0001\n",
       "1        KFD0002\n",
       "2        KFD0003\n",
       "3        KFD0004\n",
       "4        KFD0005\n",
       "...          ...\n",
       "3319663  PGZ9995\n",
       "3319664  PGZ9996\n",
       "3319665  PGZ9997\n",
       "3319666  PGZ9998\n",
       "3319667  PGZ9999\n",
       "\n",
       "[3319668 rows x 1 columns]"
      ]
     },
     "execution_count": 17,
     "metadata": {},
     "output_type": "execute_result"
    }
   ],
   "source": [
    "dfp"
   ]
  },
  {
   "cell_type": "code",
   "execution_count": 1,
   "metadata": {},
   "outputs": [],
   "source": [
    "import numpy as np"
   ]
  },
  {
   "cell_type": "code",
   "execution_count": 8,
   "metadata": {},
   "outputs": [],
   "source": [
    "np.random.seed(567)"
   ]
  },
  {
   "cell_type": "code",
   "execution_count": 9,
   "metadata": {},
   "outputs": [
    {
     "data": {
      "text/plain": [
       "array([[ 0.21326612, -0.09189941, -0.08934867,  0.26575572,  0.37606508],\n",
       "       [ 0.6880254 ,  0.51000161,  1.91412049,  0.72477369,  0.12458787],\n",
       "       [ 1.02339862,  2.22155722,  1.13090861, -0.65153792, -1.17998572],\n",
       "       [ 0.43710148, -0.60710181,  1.31095368, -0.66690959, -0.38272924],\n",
       "       [-1.03293277,  0.57399395, -1.18579928, -0.77424751, -1.19824265],\n",
       "       [ 1.50057385, -0.75121542, -1.65168677,  0.91781965,  1.0166081 ],\n",
       "       [-0.80994339,  0.89530748, -0.19849482, -0.07177955, -0.68935716],\n",
       "       [ 0.09576015, -0.6762695 , -0.65038794,  0.78450845, -1.11962807],\n",
       "       [ 0.48057002,  1.5662302 , -0.8464332 , -0.46807559, -0.06273988],\n",
       "       [-0.74608775,  1.27634714, -0.8574931 , -1.04794698,  1.17552777]])"
      ]
     },
     "execution_count": 9,
     "metadata": {},
     "output_type": "execute_result"
    }
   ],
   "source": [
    "np.random.randn(10, 5)"
   ]
  },
  {
   "cell_type": "code",
   "execution_count": 23,
   "metadata": {},
   "outputs": [],
   "source": [
    "dfp.to_pickle(\"dados1.pkl\")"
   ]
  },
  {
   "cell_type": "markdown",
   "metadata": {},
   "source": [
    "Ou gerar uma base de dados com números aleatórios"
   ]
  },
  {
   "cell_type": "code",
   "execution_count": 31,
   "metadata": {},
   "outputs": [],
   "source": [
    "df2 = pd.DataFrame(np.random.randn(10, 5))"
   ]
  },
  {
   "cell_type": "code",
   "execution_count": 35,
   "metadata": {},
   "outputs": [],
   "source": [
    "seed = 37987384"
   ]
  },
  {
   "cell_type": "code",
   "execution_count": 28,
   "metadata": {},
   "outputs": [
    {
     "data": {
      "text/html": [
       "<div>\n",
       "<style scoped>\n",
       "    .dataframe tbody tr th:only-of-type {\n",
       "        vertical-align: middle;\n",
       "    }\n",
       "\n",
       "    .dataframe tbody tr th {\n",
       "        vertical-align: top;\n",
       "    }\n",
       "\n",
       "    .dataframe thead th {\n",
       "        text-align: right;\n",
       "    }\n",
       "</style>\n",
       "<table border=\"1\" class=\"dataframe\">\n",
       "  <thead>\n",
       "    <tr style=\"text-align: right;\">\n",
       "      <th></th>\n",
       "      <th>0</th>\n",
       "      <th>1</th>\n",
       "      <th>2</th>\n",
       "      <th>3</th>\n",
       "      <th>4</th>\n",
       "    </tr>\n",
       "  </thead>\n",
       "  <tbody>\n",
       "    <tr>\n",
       "      <th>0</th>\n",
       "      <td>-1.651627</td>\n",
       "      <td>0.439235</td>\n",
       "      <td>-1.295830</td>\n",
       "      <td>-1.408420</td>\n",
       "      <td>1.742969</td>\n",
       "    </tr>\n",
       "    <tr>\n",
       "      <th>1</th>\n",
       "      <td>1.337979</td>\n",
       "      <td>2.115730</td>\n",
       "      <td>-0.598289</td>\n",
       "      <td>-1.588779</td>\n",
       "      <td>0.586758</td>\n",
       "    </tr>\n",
       "    <tr>\n",
       "      <th>2</th>\n",
       "      <td>1.516860</td>\n",
       "      <td>-0.876056</td>\n",
       "      <td>-0.287875</td>\n",
       "      <td>-0.900494</td>\n",
       "      <td>0.509644</td>\n",
       "    </tr>\n",
       "    <tr>\n",
       "      <th>3</th>\n",
       "      <td>-0.766469</td>\n",
       "      <td>1.927199</td>\n",
       "      <td>-0.548617</td>\n",
       "      <td>-0.570509</td>\n",
       "      <td>-0.181030</td>\n",
       "    </tr>\n",
       "    <tr>\n",
       "      <th>4</th>\n",
       "      <td>1.230490</td>\n",
       "      <td>0.014691</td>\n",
       "      <td>-1.988748</td>\n",
       "      <td>0.528907</td>\n",
       "      <td>-0.194574</td>\n",
       "    </tr>\n",
       "    <tr>\n",
       "      <th>5</th>\n",
       "      <td>2.001604</td>\n",
       "      <td>-0.043797</td>\n",
       "      <td>-0.129556</td>\n",
       "      <td>-1.218252</td>\n",
       "      <td>0.452989</td>\n",
       "    </tr>\n",
       "    <tr>\n",
       "      <th>6</th>\n",
       "      <td>-0.728209</td>\n",
       "      <td>1.638407</td>\n",
       "      <td>1.361835</td>\n",
       "      <td>-1.148539</td>\n",
       "      <td>-0.259036</td>\n",
       "    </tr>\n",
       "    <tr>\n",
       "      <th>7</th>\n",
       "      <td>0.228667</td>\n",
       "      <td>0.393048</td>\n",
       "      <td>0.766833</td>\n",
       "      <td>-0.128999</td>\n",
       "      <td>-0.431908</td>\n",
       "    </tr>\n",
       "    <tr>\n",
       "      <th>8</th>\n",
       "      <td>-0.726983</td>\n",
       "      <td>-0.112497</td>\n",
       "      <td>1.110912</td>\n",
       "      <td>-1.016280</td>\n",
       "      <td>1.201225</td>\n",
       "    </tr>\n",
       "    <tr>\n",
       "      <th>9</th>\n",
       "      <td>-0.669580</td>\n",
       "      <td>1.843678</td>\n",
       "      <td>-0.135577</td>\n",
       "      <td>2.648826</td>\n",
       "      <td>0.808688</td>\n",
       "    </tr>\n",
       "  </tbody>\n",
       "</table>\n",
       "</div>"
      ],
      "text/plain": [
       "          0         1         2         3         4\n",
       "0 -1.651627  0.439235 -1.295830 -1.408420  1.742969\n",
       "1  1.337979  2.115730 -0.598289 -1.588779  0.586758\n",
       "2  1.516860 -0.876056 -0.287875 -0.900494  0.509644\n",
       "3 -0.766469  1.927199 -0.548617 -0.570509 -0.181030\n",
       "4  1.230490  0.014691 -1.988748  0.528907 -0.194574\n",
       "5  2.001604 -0.043797 -0.129556 -1.218252  0.452989\n",
       "6 -0.728209  1.638407  1.361835 -1.148539 -0.259036\n",
       "7  0.228667  0.393048  0.766833 -0.128999 -0.431908\n",
       "8 -0.726983 -0.112497  1.110912 -1.016280  1.201225\n",
       "9 -0.669580  1.843678 -0.135577  2.648826  0.808688"
      ]
     },
     "execution_count": 28,
     "metadata": {},
     "output_type": "execute_result"
    }
   ],
   "source": [
    "df2"
   ]
  },
  {
   "cell_type": "markdown",
   "metadata": {},
   "source": [
    "Array 10-por-5 de amostras de uma N(0, 1):"
   ]
  },
  {
   "cell_type": "code",
   "execution_count": 219,
   "metadata": {},
   "outputs": [
    {
     "data": {
      "text/plain": [
       "array([[ 0.84295181, -0.96619706,  1.16497004, -0.92220646,  0.82853249],\n",
       "       [-0.41312547, -1.08340072,  1.21650251, -1.48676318,  0.48600096],\n",
       "       [ 0.57269407,  0.15900025, -0.1428501 ,  2.2589743 ,  2.31971776],\n",
       "       [-0.56176225, -1.41845228, -0.04340897,  0.70246063, -0.28326958],\n",
       "       [-0.05562229, -0.31360967, -0.48811437, -2.68338754,  1.73217544],\n",
       "       [-0.03158561, -0.16209344, -0.41001849, -1.08217191,  2.24465082],\n",
       "       [ 2.08824103, -0.69563586,  0.64432285, -1.80513222,  0.53939709],\n",
       "       [ 0.09498621,  0.22614593,  1.52201799,  0.50595518,  0.80298507],\n",
       "       [-0.97861146, -0.82759307,  0.46868302, -1.03713249,  1.57631076],\n",
       "       [ 1.49444661,  0.34705101,  0.53928474, -0.61025996, -1.92329505]])"
      ]
     },
     "execution_count": 219,
     "metadata": {},
     "output_type": "execute_result"
    }
   ],
   "source": [
    "np.random.randn(10, 5)"
   ]
  },
  {
   "cell_type": "code",
   "execution_count": 29,
   "metadata": {},
   "outputs": [],
   "source": [
    "an = np.random.randn(10, 5)"
   ]
  },
  {
   "cell_type": "code",
   "execution_count": 30,
   "metadata": {},
   "outputs": [
    {
     "data": {
      "text/html": [
       "<div>\n",
       "<style scoped>\n",
       "    .dataframe tbody tr th:only-of-type {\n",
       "        vertical-align: middle;\n",
       "    }\n",
       "\n",
       "    .dataframe tbody tr th {\n",
       "        vertical-align: top;\n",
       "    }\n",
       "\n",
       "    .dataframe thead th {\n",
       "        text-align: right;\n",
       "    }\n",
       "</style>\n",
       "<table border=\"1\" class=\"dataframe\">\n",
       "  <thead>\n",
       "    <tr style=\"text-align: right;\">\n",
       "      <th></th>\n",
       "      <th>0</th>\n",
       "      <th>1</th>\n",
       "      <th>2</th>\n",
       "      <th>3</th>\n",
       "      <th>4</th>\n",
       "    </tr>\n",
       "  </thead>\n",
       "  <tbody>\n",
       "    <tr>\n",
       "      <th>0</th>\n",
       "      <td>-0.415811</td>\n",
       "      <td>0.634043</td>\n",
       "      <td>-0.320084</td>\n",
       "      <td>-1.035141</td>\n",
       "      <td>-1.472318</td>\n",
       "    </tr>\n",
       "    <tr>\n",
       "      <th>1</th>\n",
       "      <td>-0.542063</td>\n",
       "      <td>-0.176143</td>\n",
       "      <td>-1.338999</td>\n",
       "      <td>1.164823</td>\n",
       "      <td>1.651221</td>\n",
       "    </tr>\n",
       "    <tr>\n",
       "      <th>2</th>\n",
       "      <td>0.204946</td>\n",
       "      <td>0.519608</td>\n",
       "      <td>-0.064065</td>\n",
       "      <td>-1.443523</td>\n",
       "      <td>-0.982411</td>\n",
       "    </tr>\n",
       "    <tr>\n",
       "      <th>3</th>\n",
       "      <td>-1.420311</td>\n",
       "      <td>0.993670</td>\n",
       "      <td>0.564678</td>\n",
       "      <td>0.244036</td>\n",
       "      <td>-1.161996</td>\n",
       "    </tr>\n",
       "    <tr>\n",
       "      <th>4</th>\n",
       "      <td>0.623735</td>\n",
       "      <td>-1.096172</td>\n",
       "      <td>-0.290833</td>\n",
       "      <td>-0.643554</td>\n",
       "      <td>-0.844381</td>\n",
       "    </tr>\n",
       "    <tr>\n",
       "      <th>5</th>\n",
       "      <td>1.050471</td>\n",
       "      <td>0.735425</td>\n",
       "      <td>0.435364</td>\n",
       "      <td>-0.240895</td>\n",
       "      <td>-1.215186</td>\n",
       "    </tr>\n",
       "    <tr>\n",
       "      <th>6</th>\n",
       "      <td>0.722506</td>\n",
       "      <td>1.076963</td>\n",
       "      <td>0.545667</td>\n",
       "      <td>-1.635789</td>\n",
       "      <td>-1.275542</td>\n",
       "    </tr>\n",
       "    <tr>\n",
       "      <th>7</th>\n",
       "      <td>-0.289325</td>\n",
       "      <td>-0.238281</td>\n",
       "      <td>0.952617</td>\n",
       "      <td>-0.144314</td>\n",
       "      <td>0.437175</td>\n",
       "    </tr>\n",
       "    <tr>\n",
       "      <th>8</th>\n",
       "      <td>0.897783</td>\n",
       "      <td>-0.674219</td>\n",
       "      <td>1.179446</td>\n",
       "      <td>1.552766</td>\n",
       "      <td>1.230427</td>\n",
       "    </tr>\n",
       "    <tr>\n",
       "      <th>9</th>\n",
       "      <td>0.984672</td>\n",
       "      <td>0.604761</td>\n",
       "      <td>-0.755868</td>\n",
       "      <td>-1.388132</td>\n",
       "      <td>0.026702</td>\n",
       "    </tr>\n",
       "  </tbody>\n",
       "</table>\n",
       "</div>"
      ],
      "text/plain": [
       "          0         1         2         3         4\n",
       "0 -0.415811  0.634043 -0.320084 -1.035141 -1.472318\n",
       "1 -0.542063 -0.176143 -1.338999  1.164823  1.651221\n",
       "2  0.204946  0.519608 -0.064065 -1.443523 -0.982411\n",
       "3 -1.420311  0.993670  0.564678  0.244036 -1.161996\n",
       "4  0.623735 -1.096172 -0.290833 -0.643554 -0.844381\n",
       "5  1.050471  0.735425  0.435364 -0.240895 -1.215186\n",
       "6  0.722506  1.076963  0.545667 -1.635789 -1.275542\n",
       "7 -0.289325 -0.238281  0.952617 -0.144314  0.437175\n",
       "8  0.897783 -0.674219  1.179446  1.552766  1.230427\n",
       "9  0.984672  0.604761 -0.755868 -1.388132  0.026702"
      ]
     },
     "execution_count": 30,
     "metadata": {},
     "output_type": "execute_result"
    }
   ],
   "source": [
    "pd.DataFrame(an)"
   ]
  },
  {
   "cell_type": "code",
   "execution_count": null,
   "metadata": {},
   "outputs": [],
   "source": []
  },
  {
   "cell_type": "markdown",
   "metadata": {},
   "source": [
    "Array 10-por-5 de amostras de uma N(3, 6.25):"
   ]
  },
  {
   "cell_type": "code",
   "execution_count": 54,
   "metadata": {},
   "outputs": [
    {
     "data": {
      "text/plain": [
       "array([[ 1.16136126,  1.5610962 ,  1.75928885,  3.33966496, -1.45634772],\n",
       "       [-0.58605325,  6.45306227,  6.05554663,  2.17318412,  1.78031942],\n",
       "       [ 3.15637957, -0.21794777, -5.50486352,  2.87625637,  1.50933237],\n",
       "       [ 6.30665082,  8.83951451,  4.66675398,  3.3226557 ,  6.51439454],\n",
       "       [-0.89216743,  5.08770786,  5.1808153 ,  3.92077871,  0.78901298],\n",
       "       [ 6.01710123,  4.59706219, -0.34411691,  7.25530526, -0.31452625],\n",
       "       [ 4.15758622,  4.2954792 ,  5.15074901,  9.75098855,  4.231685  ],\n",
       "       [ 4.67886319,  2.66020067,  8.23684412,  4.41423504, -0.03136852],\n",
       "       [ 2.46470453,  2.17928846,  4.83260918,  1.72097291,  7.08192576],\n",
       "       [ 3.05218209,  3.05808709,  1.62407702,  4.89992492,  1.82366395]])"
      ]
     },
     "execution_count": 54,
     "metadata": {},
     "output_type": "execute_result"
    }
   ],
   "source": [
    "2.5 * np.random.randn(10, 5) + 3"
   ]
  },
  {
   "cell_type": "code",
   "execution_count": 133,
   "metadata": {},
   "outputs": [],
   "source": [
    "df_N3 = pd.DataFrame(2.5 * np.random.randn(1000000, 5) + 3)"
   ]
  },
  {
   "cell_type": "code",
   "execution_count": 134,
   "metadata": {},
   "outputs": [
    {
     "data": {
      "text/html": [
       "<div>\n",
       "<style scoped>\n",
       "    .dataframe tbody tr th:only-of-type {\n",
       "        vertical-align: middle;\n",
       "    }\n",
       "\n",
       "    .dataframe tbody tr th {\n",
       "        vertical-align: top;\n",
       "    }\n",
       "\n",
       "    .dataframe thead th {\n",
       "        text-align: right;\n",
       "    }\n",
       "</style>\n",
       "<table border=\"1\" class=\"dataframe\">\n",
       "  <thead>\n",
       "    <tr style=\"text-align: right;\">\n",
       "      <th></th>\n",
       "      <th>0</th>\n",
       "      <th>1</th>\n",
       "      <th>2</th>\n",
       "      <th>3</th>\n",
       "      <th>4</th>\n",
       "    </tr>\n",
       "  </thead>\n",
       "  <tbody>\n",
       "    <tr>\n",
       "      <th>0</th>\n",
       "      <td>4.183073</td>\n",
       "      <td>3.268869</td>\n",
       "      <td>1.304839</td>\n",
       "      <td>1.285205</td>\n",
       "      <td>-1.547286</td>\n",
       "    </tr>\n",
       "    <tr>\n",
       "      <th>1</th>\n",
       "      <td>0.135505</td>\n",
       "      <td>4.071374</td>\n",
       "      <td>2.016922</td>\n",
       "      <td>4.737354</td>\n",
       "      <td>5.446120</td>\n",
       "    </tr>\n",
       "    <tr>\n",
       "      <th>2</th>\n",
       "      <td>10.826263</td>\n",
       "      <td>1.088381</td>\n",
       "      <td>3.463748</td>\n",
       "      <td>3.529078</td>\n",
       "      <td>1.980847</td>\n",
       "    </tr>\n",
       "    <tr>\n",
       "      <th>3</th>\n",
       "      <td>-0.157899</td>\n",
       "      <td>3.281568</td>\n",
       "      <td>4.395266</td>\n",
       "      <td>0.293035</td>\n",
       "      <td>8.998278</td>\n",
       "    </tr>\n",
       "    <tr>\n",
       "      <th>4</th>\n",
       "      <td>6.430866</td>\n",
       "      <td>6.437216</td>\n",
       "      <td>6.442035</td>\n",
       "      <td>1.776596</td>\n",
       "      <td>-0.444714</td>\n",
       "    </tr>\n",
       "    <tr>\n",
       "      <th>...</th>\n",
       "      <td>...</td>\n",
       "      <td>...</td>\n",
       "      <td>...</td>\n",
       "      <td>...</td>\n",
       "      <td>...</td>\n",
       "    </tr>\n",
       "    <tr>\n",
       "      <th>999995</th>\n",
       "      <td>1.952721</td>\n",
       "      <td>4.564140</td>\n",
       "      <td>0.532341</td>\n",
       "      <td>2.745993</td>\n",
       "      <td>4.106680</td>\n",
       "    </tr>\n",
       "    <tr>\n",
       "      <th>999996</th>\n",
       "      <td>0.011718</td>\n",
       "      <td>2.807503</td>\n",
       "      <td>5.116582</td>\n",
       "      <td>4.832581</td>\n",
       "      <td>5.161998</td>\n",
       "    </tr>\n",
       "    <tr>\n",
       "      <th>999997</th>\n",
       "      <td>2.355286</td>\n",
       "      <td>4.586091</td>\n",
       "      <td>3.717003</td>\n",
       "      <td>6.072489</td>\n",
       "      <td>-0.712566</td>\n",
       "    </tr>\n",
       "    <tr>\n",
       "      <th>999998</th>\n",
       "      <td>4.174209</td>\n",
       "      <td>5.718669</td>\n",
       "      <td>3.374314</td>\n",
       "      <td>1.877224</td>\n",
       "      <td>1.465869</td>\n",
       "    </tr>\n",
       "    <tr>\n",
       "      <th>999999</th>\n",
       "      <td>4.468878</td>\n",
       "      <td>1.419478</td>\n",
       "      <td>3.951339</td>\n",
       "      <td>6.307232</td>\n",
       "      <td>1.713951</td>\n",
       "    </tr>\n",
       "  </tbody>\n",
       "</table>\n",
       "<p>1000000 rows × 5 columns</p>\n",
       "</div>"
      ],
      "text/plain": [
       "                0         1         2         3         4\n",
       "0        4.183073  3.268869  1.304839  1.285205 -1.547286\n",
       "1        0.135505  4.071374  2.016922  4.737354  5.446120\n",
       "2       10.826263  1.088381  3.463748  3.529078  1.980847\n",
       "3       -0.157899  3.281568  4.395266  0.293035  8.998278\n",
       "4        6.430866  6.437216  6.442035  1.776596 -0.444714\n",
       "...           ...       ...       ...       ...       ...\n",
       "999995   1.952721  4.564140  0.532341  2.745993  4.106680\n",
       "999996   0.011718  2.807503  5.116582  4.832581  5.161998\n",
       "999997   2.355286  4.586091  3.717003  6.072489 -0.712566\n",
       "999998   4.174209  5.718669  3.374314  1.877224  1.465869\n",
       "999999   4.468878  1.419478  3.951339  6.307232  1.713951\n",
       "\n",
       "[1000000 rows x 5 columns]"
      ]
     },
     "execution_count": 134,
     "metadata": {},
     "output_type": "execute_result"
    }
   ],
   "source": [
    "df_N3"
   ]
  },
  {
   "cell_type": "code",
   "execution_count": 22,
   "metadata": {},
   "outputs": [],
   "source": [
    "data = {\n",
    "'País': ['Bélgica', 'Índia', 'Brasil'],\n",
    "'Capital': ['Bruxelas', 'Nova Delhi', 'Brasília'],\n",
    "'População': [123465, 456789, 987654]\n",
    "}"
   ]
  },
  {
   "cell_type": "code",
   "execution_count": 23,
   "metadata": {},
   "outputs": [],
   "source": [
    "df3 = pd.DataFrame(data, columns=['País','Capital','População'])"
   ]
  },
  {
   "cell_type": "code",
   "execution_count": 24,
   "metadata": {},
   "outputs": [
    {
     "data": {
      "text/html": [
       "<div>\n",
       "<style scoped>\n",
       "    .dataframe tbody tr th:only-of-type {\n",
       "        vertical-align: middle;\n",
       "    }\n",
       "\n",
       "    .dataframe tbody tr th {\n",
       "        vertical-align: top;\n",
       "    }\n",
       "\n",
       "    .dataframe thead th {\n",
       "        text-align: right;\n",
       "    }\n",
       "</style>\n",
       "<table border=\"1\" class=\"dataframe\">\n",
       "  <thead>\n",
       "    <tr style=\"text-align: right;\">\n",
       "      <th></th>\n",
       "      <th>País</th>\n",
       "      <th>Capital</th>\n",
       "      <th>População</th>\n",
       "    </tr>\n",
       "  </thead>\n",
       "  <tbody>\n",
       "    <tr>\n",
       "      <th>0</th>\n",
       "      <td>Bélgica</td>\n",
       "      <td>Bruxelas</td>\n",
       "      <td>123465</td>\n",
       "    </tr>\n",
       "    <tr>\n",
       "      <th>1</th>\n",
       "      <td>Índia</td>\n",
       "      <td>Nova Delhi</td>\n",
       "      <td>456789</td>\n",
       "    </tr>\n",
       "    <tr>\n",
       "      <th>2</th>\n",
       "      <td>Brasil</td>\n",
       "      <td>Brasília</td>\n",
       "      <td>987654</td>\n",
       "    </tr>\n",
       "  </tbody>\n",
       "</table>\n",
       "</div>"
      ],
      "text/plain": [
       "      País     Capital  População\n",
       "0  Bélgica    Bruxelas     123465\n",
       "1    Índia  Nova Delhi     456789\n",
       "2   Brasil    Brasília     987654"
      ]
     },
     "execution_count": 24,
     "metadata": {},
     "output_type": "execute_result"
    }
   ],
   "source": [
    "df3"
   ]
  },
  {
   "cell_type": "markdown",
   "metadata": {},
   "source": [
    "Podemos criar a mesma base através de uma lista de vários json's"
   ]
  },
  {
   "cell_type": "code",
   "execution_count": 225,
   "metadata": {},
   "outputs": [],
   "source": [
    "data = [{\"País\":\"Bélgica\",\"Capital\":\"Bruxelas\",\"População\":123465},\n",
    "        {\"País\":\"Índia\",\"Capital\":\"Nova Delhi\",\"População\":456789},\n",
    "        {\"País\":\"Brasil\",\"Capital\":\"Brasília\",\"População\":987654}]"
   ]
  },
  {
   "cell_type": "code",
   "execution_count": 72,
   "metadata": {},
   "outputs": [],
   "source": [
    "df4 = pd.DataFrame(data)"
   ]
  },
  {
   "cell_type": "code",
   "execution_count": 73,
   "metadata": {},
   "outputs": [
    {
     "data": {
      "text/html": [
       "<div>\n",
       "<style scoped>\n",
       "    .dataframe tbody tr th:only-of-type {\n",
       "        vertical-align: middle;\n",
       "    }\n",
       "\n",
       "    .dataframe tbody tr th {\n",
       "        vertical-align: top;\n",
       "    }\n",
       "\n",
       "    .dataframe thead th {\n",
       "        text-align: right;\n",
       "    }\n",
       "</style>\n",
       "<table border=\"1\" class=\"dataframe\">\n",
       "  <thead>\n",
       "    <tr style=\"text-align: right;\">\n",
       "      <th></th>\n",
       "      <th>País</th>\n",
       "      <th>Capital</th>\n",
       "      <th>População</th>\n",
       "    </tr>\n",
       "  </thead>\n",
       "  <tbody>\n",
       "    <tr>\n",
       "      <th>0</th>\n",
       "      <td>Bélgica</td>\n",
       "      <td>Bruxelas</td>\n",
       "      <td>123465</td>\n",
       "    </tr>\n",
       "    <tr>\n",
       "      <th>1</th>\n",
       "      <td>Índia</td>\n",
       "      <td>Nova Delhi</td>\n",
       "      <td>456789</td>\n",
       "    </tr>\n",
       "    <tr>\n",
       "      <th>2</th>\n",
       "      <td>Brasil</td>\n",
       "      <td>Brasília</td>\n",
       "      <td>987654</td>\n",
       "    </tr>\n",
       "  </tbody>\n",
       "</table>\n",
       "</div>"
      ],
      "text/plain": [
       "      País     Capital  População\n",
       "0  Bélgica    Bruxelas     123465\n",
       "1    Índia  Nova Delhi     456789\n",
       "2   Brasil    Brasília     987654"
      ]
     },
     "execution_count": 73,
     "metadata": {},
     "output_type": "execute_result"
    }
   ],
   "source": [
    "df4"
   ]
  },
  {
   "cell_type": "code",
   "execution_count": null,
   "metadata": {},
   "outputs": [],
   "source": []
  },
  {
   "cell_type": "code",
   "execution_count": 78,
   "metadata": {},
   "outputs": [
    {
     "data": {
      "text/html": [
       "<div>\n",
       "<style scoped>\n",
       "    .dataframe tbody tr th:only-of-type {\n",
       "        vertical-align: middle;\n",
       "    }\n",
       "\n",
       "    .dataframe tbody tr th {\n",
       "        vertical-align: top;\n",
       "    }\n",
       "\n",
       "    .dataframe thead th {\n",
       "        text-align: right;\n",
       "    }\n",
       "</style>\n",
       "<table border=\"1\" class=\"dataframe\">\n",
       "  <thead>\n",
       "    <tr style=\"text-align: right;\">\n",
       "      <th></th>\n",
       "      <th>País</th>\n",
       "      <th>Capital</th>\n",
       "      <th>População</th>\n",
       "    </tr>\n",
       "  </thead>\n",
       "  <tbody>\n",
       "    <tr>\n",
       "      <th>2</th>\n",
       "      <td>Brasil</td>\n",
       "      <td>Brasília</td>\n",
       "      <td>987654</td>\n",
       "    </tr>\n",
       "  </tbody>\n",
       "</table>\n",
       "</div>"
      ],
      "text/plain": [
       "     País   Capital  População\n",
       "2  Brasil  Brasília     987654"
      ]
     },
     "execution_count": 78,
     "metadata": {},
     "output_type": "execute_result"
    }
   ],
   "source": [
    "df4.drop([0,1])"
   ]
  },
  {
   "cell_type": "code",
   "execution_count": null,
   "metadata": {},
   "outputs": [],
   "source": []
  },
  {
   "cell_type": "code",
   "execution_count": null,
   "metadata": {},
   "outputs": [],
   "source": []
  },
  {
   "cell_type": "markdown",
   "metadata": {},
   "source": [
    "É possível apagar linhas de um dataframe através do índice"
   ]
  },
  {
   "cell_type": "code",
   "execution_count": 80,
   "metadata": {},
   "outputs": [],
   "source": [
    "df3 = df3.drop([0, 1])"
   ]
  },
  {
   "cell_type": "code",
   "execution_count": 82,
   "metadata": {},
   "outputs": [
    {
     "data": {
      "text/html": [
       "<div>\n",
       "<style scoped>\n",
       "    .dataframe tbody tr th:only-of-type {\n",
       "        vertical-align: middle;\n",
       "    }\n",
       "\n",
       "    .dataframe tbody tr th {\n",
       "        vertical-align: top;\n",
       "    }\n",
       "\n",
       "    .dataframe thead th {\n",
       "        text-align: right;\n",
       "    }\n",
       "</style>\n",
       "<table border=\"1\" class=\"dataframe\">\n",
       "  <thead>\n",
       "    <tr style=\"text-align: right;\">\n",
       "      <th></th>\n",
       "      <th>index</th>\n",
       "      <th>País</th>\n",
       "      <th>Capital</th>\n",
       "      <th>População</th>\n",
       "    </tr>\n",
       "  </thead>\n",
       "  <tbody>\n",
       "    <tr>\n",
       "      <th>0</th>\n",
       "      <td>2</td>\n",
       "      <td>Brasil</td>\n",
       "      <td>Brasília</td>\n",
       "      <td>987654</td>\n",
       "    </tr>\n",
       "  </tbody>\n",
       "</table>\n",
       "</div>"
      ],
      "text/plain": [
       "   index    País   Capital  População\n",
       "0      2  Brasil  Brasília     987654"
      ]
     },
     "execution_count": 82,
     "metadata": {},
     "output_type": "execute_result"
    }
   ],
   "source": [
    "df3.reset_index()"
   ]
  },
  {
   "cell_type": "code",
   "execution_count": 105,
   "metadata": {},
   "outputs": [],
   "source": [
    "g = [('bird', 389.0),('bird', 24.0),('mammal', 80.5),('mammal', np.nan)]"
   ]
  },
  {
   "cell_type": "code",
   "execution_count": 106,
   "metadata": {},
   "outputs": [
    {
     "data": {
      "text/plain": [
       "[('bird', 389.0), ('bird', 24.0), ('mammal', 80.5), ('mammal', nan)]"
      ]
     },
     "execution_count": 106,
     "metadata": {},
     "output_type": "execute_result"
    }
   ],
   "source": [
    "g"
   ]
  },
  {
   "cell_type": "code",
   "execution_count": 107,
   "metadata": {},
   "outputs": [],
   "source": [
    "df = pd.DataFrame(g,index=['falcon', 'parrot', 'lion', 'monkey'],columns=('class', 'max_speed'))"
   ]
  },
  {
   "cell_type": "code",
   "execution_count": 108,
   "metadata": {},
   "outputs": [
    {
     "data": {
      "text/html": [
       "<div>\n",
       "<style scoped>\n",
       "    .dataframe tbody tr th:only-of-type {\n",
       "        vertical-align: middle;\n",
       "    }\n",
       "\n",
       "    .dataframe tbody tr th {\n",
       "        vertical-align: top;\n",
       "    }\n",
       "\n",
       "    .dataframe thead th {\n",
       "        text-align: right;\n",
       "    }\n",
       "</style>\n",
       "<table border=\"1\" class=\"dataframe\">\n",
       "  <thead>\n",
       "    <tr style=\"text-align: right;\">\n",
       "      <th></th>\n",
       "      <th>class</th>\n",
       "      <th>max_speed</th>\n",
       "    </tr>\n",
       "  </thead>\n",
       "  <tbody>\n",
       "    <tr>\n",
       "      <th>falcon</th>\n",
       "      <td>bird</td>\n",
       "      <td>389.0</td>\n",
       "    </tr>\n",
       "    <tr>\n",
       "      <th>parrot</th>\n",
       "      <td>bird</td>\n",
       "      <td>24.0</td>\n",
       "    </tr>\n",
       "    <tr>\n",
       "      <th>lion</th>\n",
       "      <td>mammal</td>\n",
       "      <td>80.5</td>\n",
       "    </tr>\n",
       "    <tr>\n",
       "      <th>monkey</th>\n",
       "      <td>mammal</td>\n",
       "      <td>NaN</td>\n",
       "    </tr>\n",
       "  </tbody>\n",
       "</table>\n",
       "</div>"
      ],
      "text/plain": [
       "         class  max_speed\n",
       "falcon    bird      389.0\n",
       "parrot    bird       24.0\n",
       "lion    mammal       80.5\n",
       "monkey  mammal        NaN"
      ]
     },
     "execution_count": 108,
     "metadata": {},
     "output_type": "execute_result"
    }
   ],
   "source": [
    "df"
   ]
  },
  {
   "cell_type": "code",
   "execution_count": 94,
   "metadata": {},
   "outputs": [
    {
     "data": {
      "text/html": [
       "<div>\n",
       "<style scoped>\n",
       "    .dataframe tbody tr th:only-of-type {\n",
       "        vertical-align: middle;\n",
       "    }\n",
       "\n",
       "    .dataframe tbody tr th {\n",
       "        vertical-align: top;\n",
       "    }\n",
       "\n",
       "    .dataframe thead th {\n",
       "        text-align: right;\n",
       "    }\n",
       "</style>\n",
       "<table border=\"1\" class=\"dataframe\">\n",
       "  <thead>\n",
       "    <tr style=\"text-align: right;\">\n",
       "      <th></th>\n",
       "      <th>index</th>\n",
       "      <th>class</th>\n",
       "      <th>max_speed</th>\n",
       "    </tr>\n",
       "  </thead>\n",
       "  <tbody>\n",
       "    <tr>\n",
       "      <th>0</th>\n",
       "      <td>falcon</td>\n",
       "      <td>bird</td>\n",
       "      <td>389.0</td>\n",
       "    </tr>\n",
       "    <tr>\n",
       "      <th>1</th>\n",
       "      <td>parrot</td>\n",
       "      <td>bird</td>\n",
       "      <td>24.0</td>\n",
       "    </tr>\n",
       "    <tr>\n",
       "      <th>2</th>\n",
       "      <td>lion</td>\n",
       "      <td>mammal</td>\n",
       "      <td>80.5</td>\n",
       "    </tr>\n",
       "    <tr>\n",
       "      <th>3</th>\n",
       "      <td>monkey</td>\n",
       "      <td>mammal</td>\n",
       "      <td>75.0</td>\n",
       "    </tr>\n",
       "  </tbody>\n",
       "</table>\n",
       "</div>"
      ],
      "text/plain": [
       "    index   class  max_speed\n",
       "0  falcon    bird      389.0\n",
       "1  parrot    bird       24.0\n",
       "2    lion  mammal       80.5\n",
       "3  monkey  mammal       75.0"
      ]
     },
     "execution_count": 94,
     "metadata": {},
     "output_type": "execute_result"
    }
   ],
   "source": [
    "df.reset_index()"
   ]
  },
  {
   "cell_type": "code",
   "execution_count": 111,
   "metadata": {},
   "outputs": [
    {
     "data": {
      "text/html": [
       "<div>\n",
       "<style scoped>\n",
       "    .dataframe tbody tr th:only-of-type {\n",
       "        vertical-align: middle;\n",
       "    }\n",
       "\n",
       "    .dataframe tbody tr th {\n",
       "        vertical-align: top;\n",
       "    }\n",
       "\n",
       "    .dataframe thead th {\n",
       "        text-align: right;\n",
       "    }\n",
       "</style>\n",
       "<table border=\"1\" class=\"dataframe\">\n",
       "  <thead>\n",
       "    <tr style=\"text-align: right;\">\n",
       "      <th></th>\n",
       "      <th>País</th>\n",
       "      <th>Capital</th>\n",
       "      <th>População</th>\n",
       "    </tr>\n",
       "  </thead>\n",
       "  <tbody>\n",
       "    <tr>\n",
       "      <th>0</th>\n",
       "      <td>Bélgica</td>\n",
       "      <td>Bruxelas</td>\n",
       "      <td>123465</td>\n",
       "    </tr>\n",
       "    <tr>\n",
       "      <th>1</th>\n",
       "      <td>Índia</td>\n",
       "      <td>Nova Delhi</td>\n",
       "      <td>456789</td>\n",
       "    </tr>\n",
       "    <tr>\n",
       "      <th>2</th>\n",
       "      <td>Brasil</td>\n",
       "      <td>Brasília</td>\n",
       "      <td>987654</td>\n",
       "    </tr>\n",
       "  </tbody>\n",
       "</table>\n",
       "</div>"
      ],
      "text/plain": [
       "      País     Capital  População\n",
       "0  Bélgica    Bruxelas     123465\n",
       "1    Índia  Nova Delhi     456789\n",
       "2   Brasil    Brasília     987654"
      ]
     },
     "execution_count": 111,
     "metadata": {},
     "output_type": "execute_result"
    }
   ],
   "source": [
    "df3"
   ]
  },
  {
   "cell_type": "code",
   "execution_count": null,
   "metadata": {},
   "outputs": [],
   "source": []
  },
  {
   "cell_type": "code",
   "execution_count": null,
   "metadata": {},
   "outputs": [],
   "source": []
  },
  {
   "cell_type": "code",
   "execution_count": 113,
   "metadata": {},
   "outputs": [
    {
     "data": {
      "text/plain": [
       "0    Bélgica\n",
       "1      Índia\n",
       "2     Brasil\n",
       "Name: País, dtype: object"
      ]
     },
     "execution_count": 113,
     "metadata": {},
     "output_type": "execute_result"
    }
   ],
   "source": [
    "df3['País']"
   ]
  },
  {
   "cell_type": "markdown",
   "metadata": {},
   "source": [
    "Ou remover colunas utilizando o argumento axis=1"
   ]
  },
  {
   "cell_type": "code",
   "execution_count": 96,
   "metadata": {},
   "outputs": [
    {
     "data": {
      "text/html": [
       "<div>\n",
       "<style scoped>\n",
       "    .dataframe tbody tr th:only-of-type {\n",
       "        vertical-align: middle;\n",
       "    }\n",
       "\n",
       "    .dataframe tbody tr th {\n",
       "        vertical-align: top;\n",
       "    }\n",
       "\n",
       "    .dataframe thead th {\n",
       "        text-align: right;\n",
       "    }\n",
       "</style>\n",
       "<table border=\"1\" class=\"dataframe\">\n",
       "  <thead>\n",
       "    <tr style=\"text-align: right;\">\n",
       "      <th></th>\n",
       "      <th>Capital</th>\n",
       "    </tr>\n",
       "  </thead>\n",
       "  <tbody>\n",
       "    <tr>\n",
       "      <th>0</th>\n",
       "      <td>Bruxelas</td>\n",
       "    </tr>\n",
       "    <tr>\n",
       "      <th>1</th>\n",
       "      <td>Nova Delhi</td>\n",
       "    </tr>\n",
       "    <tr>\n",
       "      <th>2</th>\n",
       "      <td>Brasília</td>\n",
       "    </tr>\n",
       "  </tbody>\n",
       "</table>\n",
       "</div>"
      ],
      "text/plain": [
       "      Capital\n",
       "0    Bruxelas\n",
       "1  Nova Delhi\n",
       "2    Brasília"
      ]
     },
     "execution_count": 96,
     "metadata": {},
     "output_type": "execute_result"
    }
   ],
   "source": [
    "df3.drop(['País','População'], axis=1)"
   ]
  },
  {
   "cell_type": "markdown",
   "metadata": {},
   "source": [
    "Coletando informações básicas sobre o DataFrame: \n",
    "\n",
    "Quantidade de linhas e colunas do DataFrame"
   ]
  },
  {
   "cell_type": "code",
   "execution_count": 97,
   "metadata": {},
   "outputs": [
    {
     "data": {
      "text/plain": [
       "(3, 3)"
      ]
     },
     "execution_count": 97,
     "metadata": {},
     "output_type": "execute_result"
    }
   ],
   "source": [
    "df3.shape"
   ]
  },
  {
   "cell_type": "markdown",
   "metadata": {},
   "source": [
    "Descrição do Index"
   ]
  },
  {
   "cell_type": "code",
   "execution_count": 103,
   "metadata": {},
   "outputs": [
    {
     "data": {
      "text/plain": [
       "RangeIndex(start=0, stop=3, step=1)"
      ]
     },
     "execution_count": 103,
     "metadata": {},
     "output_type": "execute_result"
    }
   ],
   "source": [
    "df3.index "
   ]
  },
  {
   "cell_type": "code",
   "execution_count": 104,
   "metadata": {},
   "outputs": [
    {
     "data": {
      "text/plain": [
       "['País', 'Capital', 'População']"
      ]
     },
     "execution_count": 104,
     "metadata": {},
     "output_type": "execute_result"
    }
   ],
   "source": [
    "list(df3)"
   ]
  },
  {
   "cell_type": "markdown",
   "metadata": {},
   "source": [
    "Colunas presentes no DataFrame"
   ]
  },
  {
   "cell_type": "code",
   "execution_count": 102,
   "metadata": {},
   "outputs": [
    {
     "data": {
      "text/plain": [
       "Index(['País', 'Capital', 'População'], dtype='object')"
      ]
     },
     "execution_count": 102,
     "metadata": {},
     "output_type": "execute_result"
    }
   ],
   "source": [
    "df3.columns"
   ]
  },
  {
   "cell_type": "markdown",
   "metadata": {},
   "source": [
    "Contagem de dados não-nulos"
   ]
  },
  {
   "cell_type": "code",
   "execution_count": 110,
   "metadata": {},
   "outputs": [
    {
     "data": {
      "text/plain": [
       "País         3\n",
       "Capital      3\n",
       "População    3\n",
       "dtype: int64"
      ]
     },
     "execution_count": 110,
     "metadata": {},
     "output_type": "execute_result"
    }
   ],
   "source": [
    "df3.count()"
   ]
  },
  {
   "cell_type": "markdown",
   "metadata": {},
   "source": [
    "Criando uma nova coluna em um DataFrame"
   ]
  },
  {
   "cell_type": "code",
   "execution_count": 25,
   "metadata": {},
   "outputs": [],
   "source": [
    "df3['Nova_Coluna'] = 0"
   ]
  },
  {
   "cell_type": "code",
   "execution_count": 26,
   "metadata": {},
   "outputs": [
    {
     "data": {
      "text/html": [
       "<div>\n",
       "<style scoped>\n",
       "    .dataframe tbody tr th:only-of-type {\n",
       "        vertical-align: middle;\n",
       "    }\n",
       "\n",
       "    .dataframe tbody tr th {\n",
       "        vertical-align: top;\n",
       "    }\n",
       "\n",
       "    .dataframe thead th {\n",
       "        text-align: right;\n",
       "    }\n",
       "</style>\n",
       "<table border=\"1\" class=\"dataframe\">\n",
       "  <thead>\n",
       "    <tr style=\"text-align: right;\">\n",
       "      <th></th>\n",
       "      <th>País</th>\n",
       "      <th>Capital</th>\n",
       "      <th>População</th>\n",
       "      <th>Nova_Coluna</th>\n",
       "    </tr>\n",
       "  </thead>\n",
       "  <tbody>\n",
       "    <tr>\n",
       "      <th>0</th>\n",
       "      <td>Bélgica</td>\n",
       "      <td>Bruxelas</td>\n",
       "      <td>123465</td>\n",
       "      <td>0</td>\n",
       "    </tr>\n",
       "    <tr>\n",
       "      <th>1</th>\n",
       "      <td>Índia</td>\n",
       "      <td>Nova Delhi</td>\n",
       "      <td>456789</td>\n",
       "      <td>0</td>\n",
       "    </tr>\n",
       "    <tr>\n",
       "      <th>2</th>\n",
       "      <td>Brasil</td>\n",
       "      <td>Brasília</td>\n",
       "      <td>987654</td>\n",
       "      <td>0</td>\n",
       "    </tr>\n",
       "  </tbody>\n",
       "</table>\n",
       "</div>"
      ],
      "text/plain": [
       "      País     Capital  População  Nova_Coluna\n",
       "0  Bélgica    Bruxelas     123465            0\n",
       "1    Índia  Nova Delhi     456789            0\n",
       "2   Brasil    Brasília     987654            0"
      ]
     },
     "execution_count": 26,
     "metadata": {},
     "output_type": "execute_result"
    }
   ],
   "source": [
    "df3"
   ]
  },
  {
   "cell_type": "code",
   "execution_count": 119,
   "metadata": {},
   "outputs": [
    {
     "data": {
      "text/plain": [
       "Index(['País', 'Capital', 'População', 'Nova_Coluna'], dtype='object')"
      ]
     },
     "execution_count": 119,
     "metadata": {},
     "output_type": "execute_result"
    }
   ],
   "source": [
    "df3.columns"
   ]
  },
  {
   "cell_type": "code",
   "execution_count": null,
   "metadata": {},
   "outputs": [],
   "source": []
  },
  {
   "cell_type": "markdown",
   "metadata": {},
   "source": [
    "Renomeando colunas de um DataFrame\n",
    "\n",
    "Se seu DataFrame possui 3 colunas, passe 3 novos valores em uma lista"
   ]
  },
  {
   "cell_type": "code",
   "execution_count": 27,
   "metadata": {},
   "outputs": [],
   "source": [
    "df3.columns = ['Coluna 1', 'Coluna 2', 'Coluna 3', 'Coluna 4']"
   ]
  },
  {
   "cell_type": "code",
   "execution_count": 28,
   "metadata": {},
   "outputs": [
    {
     "data": {
      "text/html": [
       "<div>\n",
       "<style scoped>\n",
       "    .dataframe tbody tr th:only-of-type {\n",
       "        vertical-align: middle;\n",
       "    }\n",
       "\n",
       "    .dataframe tbody tr th {\n",
       "        vertical-align: top;\n",
       "    }\n",
       "\n",
       "    .dataframe thead th {\n",
       "        text-align: right;\n",
       "    }\n",
       "</style>\n",
       "<table border=\"1\" class=\"dataframe\">\n",
       "  <thead>\n",
       "    <tr style=\"text-align: right;\">\n",
       "      <th></th>\n",
       "      <th>Coluna 1</th>\n",
       "      <th>Coluna 2</th>\n",
       "      <th>Coluna 3</th>\n",
       "      <th>Coluna 4</th>\n",
       "    </tr>\n",
       "  </thead>\n",
       "  <tbody>\n",
       "    <tr>\n",
       "      <th>0</th>\n",
       "      <td>Bélgica</td>\n",
       "      <td>Bruxelas</td>\n",
       "      <td>123465</td>\n",
       "      <td>0</td>\n",
       "    </tr>\n",
       "    <tr>\n",
       "      <th>1</th>\n",
       "      <td>Índia</td>\n",
       "      <td>Nova Delhi</td>\n",
       "      <td>456789</td>\n",
       "      <td>0</td>\n",
       "    </tr>\n",
       "    <tr>\n",
       "      <th>2</th>\n",
       "      <td>Brasil</td>\n",
       "      <td>Brasília</td>\n",
       "      <td>987654</td>\n",
       "      <td>0</td>\n",
       "    </tr>\n",
       "  </tbody>\n",
       "</table>\n",
       "</div>"
      ],
      "text/plain": [
       "  Coluna 1    Coluna 2  Coluna 3  Coluna 4\n",
       "0  Bélgica    Bruxelas    123465         0\n",
       "1    Índia  Nova Delhi    456789         0\n",
       "2   Brasil    Brasília    987654         0"
      ]
     },
     "execution_count": 28,
     "metadata": {},
     "output_type": "execute_result"
    }
   ],
   "source": [
    "df3"
   ]
  },
  {
   "cell_type": "markdown",
   "metadata": {},
   "source": [
    "Resumo dos dados\n",
    "\n",
    "Soma dos valores de um DataFrame"
   ]
  },
  {
   "cell_type": "code",
   "execution_count": 122,
   "metadata": {},
   "outputs": [
    {
     "data": {
      "text/plain": [
       "Coluna 1            BélgicaÍndiaBrasil\n",
       "Coluna 2    BruxelasNova DelhiBrasília\n",
       "Coluna 3                       1567908\n",
       "Coluna 4                             0\n",
       "dtype: object"
      ]
     },
     "execution_count": 122,
     "metadata": {},
     "output_type": "execute_result"
    }
   ],
   "source": [
    "df3.sum()"
   ]
  },
  {
   "cell_type": "markdown",
   "metadata": {},
   "source": [
    "Menor valor de um DataFrame"
   ]
  },
  {
   "cell_type": "code",
   "execution_count": 123,
   "metadata": {},
   "outputs": [
    {
     "data": {
      "text/plain": [
       "Coluna 1      Brasil\n",
       "Coluna 2    Brasília\n",
       "Coluna 3      123465\n",
       "Coluna 4           0\n",
       "dtype: object"
      ]
     },
     "execution_count": 123,
     "metadata": {},
     "output_type": "execute_result"
    }
   ],
   "source": [
    "df3.min()"
   ]
  },
  {
   "cell_type": "markdown",
   "metadata": {},
   "source": [
    "Maior valor"
   ]
  },
  {
   "cell_type": "code",
   "execution_count": 124,
   "metadata": {},
   "outputs": [
    {
     "data": {
      "text/plain": [
       "Coluna 1         Índia\n",
       "Coluna 2    Nova Delhi\n",
       "Coluna 3        987654\n",
       "Coluna 4             0\n",
       "dtype: object"
      ]
     },
     "execution_count": 124,
     "metadata": {},
     "output_type": "execute_result"
    }
   ],
   "source": [
    "df3.max()"
   ]
  },
  {
   "cell_type": "code",
   "execution_count": 125,
   "metadata": {},
   "outputs": [
    {
     "data": {
      "text/plain": [
       "0      Bruxelas\n",
       "1    Nova Delhi\n",
       "2      Brasília\n",
       "Name: Coluna 2, dtype: object"
      ]
     },
     "execution_count": 125,
     "metadata": {},
     "output_type": "execute_result"
    }
   ],
   "source": [
    "df3['Coluna 2']"
   ]
  },
  {
   "cell_type": "markdown",
   "metadata": {},
   "source": [
    "Index do menor valor"
   ]
  },
  {
   "cell_type": "code",
   "execution_count": 127,
   "metadata": {},
   "outputs": [
    {
     "data": {
      "text/plain": [
       "0"
      ]
     },
     "execution_count": 127,
     "metadata": {},
     "output_type": "execute_result"
    }
   ],
   "source": [
    "df3[\"Coluna 3\"].idxmin()"
   ]
  },
  {
   "cell_type": "markdown",
   "metadata": {},
   "source": [
    "Index do maior valor"
   ]
  },
  {
   "cell_type": "code",
   "execution_count": 128,
   "metadata": {},
   "outputs": [
    {
     "data": {
      "text/plain": [
       "2"
      ]
     },
     "execution_count": 128,
     "metadata": {},
     "output_type": "execute_result"
    }
   ],
   "source": [
    "df3[\"Coluna 3\"].idxmax()"
   ]
  },
  {
   "cell_type": "markdown",
   "metadata": {},
   "source": [
    "Resumo estatístico do DataFrame, com quartis, mediana, etc."
   ]
  },
  {
   "cell_type": "code",
   "execution_count": 130,
   "metadata": {},
   "outputs": [],
   "source": [
    "pedro = df3.describe()"
   ]
  },
  {
   "cell_type": "code",
   "execution_count": 131,
   "metadata": {},
   "outputs": [
    {
     "data": {
      "text/html": [
       "<div>\n",
       "<style scoped>\n",
       "    .dataframe tbody tr th:only-of-type {\n",
       "        vertical-align: middle;\n",
       "    }\n",
       "\n",
       "    .dataframe tbody tr th {\n",
       "        vertical-align: top;\n",
       "    }\n",
       "\n",
       "    .dataframe thead th {\n",
       "        text-align: right;\n",
       "    }\n",
       "</style>\n",
       "<table border=\"1\" class=\"dataframe\">\n",
       "  <thead>\n",
       "    <tr style=\"text-align: right;\">\n",
       "      <th></th>\n",
       "      <th>Coluna 3</th>\n",
       "      <th>Coluna 4</th>\n",
       "    </tr>\n",
       "  </thead>\n",
       "  <tbody>\n",
       "    <tr>\n",
       "      <th>count</th>\n",
       "      <td>3.000000</td>\n",
       "      <td>3.0</td>\n",
       "    </tr>\n",
       "    <tr>\n",
       "      <th>mean</th>\n",
       "      <td>522636.000000</td>\n",
       "      <td>0.0</td>\n",
       "    </tr>\n",
       "    <tr>\n",
       "      <th>std</th>\n",
       "      <td>435841.172317</td>\n",
       "      <td>0.0</td>\n",
       "    </tr>\n",
       "    <tr>\n",
       "      <th>min</th>\n",
       "      <td>123465.000000</td>\n",
       "      <td>0.0</td>\n",
       "    </tr>\n",
       "    <tr>\n",
       "      <th>25%</th>\n",
       "      <td>290127.000000</td>\n",
       "      <td>0.0</td>\n",
       "    </tr>\n",
       "    <tr>\n",
       "      <th>50%</th>\n",
       "      <td>456789.000000</td>\n",
       "      <td>0.0</td>\n",
       "    </tr>\n",
       "    <tr>\n",
       "      <th>75%</th>\n",
       "      <td>722221.500000</td>\n",
       "      <td>0.0</td>\n",
       "    </tr>\n",
       "    <tr>\n",
       "      <th>max</th>\n",
       "      <td>987654.000000</td>\n",
       "      <td>0.0</td>\n",
       "    </tr>\n",
       "  </tbody>\n",
       "</table>\n",
       "</div>"
      ],
      "text/plain": [
       "            Coluna 3  Coluna 4\n",
       "count       3.000000       3.0\n",
       "mean   522636.000000       0.0\n",
       "std    435841.172317       0.0\n",
       "min    123465.000000       0.0\n",
       "25%    290127.000000       0.0\n",
       "50%    456789.000000       0.0\n",
       "75%    722221.500000       0.0\n",
       "max    987654.000000       0.0"
      ]
     },
     "execution_count": 131,
     "metadata": {},
     "output_type": "execute_result"
    }
   ],
   "source": [
    "pedro"
   ]
  },
  {
   "cell_type": "markdown",
   "metadata": {},
   "source": [
    "Vamos utilizar nossa base gerada a partir de uma Normal com média 3 e desvio 2.5"
   ]
  },
  {
   "cell_type": "code",
   "execution_count": 135,
   "metadata": {},
   "outputs": [
    {
     "data": {
      "text/html": [
       "<div>\n",
       "<style scoped>\n",
       "    .dataframe tbody tr th:only-of-type {\n",
       "        vertical-align: middle;\n",
       "    }\n",
       "\n",
       "    .dataframe tbody tr th {\n",
       "        vertical-align: top;\n",
       "    }\n",
       "\n",
       "    .dataframe thead th {\n",
       "        text-align: right;\n",
       "    }\n",
       "</style>\n",
       "<table border=\"1\" class=\"dataframe\">\n",
       "  <thead>\n",
       "    <tr style=\"text-align: right;\">\n",
       "      <th></th>\n",
       "      <th>0</th>\n",
       "      <th>1</th>\n",
       "      <th>2</th>\n",
       "      <th>3</th>\n",
       "      <th>4</th>\n",
       "    </tr>\n",
       "  </thead>\n",
       "  <tbody>\n",
       "    <tr>\n",
       "      <th>count</th>\n",
       "      <td>1000000.000000</td>\n",
       "      <td>1000000.000000</td>\n",
       "      <td>1000000.000000</td>\n",
       "      <td>1000000.000000</td>\n",
       "      <td>1000000.000000</td>\n",
       "    </tr>\n",
       "    <tr>\n",
       "      <th>mean</th>\n",
       "      <td>2.997966</td>\n",
       "      <td>3.002471</td>\n",
       "      <td>3.002204</td>\n",
       "      <td>2.999436</td>\n",
       "      <td>2.996050</td>\n",
       "    </tr>\n",
       "    <tr>\n",
       "      <th>std</th>\n",
       "      <td>2.503636</td>\n",
       "      <td>2.497715</td>\n",
       "      <td>2.499649</td>\n",
       "      <td>2.503210</td>\n",
       "      <td>2.501911</td>\n",
       "    </tr>\n",
       "    <tr>\n",
       "      <th>min</th>\n",
       "      <td>-8.762739</td>\n",
       "      <td>-8.533824</td>\n",
       "      <td>-9.316100</td>\n",
       "      <td>-9.065561</td>\n",
       "      <td>-9.716360</td>\n",
       "    </tr>\n",
       "    <tr>\n",
       "      <th>25%</th>\n",
       "      <td>1.310177</td>\n",
       "      <td>1.315095</td>\n",
       "      <td>1.315435</td>\n",
       "      <td>1.307754</td>\n",
       "      <td>1.306588</td>\n",
       "    </tr>\n",
       "    <tr>\n",
       "      <th>50%</th>\n",
       "      <td>2.996494</td>\n",
       "      <td>3.004351</td>\n",
       "      <td>3.002708</td>\n",
       "      <td>2.998233</td>\n",
       "      <td>2.992438</td>\n",
       "    </tr>\n",
       "    <tr>\n",
       "      <th>75%</th>\n",
       "      <td>4.687541</td>\n",
       "      <td>4.687013</td>\n",
       "      <td>4.686931</td>\n",
       "      <td>4.685119</td>\n",
       "      <td>4.685090</td>\n",
       "    </tr>\n",
       "    <tr>\n",
       "      <th>max</th>\n",
       "      <td>17.225809</td>\n",
       "      <td>15.326498</td>\n",
       "      <td>14.373999</td>\n",
       "      <td>14.544314</td>\n",
       "      <td>16.783190</td>\n",
       "    </tr>\n",
       "  </tbody>\n",
       "</table>\n",
       "</div>"
      ],
      "text/plain": [
       "                    0               1               2               3  \\\n",
       "count  1000000.000000  1000000.000000  1000000.000000  1000000.000000   \n",
       "mean         2.997966        3.002471        3.002204        2.999436   \n",
       "std          2.503636        2.497715        2.499649        2.503210   \n",
       "min         -8.762739       -8.533824       -9.316100       -9.065561   \n",
       "25%          1.310177        1.315095        1.315435        1.307754   \n",
       "50%          2.996494        3.004351        3.002708        2.998233   \n",
       "75%          4.687541        4.687013        4.686931        4.685119   \n",
       "max         17.225809       15.326498       14.373999       14.544314   \n",
       "\n",
       "                    4  \n",
       "count  1000000.000000  \n",
       "mean         2.996050  \n",
       "std          2.501911  \n",
       "min         -9.716360  \n",
       "25%          1.306588  \n",
       "50%          2.992438  \n",
       "75%          4.685090  \n",
       "max         16.783190  "
      ]
     },
     "execution_count": 135,
     "metadata": {},
     "output_type": "execute_result"
    }
   ],
   "source": [
    "df_N3.describe()"
   ]
  },
  {
   "cell_type": "code",
   "execution_count": null,
   "metadata": {},
   "outputs": [],
   "source": []
  },
  {
   "cell_type": "markdown",
   "metadata": {},
   "source": [
    "Média dos valores"
   ]
  },
  {
   "cell_type": "code",
   "execution_count": 136,
   "metadata": {},
   "outputs": [
    {
     "data": {
      "text/plain": [
       "Coluna 3    522636.0\n",
       "Coluna 4         0.0\n",
       "dtype: float64"
      ]
     },
     "execution_count": 136,
     "metadata": {},
     "output_type": "execute_result"
    }
   ],
   "source": [
    "df3.mean()"
   ]
  },
  {
   "cell_type": "markdown",
   "metadata": {},
   "source": [
    "Mediana dos valores"
   ]
  },
  {
   "cell_type": "code",
   "execution_count": 137,
   "metadata": {},
   "outputs": [
    {
     "data": {
      "text/plain": [
       "Coluna 3    456789.0\n",
       "Coluna 4         0.0\n",
       "dtype: float64"
      ]
     },
     "execution_count": 137,
     "metadata": {},
     "output_type": "execute_result"
    }
   ],
   "source": [
    "df3.median()"
   ]
  },
  {
   "cell_type": "markdown",
   "metadata": {},
   "source": [
    "#### Funções Lambda\n",
    "\n",
    "A função lambda é uma função anonima\n",
    "\n",
    "Ela pode receber qualquer número de argumentos, mas só pode ter uma expressão.\n"
   ]
  },
  {
   "cell_type": "code",
   "execution_count": 1,
   "metadata": {},
   "outputs": [],
   "source": [
    "def teste(a):\n",
    "    b = a*3\n",
    "    return b"
   ]
  },
  {
   "cell_type": "code",
   "execution_count": 3,
   "metadata": {},
   "outputs": [
    {
     "data": {
      "text/plain": [
       "12"
      ]
     },
     "execution_count": 3,
     "metadata": {},
     "output_type": "execute_result"
    }
   ],
   "source": [
    "teste(4)"
   ]
  },
  {
   "cell_type": "code",
   "execution_count": 5,
   "metadata": {},
   "outputs": [
    {
     "data": {
      "text/plain": [
       "20"
      ]
     },
     "execution_count": 5,
     "metadata": {},
     "output_type": "execute_result"
    }
   ],
   "source": [
    "(lambda a : a + 10)(10)"
   ]
  },
  {
   "cell_type": "code",
   "execution_count": null,
   "metadata": {},
   "outputs": [],
   "source": []
  },
  {
   "cell_type": "code",
   "execution_count": 108,
   "metadata": {},
   "outputs": [
    {
     "data": {
      "text/plain": [
       "20"
      ]
     },
     "execution_count": 108,
     "metadata": {},
     "output_type": "execute_result"
    }
   ],
   "source": [
    "x = lambda a : a + 10\n",
    "x(10)"
   ]
  },
  {
   "cell_type": "code",
   "execution_count": 7,
   "metadata": {},
   "outputs": [
    {
     "data": {
      "text/plain": [
       "-1"
      ]
     },
     "execution_count": 7,
     "metadata": {},
     "output_type": "execute_result"
    }
   ],
   "source": [
    "d = lambda x:  x[0] - 2 * x[1] + 2\n",
    "d([1,2])"
   ]
  },
  {
   "cell_type": "code",
   "execution_count": 8,
   "metadata": {},
   "outputs": [
    {
     "data": {
      "text/plain": [
       "30"
      ]
     },
     "execution_count": 8,
     "metadata": {},
     "output_type": "execute_result"
    }
   ],
   "source": [
    "x = lambda a, b : a * b\n",
    "x(5, 6)"
   ]
  },
  {
   "cell_type": "code",
   "execution_count": 10,
   "metadata": {},
   "outputs": [],
   "source": [
    "def myfunc(n):\n",
    "  return lambda a : a * n"
   ]
  },
  {
   "cell_type": "code",
   "execution_count": 12,
   "metadata": {},
   "outputs": [],
   "source": [
    "mydoubler = myfunc(2)"
   ]
  },
  {
   "cell_type": "code",
   "execution_count": 13,
   "metadata": {},
   "outputs": [
    {
     "data": {
      "text/plain": [
       "<function __main__.myfunc.<locals>.<lambda>(a)>"
      ]
     },
     "execution_count": 13,
     "metadata": {},
     "output_type": "execute_result"
    }
   ],
   "source": [
    "mydoubler"
   ]
  },
  {
   "cell_type": "code",
   "execution_count": 14,
   "metadata": {},
   "outputs": [
    {
     "data": {
      "text/plain": [
       "22"
      ]
     },
     "execution_count": 14,
     "metadata": {},
     "output_type": "execute_result"
    }
   ],
   "source": [
    "mydoubler(11)"
   ]
  },
  {
   "cell_type": "code",
   "execution_count": 15,
   "metadata": {},
   "outputs": [],
   "source": [
    "mytripler = myfunc(3)"
   ]
  },
  {
   "cell_type": "code",
   "execution_count": 16,
   "metadata": {},
   "outputs": [
    {
     "data": {
      "text/plain": [
       "33"
      ]
     },
     "execution_count": 16,
     "metadata": {},
     "output_type": "execute_result"
    }
   ],
   "source": [
    "mytripler(11)"
   ]
  },
  {
   "cell_type": "code",
   "execution_count": 17,
   "metadata": {},
   "outputs": [],
   "source": [
    "myquad = myfunc(4)"
   ]
  },
  {
   "cell_type": "code",
   "execution_count": 18,
   "metadata": {},
   "outputs": [
    {
     "data": {
      "text/plain": [
       "16"
      ]
     },
     "execution_count": 18,
     "metadata": {},
     "output_type": "execute_result"
    }
   ],
   "source": [
    "myquad(4)"
   ]
  },
  {
   "cell_type": "code",
   "execution_count": null,
   "metadata": {},
   "outputs": [],
   "source": []
  },
  {
   "cell_type": "code",
   "execution_count": 29,
   "metadata": {},
   "outputs": [
    {
     "data": {
      "text/html": [
       "<div>\n",
       "<style scoped>\n",
       "    .dataframe tbody tr th:only-of-type {\n",
       "        vertical-align: middle;\n",
       "    }\n",
       "\n",
       "    .dataframe tbody tr th {\n",
       "        vertical-align: top;\n",
       "    }\n",
       "\n",
       "    .dataframe thead th {\n",
       "        text-align: right;\n",
       "    }\n",
       "</style>\n",
       "<table border=\"1\" class=\"dataframe\">\n",
       "  <thead>\n",
       "    <tr style=\"text-align: right;\">\n",
       "      <th></th>\n",
       "      <th>Coluna 1</th>\n",
       "      <th>Coluna 2</th>\n",
       "      <th>Coluna 3</th>\n",
       "      <th>Coluna 4</th>\n",
       "    </tr>\n",
       "  </thead>\n",
       "  <tbody>\n",
       "    <tr>\n",
       "      <th>0</th>\n",
       "      <td>Bélgica</td>\n",
       "      <td>Bruxelas</td>\n",
       "      <td>123465</td>\n",
       "      <td>0</td>\n",
       "    </tr>\n",
       "    <tr>\n",
       "      <th>1</th>\n",
       "      <td>Índia</td>\n",
       "      <td>Nova Delhi</td>\n",
       "      <td>456789</td>\n",
       "      <td>0</td>\n",
       "    </tr>\n",
       "    <tr>\n",
       "      <th>2</th>\n",
       "      <td>Brasil</td>\n",
       "      <td>Brasília</td>\n",
       "      <td>987654</td>\n",
       "      <td>0</td>\n",
       "    </tr>\n",
       "  </tbody>\n",
       "</table>\n",
       "</div>"
      ],
      "text/plain": [
       "  Coluna 1    Coluna 2  Coluna 3  Coluna 4\n",
       "0  Bélgica    Bruxelas    123465         0\n",
       "1    Índia  Nova Delhi    456789         0\n",
       "2   Brasil    Brasília    987654         0"
      ]
     },
     "execution_count": 29,
     "metadata": {},
     "output_type": "execute_result"
    }
   ],
   "source": [
    "df3"
   ]
  },
  {
   "cell_type": "markdown",
   "metadata": {},
   "source": [
    "Aplicando funções:\n",
    "\n",
    "Aplicando uma função que substitui 0 por 1"
   ]
  },
  {
   "cell_type": "code",
   "execution_count": 32,
   "metadata": {},
   "outputs": [
    {
     "data": {
      "text/html": [
       "<div>\n",
       "<style scoped>\n",
       "    .dataframe tbody tr th:only-of-type {\n",
       "        vertical-align: middle;\n",
       "    }\n",
       "\n",
       "    .dataframe tbody tr th {\n",
       "        vertical-align: top;\n",
       "    }\n",
       "\n",
       "    .dataframe thead th {\n",
       "        text-align: right;\n",
       "    }\n",
       "</style>\n",
       "<table border=\"1\" class=\"dataframe\">\n",
       "  <thead>\n",
       "    <tr style=\"text-align: right;\">\n",
       "      <th></th>\n",
       "      <th>Coluna 1</th>\n",
       "      <th>Coluna 2</th>\n",
       "      <th>Coluna 3</th>\n",
       "      <th>Coluna 4</th>\n",
       "    </tr>\n",
       "  </thead>\n",
       "  <tbody>\n",
       "    <tr>\n",
       "      <th>0</th>\n",
       "      <td>Bélgica</td>\n",
       "      <td>Bruxelas</td>\n",
       "      <td>123465</td>\n",
       "      <td>1</td>\n",
       "    </tr>\n",
       "    <tr>\n",
       "      <th>1</th>\n",
       "      <td>Índia</td>\n",
       "      <td>Nova Delhi</td>\n",
       "      <td>456789</td>\n",
       "      <td>1</td>\n",
       "    </tr>\n",
       "    <tr>\n",
       "      <th>2</th>\n",
       "      <td>Brasil</td>\n",
       "      <td>Brasília</td>\n",
       "      <td>987654</td>\n",
       "      <td>1</td>\n",
       "    </tr>\n",
       "  </tbody>\n",
       "</table>\n",
       "</div>"
      ],
      "text/plain": [
       "  Coluna 1    Coluna 2  Coluna 3  Coluna 4\n",
       "0  Bélgica    Bruxelas    123465         1\n",
       "1    Índia  Nova Delhi    456789         1\n",
       "2   Brasil    Brasília    987654         1"
      ]
     },
     "execution_count": 32,
     "metadata": {},
     "output_type": "execute_result"
    }
   ],
   "source": [
    "df3.apply(lambda x: x.replace(0, 1))"
   ]
  },
  {
   "cell_type": "markdown",
   "metadata": {},
   "source": [
    "Ordenando valores:\n",
    "\n",
    "Ordenando em ordem crescente"
   ]
  },
  {
   "cell_type": "code",
   "execution_count": 33,
   "metadata": {},
   "outputs": [
    {
     "data": {
      "text/html": [
       "<div>\n",
       "<style scoped>\n",
       "    .dataframe tbody tr th:only-of-type {\n",
       "        vertical-align: middle;\n",
       "    }\n",
       "\n",
       "    .dataframe tbody tr th {\n",
       "        vertical-align: top;\n",
       "    }\n",
       "\n",
       "    .dataframe thead th {\n",
       "        text-align: right;\n",
       "    }\n",
       "</style>\n",
       "<table border=\"1\" class=\"dataframe\">\n",
       "  <thead>\n",
       "    <tr style=\"text-align: right;\">\n",
       "      <th></th>\n",
       "      <th>Coluna 1</th>\n",
       "      <th>Coluna 2</th>\n",
       "      <th>Coluna 3</th>\n",
       "      <th>Coluna 4</th>\n",
       "    </tr>\n",
       "  </thead>\n",
       "  <tbody>\n",
       "    <tr>\n",
       "      <th>0</th>\n",
       "      <td>Bélgica</td>\n",
       "      <td>Bruxelas</td>\n",
       "      <td>123465</td>\n",
       "      <td>0</td>\n",
       "    </tr>\n",
       "    <tr>\n",
       "      <th>1</th>\n",
       "      <td>Índia</td>\n",
       "      <td>Nova Delhi</td>\n",
       "      <td>456789</td>\n",
       "      <td>0</td>\n",
       "    </tr>\n",
       "    <tr>\n",
       "      <th>2</th>\n",
       "      <td>Brasil</td>\n",
       "      <td>Brasília</td>\n",
       "      <td>987654</td>\n",
       "      <td>0</td>\n",
       "    </tr>\n",
       "  </tbody>\n",
       "</table>\n",
       "</div>"
      ],
      "text/plain": [
       "  Coluna 1    Coluna 2  Coluna 3  Coluna 4\n",
       "0  Bélgica    Bruxelas    123465         0\n",
       "1    Índia  Nova Delhi    456789         0\n",
       "2   Brasil    Brasília    987654         0"
      ]
     },
     "execution_count": 33,
     "metadata": {},
     "output_type": "execute_result"
    }
   ],
   "source": [
    "df3.sort_values(by='Coluna 3')"
   ]
  },
  {
   "cell_type": "markdown",
   "metadata": {},
   "source": [
    "Ordenando em ordem decrescente"
   ]
  },
  {
   "cell_type": "code",
   "execution_count": 34,
   "metadata": {},
   "outputs": [
    {
     "data": {
      "text/html": [
       "<div>\n",
       "<style scoped>\n",
       "    .dataframe tbody tr th:only-of-type {\n",
       "        vertical-align: middle;\n",
       "    }\n",
       "\n",
       "    .dataframe tbody tr th {\n",
       "        vertical-align: top;\n",
       "    }\n",
       "\n",
       "    .dataframe thead th {\n",
       "        text-align: right;\n",
       "    }\n",
       "</style>\n",
       "<table border=\"1\" class=\"dataframe\">\n",
       "  <thead>\n",
       "    <tr style=\"text-align: right;\">\n",
       "      <th></th>\n",
       "      <th>Coluna 1</th>\n",
       "      <th>Coluna 2</th>\n",
       "      <th>Coluna 3</th>\n",
       "      <th>Coluna 4</th>\n",
       "    </tr>\n",
       "  </thead>\n",
       "  <tbody>\n",
       "    <tr>\n",
       "      <th>2</th>\n",
       "      <td>Brasil</td>\n",
       "      <td>Brasília</td>\n",
       "      <td>987654</td>\n",
       "      <td>0</td>\n",
       "    </tr>\n",
       "    <tr>\n",
       "      <th>1</th>\n",
       "      <td>Índia</td>\n",
       "      <td>Nova Delhi</td>\n",
       "      <td>456789</td>\n",
       "      <td>0</td>\n",
       "    </tr>\n",
       "    <tr>\n",
       "      <th>0</th>\n",
       "      <td>Bélgica</td>\n",
       "      <td>Bruxelas</td>\n",
       "      <td>123465</td>\n",
       "      <td>0</td>\n",
       "    </tr>\n",
       "  </tbody>\n",
       "</table>\n",
       "</div>"
      ],
      "text/plain": [
       "  Coluna 1    Coluna 2  Coluna 3  Coluna 4\n",
       "2   Brasil    Brasília    987654         0\n",
       "1    Índia  Nova Delhi    456789         0\n",
       "0  Bélgica    Bruxelas    123465         0"
      ]
     },
     "execution_count": 34,
     "metadata": {},
     "output_type": "execute_result"
    }
   ],
   "source": [
    "df3.sort_values(by='Coluna 3',ascending=False)"
   ]
  },
  {
   "cell_type": "markdown",
   "metadata": {},
   "source": [
    "Selecionando valores: \n",
    "\n",
    "Selecionando a primeira linha da coluna país\n",
    "\n",
    "loc: seleciona linhas (ou colunas) com labels particulares do index.\n",
    "\n",
    "iloc: seleciona linhas (ou colunas) em posições particulares do index (assume número inteiro)."
   ]
  },
  {
   "cell_type": "code",
   "execution_count": 35,
   "metadata": {},
   "outputs": [
    {
     "data": {
      "text/html": [
       "<div>\n",
       "<style scoped>\n",
       "    .dataframe tbody tr th:only-of-type {\n",
       "        vertical-align: middle;\n",
       "    }\n",
       "\n",
       "    .dataframe tbody tr th {\n",
       "        vertical-align: top;\n",
       "    }\n",
       "\n",
       "    .dataframe thead th {\n",
       "        text-align: right;\n",
       "    }\n",
       "</style>\n",
       "<table border=\"1\" class=\"dataframe\">\n",
       "  <thead>\n",
       "    <tr style=\"text-align: right;\">\n",
       "      <th></th>\n",
       "      <th>Coluna 1</th>\n",
       "      <th>Coluna 2</th>\n",
       "      <th>Coluna 3</th>\n",
       "      <th>Coluna 4</th>\n",
       "    </tr>\n",
       "  </thead>\n",
       "  <tbody>\n",
       "    <tr>\n",
       "      <th>0</th>\n",
       "      <td>Bélgica</td>\n",
       "      <td>Bruxelas</td>\n",
       "      <td>123465</td>\n",
       "      <td>0</td>\n",
       "    </tr>\n",
       "    <tr>\n",
       "      <th>1</th>\n",
       "      <td>Índia</td>\n",
       "      <td>Nova Delhi</td>\n",
       "      <td>456789</td>\n",
       "      <td>0</td>\n",
       "    </tr>\n",
       "    <tr>\n",
       "      <th>2</th>\n",
       "      <td>Brasil</td>\n",
       "      <td>Brasília</td>\n",
       "      <td>987654</td>\n",
       "      <td>0</td>\n",
       "    </tr>\n",
       "  </tbody>\n",
       "</table>\n",
       "</div>"
      ],
      "text/plain": [
       "  Coluna 1    Coluna 2  Coluna 3  Coluna 4\n",
       "0  Bélgica    Bruxelas    123465         0\n",
       "1    Índia  Nova Delhi    456789         0\n",
       "2   Brasil    Brasília    987654         0"
      ]
     },
     "execution_count": 35,
     "metadata": {},
     "output_type": "execute_result"
    }
   ],
   "source": [
    "df3"
   ]
  },
  {
   "cell_type": "code",
   "execution_count": 37,
   "metadata": {},
   "outputs": [],
   "source": [
    "df3['NC'] = 10"
   ]
  },
  {
   "cell_type": "code",
   "execution_count": 38,
   "metadata": {},
   "outputs": [
    {
     "data": {
      "text/html": [
       "<div>\n",
       "<style scoped>\n",
       "    .dataframe tbody tr th:only-of-type {\n",
       "        vertical-align: middle;\n",
       "    }\n",
       "\n",
       "    .dataframe tbody tr th {\n",
       "        vertical-align: top;\n",
       "    }\n",
       "\n",
       "    .dataframe thead th {\n",
       "        text-align: right;\n",
       "    }\n",
       "</style>\n",
       "<table border=\"1\" class=\"dataframe\">\n",
       "  <thead>\n",
       "    <tr style=\"text-align: right;\">\n",
       "      <th></th>\n",
       "      <th>Coluna 1</th>\n",
       "      <th>Coluna 2</th>\n",
       "      <th>Coluna 3</th>\n",
       "      <th>Coluna 4</th>\n",
       "      <th>NC</th>\n",
       "    </tr>\n",
       "  </thead>\n",
       "  <tbody>\n",
       "    <tr>\n",
       "      <th>0</th>\n",
       "      <td>Bélgica</td>\n",
       "      <td>Bruxelas</td>\n",
       "      <td>123465</td>\n",
       "      <td>0</td>\n",
       "      <td>10</td>\n",
       "    </tr>\n",
       "    <tr>\n",
       "      <th>1</th>\n",
       "      <td>Índia</td>\n",
       "      <td>Nova Delhi</td>\n",
       "      <td>456789</td>\n",
       "      <td>0</td>\n",
       "      <td>10</td>\n",
       "    </tr>\n",
       "    <tr>\n",
       "      <th>2</th>\n",
       "      <td>Brasil</td>\n",
       "      <td>Brasília</td>\n",
       "      <td>987654</td>\n",
       "      <td>0</td>\n",
       "      <td>10</td>\n",
       "    </tr>\n",
       "  </tbody>\n",
       "</table>\n",
       "</div>"
      ],
      "text/plain": [
       "  Coluna 1    Coluna 2  Coluna 3  Coluna 4  NC\n",
       "0  Bélgica    Bruxelas    123465         0  10\n",
       "1    Índia  Nova Delhi    456789         0  10\n",
       "2   Brasil    Brasília    987654         0  10"
      ]
     },
     "execution_count": 38,
     "metadata": {},
     "output_type": "execute_result"
    }
   ],
   "source": [
    "df3"
   ]
  },
  {
   "cell_type": "code",
   "execution_count": 40,
   "metadata": {},
   "outputs": [
    {
     "data": {
      "text/html": [
       "<div>\n",
       "<style scoped>\n",
       "    .dataframe tbody tr th:only-of-type {\n",
       "        vertical-align: middle;\n",
       "    }\n",
       "\n",
       "    .dataframe tbody tr th {\n",
       "        vertical-align: top;\n",
       "    }\n",
       "\n",
       "    .dataframe thead th {\n",
       "        text-align: right;\n",
       "    }\n",
       "</style>\n",
       "<table border=\"1\" class=\"dataframe\">\n",
       "  <thead>\n",
       "    <tr style=\"text-align: right;\">\n",
       "      <th></th>\n",
       "      <th>Coluna 1</th>\n",
       "      <th>Coluna 2</th>\n",
       "      <th>Coluna 3</th>\n",
       "      <th>Coluna 4</th>\n",
       "      <th>NC</th>\n",
       "    </tr>\n",
       "  </thead>\n",
       "  <tbody>\n",
       "    <tr>\n",
       "      <th>2</th>\n",
       "      <td>Brasil</td>\n",
       "      <td>Brasília</td>\n",
       "      <td>987654</td>\n",
       "      <td>0</td>\n",
       "      <td>10</td>\n",
       "    </tr>\n",
       "  </tbody>\n",
       "</table>\n",
       "</div>"
      ],
      "text/plain": [
       "  Coluna 1  Coluna 2  Coluna 3  Coluna 4  NC\n",
       "2   Brasil  Brasília    987654         0  10"
      ]
     },
     "execution_count": 40,
     "metadata": {},
     "output_type": "execute_result"
    }
   ],
   "source": [
    "df3[df3[\"Coluna 1\"] == 'Brasil']"
   ]
  },
  {
   "cell_type": "code",
   "execution_count": null,
   "metadata": {},
   "outputs": [],
   "source": []
  },
  {
   "cell_type": "code",
   "execution_count": 41,
   "metadata": {},
   "outputs": [
    {
     "data": {
      "text/html": [
       "<div>\n",
       "<style scoped>\n",
       "    .dataframe tbody tr th:only-of-type {\n",
       "        vertical-align: middle;\n",
       "    }\n",
       "\n",
       "    .dataframe tbody tr th {\n",
       "        vertical-align: top;\n",
       "    }\n",
       "\n",
       "    .dataframe thead th {\n",
       "        text-align: right;\n",
       "    }\n",
       "</style>\n",
       "<table border=\"1\" class=\"dataframe\">\n",
       "  <thead>\n",
       "    <tr style=\"text-align: right;\">\n",
       "      <th></th>\n",
       "      <th>Coluna 1</th>\n",
       "      <th>Coluna 2</th>\n",
       "      <th>Coluna 3</th>\n",
       "      <th>Coluna 4</th>\n",
       "      <th>NC</th>\n",
       "    </tr>\n",
       "  </thead>\n",
       "  <tbody>\n",
       "    <tr>\n",
       "      <th>0</th>\n",
       "      <td>Bélgica</td>\n",
       "      <td>Bruxelas</td>\n",
       "      <td>123465</td>\n",
       "      <td>0</td>\n",
       "      <td>10</td>\n",
       "    </tr>\n",
       "  </tbody>\n",
       "</table>\n",
       "</div>"
      ],
      "text/plain": [
       "  Coluna 1  Coluna 2  Coluna 3  Coluna 4  NC\n",
       "0  Bélgica  Bruxelas    123465         0  10"
      ]
     },
     "execution_count": 41,
     "metadata": {},
     "output_type": "execute_result"
    }
   ],
   "source": [
    "df3[df3[\"Coluna 1\"] == 'Bélgica']"
   ]
  },
  {
   "cell_type": "code",
   "execution_count": null,
   "metadata": {},
   "outputs": [],
   "source": []
  },
  {
   "cell_type": "code",
   "execution_count": 42,
   "metadata": {},
   "outputs": [
    {
     "data": {
      "text/html": [
       "<div>\n",
       "<style scoped>\n",
       "    .dataframe tbody tr th:only-of-type {\n",
       "        vertical-align: middle;\n",
       "    }\n",
       "\n",
       "    .dataframe tbody tr th {\n",
       "        vertical-align: top;\n",
       "    }\n",
       "\n",
       "    .dataframe thead th {\n",
       "        text-align: right;\n",
       "    }\n",
       "</style>\n",
       "<table border=\"1\" class=\"dataframe\">\n",
       "  <thead>\n",
       "    <tr style=\"text-align: right;\">\n",
       "      <th></th>\n",
       "      <th>Coluna 1</th>\n",
       "      <th>Coluna 2</th>\n",
       "      <th>Coluna 3</th>\n",
       "      <th>Coluna 4</th>\n",
       "      <th>NC</th>\n",
       "    </tr>\n",
       "  </thead>\n",
       "  <tbody>\n",
       "    <tr>\n",
       "      <th>0</th>\n",
       "      <td>Bélgica</td>\n",
       "      <td>Bruxelas</td>\n",
       "      <td>123465</td>\n",
       "      <td>0</td>\n",
       "      <td>10</td>\n",
       "    </tr>\n",
       "    <tr>\n",
       "      <th>1</th>\n",
       "      <td>Índia</td>\n",
       "      <td>Nova Delhi</td>\n",
       "      <td>456789</td>\n",
       "      <td>0</td>\n",
       "      <td>10</td>\n",
       "    </tr>\n",
       "    <tr>\n",
       "      <th>2</th>\n",
       "      <td>Brasil</td>\n",
       "      <td>Brasília</td>\n",
       "      <td>987654</td>\n",
       "      <td>0</td>\n",
       "      <td>10</td>\n",
       "    </tr>\n",
       "  </tbody>\n",
       "</table>\n",
       "</div>"
      ],
      "text/plain": [
       "  Coluna 1    Coluna 2  Coluna 3  Coluna 4  NC\n",
       "0  Bélgica    Bruxelas    123465         0  10\n",
       "1    Índia  Nova Delhi    456789         0  10\n",
       "2   Brasil    Brasília    987654         0  10"
      ]
     },
     "execution_count": 42,
     "metadata": {},
     "output_type": "execute_result"
    }
   ],
   "source": [
    "df3"
   ]
  },
  {
   "cell_type": "code",
   "execution_count": 43,
   "metadata": {},
   "outputs": [
    {
     "data": {
      "text/plain": [
       "'Bélgica'"
      ]
     },
     "execution_count": 43,
     "metadata": {},
     "output_type": "execute_result"
    }
   ],
   "source": [
    "df3.loc[0, 'Coluna 1']"
   ]
  },
  {
   "cell_type": "code",
   "execution_count": 48,
   "metadata": {},
   "outputs": [
    {
     "data": {
      "text/plain": [
       "'Bélgica'"
      ]
     },
     "execution_count": 48,
     "metadata": {},
     "output_type": "execute_result"
    }
   ],
   "source": [
    "df3.iloc[0]['Coluna 1']"
   ]
  },
  {
   "cell_type": "markdown",
   "metadata": {},
   "source": [
    "Suponha, agora, que queremos importar a base de dados AUTO em \".dta\"."
   ]
  },
  {
   "cell_type": "code",
   "execution_count": 49,
   "metadata": {},
   "outputs": [],
   "source": [
    "df4 = pd.read_stata(\"auto.dta\")"
   ]
  },
  {
   "cell_type": "code",
   "execution_count": 54,
   "metadata": {},
   "outputs": [
    {
     "data": {
      "text/html": [
       "<div>\n",
       "<style scoped>\n",
       "    .dataframe tbody tr th:only-of-type {\n",
       "        vertical-align: middle;\n",
       "    }\n",
       "\n",
       "    .dataframe tbody tr th {\n",
       "        vertical-align: top;\n",
       "    }\n",
       "\n",
       "    .dataframe thead th {\n",
       "        text-align: right;\n",
       "    }\n",
       "</style>\n",
       "<table border=\"1\" class=\"dataframe\">\n",
       "  <thead>\n",
       "    <tr style=\"text-align: right;\">\n",
       "      <th></th>\n",
       "      <th>make</th>\n",
       "      <th>price</th>\n",
       "      <th>mpg</th>\n",
       "      <th>rep78</th>\n",
       "      <th>headroom</th>\n",
       "      <th>trunk</th>\n",
       "      <th>weight</th>\n",
       "      <th>length</th>\n",
       "      <th>turn</th>\n",
       "      <th>displacement</th>\n",
       "      <th>gear_ratio</th>\n",
       "      <th>foreign</th>\n",
       "    </tr>\n",
       "  </thead>\n",
       "  <tbody>\n",
       "    <tr>\n",
       "      <th>0</th>\n",
       "      <td>AMC Concord</td>\n",
       "      <td>4099</td>\n",
       "      <td>22</td>\n",
       "      <td>3.0</td>\n",
       "      <td>2.5</td>\n",
       "      <td>11</td>\n",
       "      <td>2930</td>\n",
       "      <td>186</td>\n",
       "      <td>40</td>\n",
       "      <td>121</td>\n",
       "      <td>3.58</td>\n",
       "      <td>Domestic</td>\n",
       "    </tr>\n",
       "    <tr>\n",
       "      <th>1</th>\n",
       "      <td>AMC Pacer</td>\n",
       "      <td>4749</td>\n",
       "      <td>17</td>\n",
       "      <td>3.0</td>\n",
       "      <td>3.0</td>\n",
       "      <td>11</td>\n",
       "      <td>3350</td>\n",
       "      <td>173</td>\n",
       "      <td>40</td>\n",
       "      <td>258</td>\n",
       "      <td>2.53</td>\n",
       "      <td>Domestic</td>\n",
       "    </tr>\n",
       "    <tr>\n",
       "      <th>2</th>\n",
       "      <td>AMC Spirit</td>\n",
       "      <td>3799</td>\n",
       "      <td>22</td>\n",
       "      <td>NaN</td>\n",
       "      <td>3.0</td>\n",
       "      <td>12</td>\n",
       "      <td>2640</td>\n",
       "      <td>168</td>\n",
       "      <td>35</td>\n",
       "      <td>121</td>\n",
       "      <td>3.08</td>\n",
       "      <td>Domestic</td>\n",
       "    </tr>\n",
       "    <tr>\n",
       "      <th>3</th>\n",
       "      <td>Buick Century</td>\n",
       "      <td>4816</td>\n",
       "      <td>20</td>\n",
       "      <td>3.0</td>\n",
       "      <td>4.5</td>\n",
       "      <td>16</td>\n",
       "      <td>3250</td>\n",
       "      <td>196</td>\n",
       "      <td>40</td>\n",
       "      <td>196</td>\n",
       "      <td>2.93</td>\n",
       "      <td>Domestic</td>\n",
       "    </tr>\n",
       "    <tr>\n",
       "      <th>4</th>\n",
       "      <td>Buick Electra</td>\n",
       "      <td>7827</td>\n",
       "      <td>15</td>\n",
       "      <td>4.0</td>\n",
       "      <td>4.0</td>\n",
       "      <td>20</td>\n",
       "      <td>4080</td>\n",
       "      <td>222</td>\n",
       "      <td>43</td>\n",
       "      <td>350</td>\n",
       "      <td>2.41</td>\n",
       "      <td>Domestic</td>\n",
       "    </tr>\n",
       "  </tbody>\n",
       "</table>\n",
       "</div>"
      ],
      "text/plain": [
       "            make  price  mpg  rep78  headroom  trunk  weight  length  turn  \\\n",
       "0    AMC Concord   4099   22    3.0       2.5     11    2930     186    40   \n",
       "1      AMC Pacer   4749   17    3.0       3.0     11    3350     173    40   \n",
       "2     AMC Spirit   3799   22    NaN       3.0     12    2640     168    35   \n",
       "3  Buick Century   4816   20    3.0       4.5     16    3250     196    40   \n",
       "4  Buick Electra   7827   15    4.0       4.0     20    4080     222    43   \n",
       "\n",
       "   displacement  gear_ratio   foreign  \n",
       "0           121        3.58  Domestic  \n",
       "1           258        2.53  Domestic  \n",
       "2           121        3.08  Domestic  \n",
       "3           196        2.93  Domestic  \n",
       "4           350        2.41  Domestic  "
      ]
     },
     "execution_count": 54,
     "metadata": {},
     "output_type": "execute_result"
    }
   ],
   "source": [
    "df4.head()"
   ]
  },
  {
   "cell_type": "code",
   "execution_count": 63,
   "metadata": {},
   "outputs": [
    {
     "data": {
      "text/plain": [
       "15906"
      ]
     },
     "execution_count": 63,
     "metadata": {},
     "output_type": "execute_result"
    }
   ],
   "source": [
    "df4[\"price\"].max()"
   ]
  },
  {
   "cell_type": "code",
   "execution_count": 76,
   "metadata": {},
   "outputs": [
    {
     "data": {
      "text/html": [
       "<div>\n",
       "<style scoped>\n",
       "    .dataframe tbody tr th:only-of-type {\n",
       "        vertical-align: middle;\n",
       "    }\n",
       "\n",
       "    .dataframe tbody tr th {\n",
       "        vertical-align: top;\n",
       "    }\n",
       "\n",
       "    .dataframe thead th {\n",
       "        text-align: right;\n",
       "    }\n",
       "</style>\n",
       "<table border=\"1\" class=\"dataframe\">\n",
       "  <thead>\n",
       "    <tr style=\"text-align: right;\">\n",
       "      <th></th>\n",
       "      <th>make</th>\n",
       "      <th>price</th>\n",
       "      <th>mpg</th>\n",
       "      <th>rep78</th>\n",
       "      <th>headroom</th>\n",
       "      <th>trunk</th>\n",
       "      <th>weight</th>\n",
       "      <th>length</th>\n",
       "      <th>turn</th>\n",
       "      <th>displacement</th>\n",
       "      <th>gear_ratio</th>\n",
       "      <th>foreign</th>\n",
       "    </tr>\n",
       "  </thead>\n",
       "  <tbody>\n",
       "    <tr>\n",
       "      <th>12</th>\n",
       "      <td>Cad. Seville</td>\n",
       "      <td>15906</td>\n",
       "      <td>21</td>\n",
       "      <td>3.0</td>\n",
       "      <td>3.0</td>\n",
       "      <td>13</td>\n",
       "      <td>4290</td>\n",
       "      <td>204</td>\n",
       "      <td>45</td>\n",
       "      <td>350</td>\n",
       "      <td>2.24</td>\n",
       "      <td>Domestic</td>\n",
       "    </tr>\n",
       "  </tbody>\n",
       "</table>\n",
       "</div>"
      ],
      "text/plain": [
       "            make  price  mpg  rep78  headroom  trunk  weight  length  turn  \\\n",
       "12  Cad. Seville  15906   21    3.0       3.0     13    4290     204    45   \n",
       "\n",
       "    displacement  gear_ratio   foreign  \n",
       "12           350        2.24  Domestic  "
      ]
     },
     "execution_count": 76,
     "metadata": {},
     "output_type": "execute_result"
    }
   ],
   "source": [
    "df4[df4[\"price\"] == 15906]"
   ]
  },
  {
   "cell_type": "code",
   "execution_count": 69,
   "metadata": {},
   "outputs": [
    {
     "data": {
      "text/plain": [
       "74"
      ]
     },
     "execution_count": 69,
     "metadata": {},
     "output_type": "execute_result"
    }
   ],
   "source": [
    "len(df4)"
   ]
  },
  {
   "cell_type": "code",
   "execution_count": 74,
   "metadata": {},
   "outputs": [
    {
     "name": "stdout",
     "output_type": "stream",
     "text": [
      "make            Cad. Seville\n",
      "price                  15906\n",
      "mpg                       21\n",
      "rep78                      3\n",
      "headroom                   3\n",
      "trunk                     13\n",
      "weight                  4290\n",
      "length                   204\n",
      "turn                      45\n",
      "displacement             350\n",
      "gear_ratio              2.24\n",
      "foreign             Domestic\n",
      "Name: 12, dtype: object\n"
     ]
    }
   ],
   "source": [
    "for i in range(len(df4)):\n",
    "    preco = df4.iloc[i]['price']\n",
    "    if preco == 15906:\n",
    "        print(df4.iloc[i])\n",
    "    else:\n",
    "        continue"
   ]
  },
  {
   "cell_type": "code",
   "execution_count": null,
   "metadata": {},
   "outputs": [],
   "source": []
  },
  {
   "cell_type": "code",
   "execution_count": 82,
   "metadata": {},
   "outputs": [
    {
     "data": {
      "text/html": [
       "<div>\n",
       "<style scoped>\n",
       "    .dataframe tbody tr th:only-of-type {\n",
       "        vertical-align: middle;\n",
       "    }\n",
       "\n",
       "    .dataframe tbody tr th {\n",
       "        vertical-align: top;\n",
       "    }\n",
       "\n",
       "    .dataframe thead th {\n",
       "        text-align: right;\n",
       "    }\n",
       "</style>\n",
       "<table border=\"1\" class=\"dataframe\">\n",
       "  <thead>\n",
       "    <tr style=\"text-align: right;\">\n",
       "      <th></th>\n",
       "      <th>make</th>\n",
       "      <th>price</th>\n",
       "      <th>mpg</th>\n",
       "      <th>rep78</th>\n",
       "      <th>headroom</th>\n",
       "      <th>trunk</th>\n",
       "      <th>weight</th>\n",
       "      <th>length</th>\n",
       "      <th>turn</th>\n",
       "      <th>displacement</th>\n",
       "      <th>gear_ratio</th>\n",
       "      <th>foreign</th>\n",
       "    </tr>\n",
       "  </thead>\n",
       "  <tbody>\n",
       "    <tr>\n",
       "      <th>19</th>\n",
       "      <td>Dodge Colt</td>\n",
       "      <td>3984</td>\n",
       "      <td>30</td>\n",
       "      <td>5.0</td>\n",
       "      <td>2.0</td>\n",
       "      <td>8</td>\n",
       "      <td>2120</td>\n",
       "      <td>163</td>\n",
       "      <td>35</td>\n",
       "      <td>98</td>\n",
       "      <td>3.54</td>\n",
       "      <td>Domestic</td>\n",
       "    </tr>\n",
       "    <tr>\n",
       "      <th>18</th>\n",
       "      <td>Chev. Nova</td>\n",
       "      <td>3955</td>\n",
       "      <td>19</td>\n",
       "      <td>3.0</td>\n",
       "      <td>3.5</td>\n",
       "      <td>13</td>\n",
       "      <td>3430</td>\n",
       "      <td>197</td>\n",
       "      <td>43</td>\n",
       "      <td>250</td>\n",
       "      <td>2.56</td>\n",
       "      <td>Domestic</td>\n",
       "    </tr>\n",
       "    <tr>\n",
       "      <th>64</th>\n",
       "      <td>Renault Le Car</td>\n",
       "      <td>3895</td>\n",
       "      <td>26</td>\n",
       "      <td>3.0</td>\n",
       "      <td>3.0</td>\n",
       "      <td>10</td>\n",
       "      <td>1830</td>\n",
       "      <td>142</td>\n",
       "      <td>34</td>\n",
       "      <td>79</td>\n",
       "      <td>3.72</td>\n",
       "      <td>Foreign</td>\n",
       "    </tr>\n",
       "    <tr>\n",
       "      <th>28</th>\n",
       "      <td>Merc. Bobcat</td>\n",
       "      <td>3829</td>\n",
       "      <td>22</td>\n",
       "      <td>4.0</td>\n",
       "      <td>3.0</td>\n",
       "      <td>9</td>\n",
       "      <td>2580</td>\n",
       "      <td>169</td>\n",
       "      <td>39</td>\n",
       "      <td>140</td>\n",
       "      <td>2.73</td>\n",
       "      <td>Domestic</td>\n",
       "    </tr>\n",
       "    <tr>\n",
       "      <th>2</th>\n",
       "      <td>AMC Spirit</td>\n",
       "      <td>3799</td>\n",
       "      <td>22</td>\n",
       "      <td>NaN</td>\n",
       "      <td>3.0</td>\n",
       "      <td>12</td>\n",
       "      <td>2640</td>\n",
       "      <td>168</td>\n",
       "      <td>35</td>\n",
       "      <td>121</td>\n",
       "      <td>3.08</td>\n",
       "      <td>Domestic</td>\n",
       "    </tr>\n",
       "    <tr>\n",
       "      <th>65</th>\n",
       "      <td>Subaru</td>\n",
       "      <td>3798</td>\n",
       "      <td>35</td>\n",
       "      <td>5.0</td>\n",
       "      <td>2.5</td>\n",
       "      <td>11</td>\n",
       "      <td>2050</td>\n",
       "      <td>164</td>\n",
       "      <td>36</td>\n",
       "      <td>97</td>\n",
       "      <td>3.81</td>\n",
       "      <td>Foreign</td>\n",
       "    </tr>\n",
       "    <tr>\n",
       "      <th>67</th>\n",
       "      <td>Toyota Corolla</td>\n",
       "      <td>3748</td>\n",
       "      <td>31</td>\n",
       "      <td>5.0</td>\n",
       "      <td>3.0</td>\n",
       "      <td>9</td>\n",
       "      <td>2200</td>\n",
       "      <td>165</td>\n",
       "      <td>35</td>\n",
       "      <td>97</td>\n",
       "      <td>3.21</td>\n",
       "      <td>Foreign</td>\n",
       "    </tr>\n",
       "    <tr>\n",
       "      <th>17</th>\n",
       "      <td>Chev. Monza</td>\n",
       "      <td>3667</td>\n",
       "      <td>24</td>\n",
       "      <td>2.0</td>\n",
       "      <td>2.0</td>\n",
       "      <td>7</td>\n",
       "      <td>2750</td>\n",
       "      <td>179</td>\n",
       "      <td>40</td>\n",
       "      <td>151</td>\n",
       "      <td>2.73</td>\n",
       "      <td>Domestic</td>\n",
       "    </tr>\n",
       "    <tr>\n",
       "      <th>13</th>\n",
       "      <td>Chev. Chevette</td>\n",
       "      <td>3299</td>\n",
       "      <td>29</td>\n",
       "      <td>3.0</td>\n",
       "      <td>2.5</td>\n",
       "      <td>9</td>\n",
       "      <td>2110</td>\n",
       "      <td>163</td>\n",
       "      <td>34</td>\n",
       "      <td>231</td>\n",
       "      <td>2.93</td>\n",
       "      <td>Domestic</td>\n",
       "    </tr>\n",
       "    <tr>\n",
       "      <th>33</th>\n",
       "      <td>Merc. Zephyr</td>\n",
       "      <td>3291</td>\n",
       "      <td>20</td>\n",
       "      <td>3.0</td>\n",
       "      <td>3.5</td>\n",
       "      <td>17</td>\n",
       "      <td>2830</td>\n",
       "      <td>195</td>\n",
       "      <td>43</td>\n",
       "      <td>140</td>\n",
       "      <td>3.08</td>\n",
       "      <td>Domestic</td>\n",
       "    </tr>\n",
       "  </tbody>\n",
       "</table>\n",
       "</div>"
      ],
      "text/plain": [
       "              make  price  mpg  rep78  headroom  trunk  weight  length  turn  \\\n",
       "19      Dodge Colt   3984   30    5.0       2.0      8    2120     163    35   \n",
       "18      Chev. Nova   3955   19    3.0       3.5     13    3430     197    43   \n",
       "64  Renault Le Car   3895   26    3.0       3.0     10    1830     142    34   \n",
       "28    Merc. Bobcat   3829   22    4.0       3.0      9    2580     169    39   \n",
       "2       AMC Spirit   3799   22    NaN       3.0     12    2640     168    35   \n",
       "65          Subaru   3798   35    5.0       2.5     11    2050     164    36   \n",
       "67  Toyota Corolla   3748   31    5.0       3.0      9    2200     165    35   \n",
       "17     Chev. Monza   3667   24    2.0       2.0      7    2750     179    40   \n",
       "13  Chev. Chevette   3299   29    3.0       2.5      9    2110     163    34   \n",
       "33    Merc. Zephyr   3291   20    3.0       3.5     17    2830     195    43   \n",
       "\n",
       "    displacement  gear_ratio   foreign  \n",
       "19            98        3.54  Domestic  \n",
       "18           250        2.56  Domestic  \n",
       "64            79        3.72   Foreign  \n",
       "28           140        2.73  Domestic  \n",
       "2            121        3.08  Domestic  \n",
       "65            97        3.81   Foreign  \n",
       "67            97        3.21   Foreign  \n",
       "17           151        2.73  Domestic  \n",
       "13           231        2.93  Domestic  \n",
       "33           140        3.08  Domestic  "
      ]
     },
     "execution_count": 82,
     "metadata": {},
     "output_type": "execute_result"
    }
   ],
   "source": [
    "df4.sort_values(by='price',ascending=False).tail(10)"
   ]
  },
  {
   "cell_type": "code",
   "execution_count": null,
   "metadata": {},
   "outputs": [],
   "source": []
  },
  {
   "cell_type": "code",
   "execution_count": null,
   "metadata": {},
   "outputs": [],
   "source": []
  },
  {
   "cell_type": "code",
   "execution_count": null,
   "metadata": {},
   "outputs": [],
   "source": []
  },
  {
   "cell_type": "code",
   "execution_count": null,
   "metadata": {},
   "outputs": [],
   "source": []
  },
  {
   "cell_type": "code",
   "execution_count": 56,
   "metadata": {},
   "outputs": [
    {
     "name": "stdout",
     "output_type": "stream",
     "text": [
      "Soma:  456229\n",
      "Valor máximo:  15906\n",
      "Valor mínimo:  3291\n",
      "Média 6165.256756756757\n"
     ]
    }
   ],
   "source": [
    "print('Soma: ',         df4[\"price\"].sum())\n",
    "print('Valor máximo: ', df4[\"price\"].max())\n",
    "print('Valor mínimo: ', df4[\"price\"].min())\n",
    "print('Média',          df4[\"price\"].mean())"
   ]
  },
  {
   "cell_type": "markdown",
   "metadata": {},
   "source": [
    "Um outro comando bastante útil é o \"value_counts\". Com ele podemos contar a frequência de cada valor em um columa não numérica."
   ]
  },
  {
   "cell_type": "code",
   "execution_count": 57,
   "metadata": {},
   "outputs": [
    {
     "data": {
      "text/plain": [
       "Domestic    52\n",
       "Foreign     22\n",
       "Name: foreign, dtype: int64"
      ]
     },
     "execution_count": 57,
     "metadata": {},
     "output_type": "execute_result"
    }
   ],
   "source": [
    "df4[\"foreign\"].value_counts()"
   ]
  },
  {
   "cell_type": "markdown",
   "metadata": {},
   "source": [
    "Pode-se, então, criar uma sub-base de dados baseada em valores específicos de uma coluna. Por exemplo, imagine que queremos apenas as informações dos carros importados."
   ]
  },
  {
   "cell_type": "code",
   "execution_count": 58,
   "metadata": {},
   "outputs": [
    {
     "data": {
      "text/html": [
       "<div>\n",
       "<style scoped>\n",
       "    .dataframe tbody tr th:only-of-type {\n",
       "        vertical-align: middle;\n",
       "    }\n",
       "\n",
       "    .dataframe tbody tr th {\n",
       "        vertical-align: top;\n",
       "    }\n",
       "\n",
       "    .dataframe thead th {\n",
       "        text-align: right;\n",
       "    }\n",
       "</style>\n",
       "<table border=\"1\" class=\"dataframe\">\n",
       "  <thead>\n",
       "    <tr style=\"text-align: right;\">\n",
       "      <th></th>\n",
       "      <th>make</th>\n",
       "      <th>price</th>\n",
       "      <th>mpg</th>\n",
       "      <th>rep78</th>\n",
       "      <th>headroom</th>\n",
       "      <th>trunk</th>\n",
       "      <th>weight</th>\n",
       "      <th>length</th>\n",
       "      <th>turn</th>\n",
       "      <th>displacement</th>\n",
       "      <th>gear_ratio</th>\n",
       "      <th>foreign</th>\n",
       "    </tr>\n",
       "  </thead>\n",
       "  <tbody>\n",
       "    <tr>\n",
       "      <th>52</th>\n",
       "      <td>Audi 5000</td>\n",
       "      <td>9690</td>\n",
       "      <td>17</td>\n",
       "      <td>5.0</td>\n",
       "      <td>3.0</td>\n",
       "      <td>15</td>\n",
       "      <td>2830</td>\n",
       "      <td>189</td>\n",
       "      <td>37</td>\n",
       "      <td>131</td>\n",
       "      <td>3.20</td>\n",
       "      <td>Foreign</td>\n",
       "    </tr>\n",
       "    <tr>\n",
       "      <th>53</th>\n",
       "      <td>Audi Fox</td>\n",
       "      <td>6295</td>\n",
       "      <td>23</td>\n",
       "      <td>3.0</td>\n",
       "      <td>2.5</td>\n",
       "      <td>11</td>\n",
       "      <td>2070</td>\n",
       "      <td>174</td>\n",
       "      <td>36</td>\n",
       "      <td>97</td>\n",
       "      <td>3.70</td>\n",
       "      <td>Foreign</td>\n",
       "    </tr>\n",
       "    <tr>\n",
       "      <th>54</th>\n",
       "      <td>BMW 320i</td>\n",
       "      <td>9735</td>\n",
       "      <td>25</td>\n",
       "      <td>4.0</td>\n",
       "      <td>2.5</td>\n",
       "      <td>12</td>\n",
       "      <td>2650</td>\n",
       "      <td>177</td>\n",
       "      <td>34</td>\n",
       "      <td>121</td>\n",
       "      <td>3.64</td>\n",
       "      <td>Foreign</td>\n",
       "    </tr>\n",
       "    <tr>\n",
       "      <th>55</th>\n",
       "      <td>Datsun 200</td>\n",
       "      <td>6229</td>\n",
       "      <td>23</td>\n",
       "      <td>4.0</td>\n",
       "      <td>1.5</td>\n",
       "      <td>6</td>\n",
       "      <td>2370</td>\n",
       "      <td>170</td>\n",
       "      <td>35</td>\n",
       "      <td>119</td>\n",
       "      <td>3.89</td>\n",
       "      <td>Foreign</td>\n",
       "    </tr>\n",
       "    <tr>\n",
       "      <th>56</th>\n",
       "      <td>Datsun 210</td>\n",
       "      <td>4589</td>\n",
       "      <td>35</td>\n",
       "      <td>5.0</td>\n",
       "      <td>2.0</td>\n",
       "      <td>8</td>\n",
       "      <td>2020</td>\n",
       "      <td>165</td>\n",
       "      <td>32</td>\n",
       "      <td>85</td>\n",
       "      <td>3.70</td>\n",
       "      <td>Foreign</td>\n",
       "    </tr>\n",
       "    <tr>\n",
       "      <th>57</th>\n",
       "      <td>Datsun 510</td>\n",
       "      <td>5079</td>\n",
       "      <td>24</td>\n",
       "      <td>4.0</td>\n",
       "      <td>2.5</td>\n",
       "      <td>8</td>\n",
       "      <td>2280</td>\n",
       "      <td>170</td>\n",
       "      <td>34</td>\n",
       "      <td>119</td>\n",
       "      <td>3.54</td>\n",
       "      <td>Foreign</td>\n",
       "    </tr>\n",
       "    <tr>\n",
       "      <th>58</th>\n",
       "      <td>Datsun 810</td>\n",
       "      <td>8129</td>\n",
       "      <td>21</td>\n",
       "      <td>4.0</td>\n",
       "      <td>2.5</td>\n",
       "      <td>8</td>\n",
       "      <td>2750</td>\n",
       "      <td>184</td>\n",
       "      <td>38</td>\n",
       "      <td>146</td>\n",
       "      <td>3.55</td>\n",
       "      <td>Foreign</td>\n",
       "    </tr>\n",
       "    <tr>\n",
       "      <th>59</th>\n",
       "      <td>Fiat Strada</td>\n",
       "      <td>4296</td>\n",
       "      <td>21</td>\n",
       "      <td>3.0</td>\n",
       "      <td>2.5</td>\n",
       "      <td>16</td>\n",
       "      <td>2130</td>\n",
       "      <td>161</td>\n",
       "      <td>36</td>\n",
       "      <td>105</td>\n",
       "      <td>3.37</td>\n",
       "      <td>Foreign</td>\n",
       "    </tr>\n",
       "    <tr>\n",
       "      <th>60</th>\n",
       "      <td>Honda Accord</td>\n",
       "      <td>5799</td>\n",
       "      <td>25</td>\n",
       "      <td>5.0</td>\n",
       "      <td>3.0</td>\n",
       "      <td>10</td>\n",
       "      <td>2240</td>\n",
       "      <td>172</td>\n",
       "      <td>36</td>\n",
       "      <td>107</td>\n",
       "      <td>3.05</td>\n",
       "      <td>Foreign</td>\n",
       "    </tr>\n",
       "    <tr>\n",
       "      <th>61</th>\n",
       "      <td>Honda Civic</td>\n",
       "      <td>4499</td>\n",
       "      <td>28</td>\n",
       "      <td>4.0</td>\n",
       "      <td>2.5</td>\n",
       "      <td>5</td>\n",
       "      <td>1760</td>\n",
       "      <td>149</td>\n",
       "      <td>34</td>\n",
       "      <td>91</td>\n",
       "      <td>3.30</td>\n",
       "      <td>Foreign</td>\n",
       "    </tr>\n",
       "    <tr>\n",
       "      <th>62</th>\n",
       "      <td>Mazda GLC</td>\n",
       "      <td>3995</td>\n",
       "      <td>30</td>\n",
       "      <td>4.0</td>\n",
       "      <td>3.5</td>\n",
       "      <td>11</td>\n",
       "      <td>1980</td>\n",
       "      <td>154</td>\n",
       "      <td>33</td>\n",
       "      <td>86</td>\n",
       "      <td>3.73</td>\n",
       "      <td>Foreign</td>\n",
       "    </tr>\n",
       "    <tr>\n",
       "      <th>63</th>\n",
       "      <td>Peugeot 604</td>\n",
       "      <td>12990</td>\n",
       "      <td>14</td>\n",
       "      <td>NaN</td>\n",
       "      <td>3.5</td>\n",
       "      <td>14</td>\n",
       "      <td>3420</td>\n",
       "      <td>192</td>\n",
       "      <td>38</td>\n",
       "      <td>163</td>\n",
       "      <td>3.58</td>\n",
       "      <td>Foreign</td>\n",
       "    </tr>\n",
       "    <tr>\n",
       "      <th>64</th>\n",
       "      <td>Renault Le Car</td>\n",
       "      <td>3895</td>\n",
       "      <td>26</td>\n",
       "      <td>3.0</td>\n",
       "      <td>3.0</td>\n",
       "      <td>10</td>\n",
       "      <td>1830</td>\n",
       "      <td>142</td>\n",
       "      <td>34</td>\n",
       "      <td>79</td>\n",
       "      <td>3.72</td>\n",
       "      <td>Foreign</td>\n",
       "    </tr>\n",
       "    <tr>\n",
       "      <th>65</th>\n",
       "      <td>Subaru</td>\n",
       "      <td>3798</td>\n",
       "      <td>35</td>\n",
       "      <td>5.0</td>\n",
       "      <td>2.5</td>\n",
       "      <td>11</td>\n",
       "      <td>2050</td>\n",
       "      <td>164</td>\n",
       "      <td>36</td>\n",
       "      <td>97</td>\n",
       "      <td>3.81</td>\n",
       "      <td>Foreign</td>\n",
       "    </tr>\n",
       "    <tr>\n",
       "      <th>66</th>\n",
       "      <td>Toyota Celica</td>\n",
       "      <td>5899</td>\n",
       "      <td>18</td>\n",
       "      <td>5.0</td>\n",
       "      <td>2.5</td>\n",
       "      <td>14</td>\n",
       "      <td>2410</td>\n",
       "      <td>174</td>\n",
       "      <td>36</td>\n",
       "      <td>134</td>\n",
       "      <td>3.06</td>\n",
       "      <td>Foreign</td>\n",
       "    </tr>\n",
       "    <tr>\n",
       "      <th>67</th>\n",
       "      <td>Toyota Corolla</td>\n",
       "      <td>3748</td>\n",
       "      <td>31</td>\n",
       "      <td>5.0</td>\n",
       "      <td>3.0</td>\n",
       "      <td>9</td>\n",
       "      <td>2200</td>\n",
       "      <td>165</td>\n",
       "      <td>35</td>\n",
       "      <td>97</td>\n",
       "      <td>3.21</td>\n",
       "      <td>Foreign</td>\n",
       "    </tr>\n",
       "    <tr>\n",
       "      <th>68</th>\n",
       "      <td>Toyota Corona</td>\n",
       "      <td>5719</td>\n",
       "      <td>18</td>\n",
       "      <td>5.0</td>\n",
       "      <td>2.0</td>\n",
       "      <td>11</td>\n",
       "      <td>2670</td>\n",
       "      <td>175</td>\n",
       "      <td>36</td>\n",
       "      <td>134</td>\n",
       "      <td>3.05</td>\n",
       "      <td>Foreign</td>\n",
       "    </tr>\n",
       "    <tr>\n",
       "      <th>69</th>\n",
       "      <td>VW Dasher</td>\n",
       "      <td>7140</td>\n",
       "      <td>23</td>\n",
       "      <td>4.0</td>\n",
       "      <td>2.5</td>\n",
       "      <td>12</td>\n",
       "      <td>2160</td>\n",
       "      <td>172</td>\n",
       "      <td>36</td>\n",
       "      <td>97</td>\n",
       "      <td>3.74</td>\n",
       "      <td>Foreign</td>\n",
       "    </tr>\n",
       "    <tr>\n",
       "      <th>70</th>\n",
       "      <td>VW Diesel</td>\n",
       "      <td>5397</td>\n",
       "      <td>41</td>\n",
       "      <td>5.0</td>\n",
       "      <td>3.0</td>\n",
       "      <td>15</td>\n",
       "      <td>2040</td>\n",
       "      <td>155</td>\n",
       "      <td>35</td>\n",
       "      <td>90</td>\n",
       "      <td>3.78</td>\n",
       "      <td>Foreign</td>\n",
       "    </tr>\n",
       "    <tr>\n",
       "      <th>71</th>\n",
       "      <td>VW Rabbit</td>\n",
       "      <td>4697</td>\n",
       "      <td>25</td>\n",
       "      <td>4.0</td>\n",
       "      <td>3.0</td>\n",
       "      <td>15</td>\n",
       "      <td>1930</td>\n",
       "      <td>155</td>\n",
       "      <td>35</td>\n",
       "      <td>89</td>\n",
       "      <td>3.78</td>\n",
       "      <td>Foreign</td>\n",
       "    </tr>\n",
       "    <tr>\n",
       "      <th>72</th>\n",
       "      <td>VW Scirocco</td>\n",
       "      <td>6850</td>\n",
       "      <td>25</td>\n",
       "      <td>4.0</td>\n",
       "      <td>2.0</td>\n",
       "      <td>16</td>\n",
       "      <td>1990</td>\n",
       "      <td>156</td>\n",
       "      <td>36</td>\n",
       "      <td>97</td>\n",
       "      <td>3.78</td>\n",
       "      <td>Foreign</td>\n",
       "    </tr>\n",
       "    <tr>\n",
       "      <th>73</th>\n",
       "      <td>Volvo 260</td>\n",
       "      <td>11995</td>\n",
       "      <td>17</td>\n",
       "      <td>5.0</td>\n",
       "      <td>2.5</td>\n",
       "      <td>14</td>\n",
       "      <td>3170</td>\n",
       "      <td>193</td>\n",
       "      <td>37</td>\n",
       "      <td>163</td>\n",
       "      <td>2.98</td>\n",
       "      <td>Foreign</td>\n",
       "    </tr>\n",
       "  </tbody>\n",
       "</table>\n",
       "</div>"
      ],
      "text/plain": [
       "              make  price  mpg  rep78  headroom  trunk  weight  length  turn  \\\n",
       "52       Audi 5000   9690   17    5.0       3.0     15    2830     189    37   \n",
       "53        Audi Fox   6295   23    3.0       2.5     11    2070     174    36   \n",
       "54        BMW 320i   9735   25    4.0       2.5     12    2650     177    34   \n",
       "55      Datsun 200   6229   23    4.0       1.5      6    2370     170    35   \n",
       "56      Datsun 210   4589   35    5.0       2.0      8    2020     165    32   \n",
       "57      Datsun 510   5079   24    4.0       2.5      8    2280     170    34   \n",
       "58      Datsun 810   8129   21    4.0       2.5      8    2750     184    38   \n",
       "59     Fiat Strada   4296   21    3.0       2.5     16    2130     161    36   \n",
       "60    Honda Accord   5799   25    5.0       3.0     10    2240     172    36   \n",
       "61     Honda Civic   4499   28    4.0       2.5      5    1760     149    34   \n",
       "62       Mazda GLC   3995   30    4.0       3.5     11    1980     154    33   \n",
       "63     Peugeot 604  12990   14    NaN       3.5     14    3420     192    38   \n",
       "64  Renault Le Car   3895   26    3.0       3.0     10    1830     142    34   \n",
       "65          Subaru   3798   35    5.0       2.5     11    2050     164    36   \n",
       "66   Toyota Celica   5899   18    5.0       2.5     14    2410     174    36   \n",
       "67  Toyota Corolla   3748   31    5.0       3.0      9    2200     165    35   \n",
       "68   Toyota Corona   5719   18    5.0       2.0     11    2670     175    36   \n",
       "69       VW Dasher   7140   23    4.0       2.5     12    2160     172    36   \n",
       "70       VW Diesel   5397   41    5.0       3.0     15    2040     155    35   \n",
       "71       VW Rabbit   4697   25    4.0       3.0     15    1930     155    35   \n",
       "72     VW Scirocco   6850   25    4.0       2.0     16    1990     156    36   \n",
       "73       Volvo 260  11995   17    5.0       2.5     14    3170     193    37   \n",
       "\n",
       "    displacement  gear_ratio  foreign  \n",
       "52           131        3.20  Foreign  \n",
       "53            97        3.70  Foreign  \n",
       "54           121        3.64  Foreign  \n",
       "55           119        3.89  Foreign  \n",
       "56            85        3.70  Foreign  \n",
       "57           119        3.54  Foreign  \n",
       "58           146        3.55  Foreign  \n",
       "59           105        3.37  Foreign  \n",
       "60           107        3.05  Foreign  \n",
       "61            91        3.30  Foreign  \n",
       "62            86        3.73  Foreign  \n",
       "63           163        3.58  Foreign  \n",
       "64            79        3.72  Foreign  \n",
       "65            97        3.81  Foreign  \n",
       "66           134        3.06  Foreign  \n",
       "67            97        3.21  Foreign  \n",
       "68           134        3.05  Foreign  \n",
       "69            97        3.74  Foreign  \n",
       "70            90        3.78  Foreign  \n",
       "71            89        3.78  Foreign  \n",
       "72            97        3.78  Foreign  \n",
       "73           163        2.98  Foreign  "
      ]
     },
     "execution_count": 58,
     "metadata": {},
     "output_type": "execute_result"
    }
   ],
   "source": [
    "df4[df4[\"foreign\"] == 'Foreign']"
   ]
  },
  {
   "cell_type": "code",
   "execution_count": 59,
   "metadata": {},
   "outputs": [],
   "source": [
    "df4_impot = df4[df4[\"foreign\"] == 'Foreign'] # Dados carros importados\n",
    "df4_nacio = df4[df4[\"foreign\"] == 'Domestic']"
   ]
  },
  {
   "cell_type": "code",
   "execution_count": 60,
   "metadata": {},
   "outputs": [
    {
     "data": {
      "text/html": [
       "<div>\n",
       "<style scoped>\n",
       "    .dataframe tbody tr th:only-of-type {\n",
       "        vertical-align: middle;\n",
       "    }\n",
       "\n",
       "    .dataframe tbody tr th {\n",
       "        vertical-align: top;\n",
       "    }\n",
       "\n",
       "    .dataframe thead th {\n",
       "        text-align: right;\n",
       "    }\n",
       "</style>\n",
       "<table border=\"1\" class=\"dataframe\">\n",
       "  <thead>\n",
       "    <tr style=\"text-align: right;\">\n",
       "      <th></th>\n",
       "      <th>make</th>\n",
       "      <th>price</th>\n",
       "      <th>mpg</th>\n",
       "      <th>rep78</th>\n",
       "      <th>headroom</th>\n",
       "      <th>trunk</th>\n",
       "      <th>weight</th>\n",
       "      <th>length</th>\n",
       "      <th>turn</th>\n",
       "      <th>displacement</th>\n",
       "      <th>gear_ratio</th>\n",
       "      <th>foreign</th>\n",
       "    </tr>\n",
       "  </thead>\n",
       "  <tbody>\n",
       "    <tr>\n",
       "      <th>52</th>\n",
       "      <td>Audi 5000</td>\n",
       "      <td>9690</td>\n",
       "      <td>17</td>\n",
       "      <td>5.0</td>\n",
       "      <td>3.0</td>\n",
       "      <td>15</td>\n",
       "      <td>2830</td>\n",
       "      <td>189</td>\n",
       "      <td>37</td>\n",
       "      <td>131</td>\n",
       "      <td>3.20</td>\n",
       "      <td>Foreign</td>\n",
       "    </tr>\n",
       "    <tr>\n",
       "      <th>53</th>\n",
       "      <td>Audi Fox</td>\n",
       "      <td>6295</td>\n",
       "      <td>23</td>\n",
       "      <td>3.0</td>\n",
       "      <td>2.5</td>\n",
       "      <td>11</td>\n",
       "      <td>2070</td>\n",
       "      <td>174</td>\n",
       "      <td>36</td>\n",
       "      <td>97</td>\n",
       "      <td>3.70</td>\n",
       "      <td>Foreign</td>\n",
       "    </tr>\n",
       "    <tr>\n",
       "      <th>54</th>\n",
       "      <td>BMW 320i</td>\n",
       "      <td>9735</td>\n",
       "      <td>25</td>\n",
       "      <td>4.0</td>\n",
       "      <td>2.5</td>\n",
       "      <td>12</td>\n",
       "      <td>2650</td>\n",
       "      <td>177</td>\n",
       "      <td>34</td>\n",
       "      <td>121</td>\n",
       "      <td>3.64</td>\n",
       "      <td>Foreign</td>\n",
       "    </tr>\n",
       "    <tr>\n",
       "      <th>55</th>\n",
       "      <td>Datsun 200</td>\n",
       "      <td>6229</td>\n",
       "      <td>23</td>\n",
       "      <td>4.0</td>\n",
       "      <td>1.5</td>\n",
       "      <td>6</td>\n",
       "      <td>2370</td>\n",
       "      <td>170</td>\n",
       "      <td>35</td>\n",
       "      <td>119</td>\n",
       "      <td>3.89</td>\n",
       "      <td>Foreign</td>\n",
       "    </tr>\n",
       "    <tr>\n",
       "      <th>56</th>\n",
       "      <td>Datsun 210</td>\n",
       "      <td>4589</td>\n",
       "      <td>35</td>\n",
       "      <td>5.0</td>\n",
       "      <td>2.0</td>\n",
       "      <td>8</td>\n",
       "      <td>2020</td>\n",
       "      <td>165</td>\n",
       "      <td>32</td>\n",
       "      <td>85</td>\n",
       "      <td>3.70</td>\n",
       "      <td>Foreign</td>\n",
       "    </tr>\n",
       "  </tbody>\n",
       "</table>\n",
       "</div>"
      ],
      "text/plain": [
       "          make  price  mpg  rep78  headroom  trunk  weight  length  turn  \\\n",
       "52   Audi 5000   9690   17    5.0       3.0     15    2830     189    37   \n",
       "53    Audi Fox   6295   23    3.0       2.5     11    2070     174    36   \n",
       "54    BMW 320i   9735   25    4.0       2.5     12    2650     177    34   \n",
       "55  Datsun 200   6229   23    4.0       1.5      6    2370     170    35   \n",
       "56  Datsun 210   4589   35    5.0       2.0      8    2020     165    32   \n",
       "\n",
       "    displacement  gear_ratio  foreign  \n",
       "52           131        3.20  Foreign  \n",
       "53            97        3.70  Foreign  \n",
       "54           121        3.64  Foreign  \n",
       "55           119        3.89  Foreign  \n",
       "56            85        3.70  Foreign  "
      ]
     },
     "execution_count": 60,
     "metadata": {},
     "output_type": "execute_result"
    }
   ],
   "source": [
    "df4_impot.head()"
   ]
  },
  {
   "cell_type": "code",
   "execution_count": 61,
   "metadata": {},
   "outputs": [
    {
     "data": {
      "text/html": [
       "<div>\n",
       "<style scoped>\n",
       "    .dataframe tbody tr th:only-of-type {\n",
       "        vertical-align: middle;\n",
       "    }\n",
       "\n",
       "    .dataframe tbody tr th {\n",
       "        vertical-align: top;\n",
       "    }\n",
       "\n",
       "    .dataframe thead th {\n",
       "        text-align: right;\n",
       "    }\n",
       "</style>\n",
       "<table border=\"1\" class=\"dataframe\">\n",
       "  <thead>\n",
       "    <tr style=\"text-align: right;\">\n",
       "      <th></th>\n",
       "      <th>make</th>\n",
       "      <th>price</th>\n",
       "      <th>mpg</th>\n",
       "      <th>rep78</th>\n",
       "      <th>headroom</th>\n",
       "      <th>trunk</th>\n",
       "      <th>weight</th>\n",
       "      <th>length</th>\n",
       "      <th>turn</th>\n",
       "      <th>displacement</th>\n",
       "      <th>gear_ratio</th>\n",
       "      <th>foreign</th>\n",
       "    </tr>\n",
       "  </thead>\n",
       "  <tbody>\n",
       "    <tr>\n",
       "      <th>0</th>\n",
       "      <td>AMC Concord</td>\n",
       "      <td>4099</td>\n",
       "      <td>22</td>\n",
       "      <td>3.0</td>\n",
       "      <td>2.5</td>\n",
       "      <td>11</td>\n",
       "      <td>2930</td>\n",
       "      <td>186</td>\n",
       "      <td>40</td>\n",
       "      <td>121</td>\n",
       "      <td>3.58</td>\n",
       "      <td>Domestic</td>\n",
       "    </tr>\n",
       "    <tr>\n",
       "      <th>1</th>\n",
       "      <td>AMC Pacer</td>\n",
       "      <td>4749</td>\n",
       "      <td>17</td>\n",
       "      <td>3.0</td>\n",
       "      <td>3.0</td>\n",
       "      <td>11</td>\n",
       "      <td>3350</td>\n",
       "      <td>173</td>\n",
       "      <td>40</td>\n",
       "      <td>258</td>\n",
       "      <td>2.53</td>\n",
       "      <td>Domestic</td>\n",
       "    </tr>\n",
       "    <tr>\n",
       "      <th>2</th>\n",
       "      <td>AMC Spirit</td>\n",
       "      <td>3799</td>\n",
       "      <td>22</td>\n",
       "      <td>NaN</td>\n",
       "      <td>3.0</td>\n",
       "      <td>12</td>\n",
       "      <td>2640</td>\n",
       "      <td>168</td>\n",
       "      <td>35</td>\n",
       "      <td>121</td>\n",
       "      <td>3.08</td>\n",
       "      <td>Domestic</td>\n",
       "    </tr>\n",
       "    <tr>\n",
       "      <th>3</th>\n",
       "      <td>Buick Century</td>\n",
       "      <td>4816</td>\n",
       "      <td>20</td>\n",
       "      <td>3.0</td>\n",
       "      <td>4.5</td>\n",
       "      <td>16</td>\n",
       "      <td>3250</td>\n",
       "      <td>196</td>\n",
       "      <td>40</td>\n",
       "      <td>196</td>\n",
       "      <td>2.93</td>\n",
       "      <td>Domestic</td>\n",
       "    </tr>\n",
       "    <tr>\n",
       "      <th>4</th>\n",
       "      <td>Buick Electra</td>\n",
       "      <td>7827</td>\n",
       "      <td>15</td>\n",
       "      <td>4.0</td>\n",
       "      <td>4.0</td>\n",
       "      <td>20</td>\n",
       "      <td>4080</td>\n",
       "      <td>222</td>\n",
       "      <td>43</td>\n",
       "      <td>350</td>\n",
       "      <td>2.41</td>\n",
       "      <td>Domestic</td>\n",
       "    </tr>\n",
       "  </tbody>\n",
       "</table>\n",
       "</div>"
      ],
      "text/plain": [
       "            make  price  mpg  rep78  headroom  trunk  weight  length  turn  \\\n",
       "0    AMC Concord   4099   22    3.0       2.5     11    2930     186    40   \n",
       "1      AMC Pacer   4749   17    3.0       3.0     11    3350     173    40   \n",
       "2     AMC Spirit   3799   22    NaN       3.0     12    2640     168    35   \n",
       "3  Buick Century   4816   20    3.0       4.5     16    3250     196    40   \n",
       "4  Buick Electra   7827   15    4.0       4.0     20    4080     222    43   \n",
       "\n",
       "   displacement  gear_ratio   foreign  \n",
       "0           121        3.58  Domestic  \n",
       "1           258        2.53  Domestic  \n",
       "2           121        3.08  Domestic  \n",
       "3           196        2.93  Domestic  \n",
       "4           350        2.41  Domestic  "
      ]
     },
     "execution_count": 61,
     "metadata": {},
     "output_type": "execute_result"
    }
   ],
   "source": [
    "df4_nacio.head()"
   ]
  },
  {
   "cell_type": "markdown",
   "metadata": {},
   "source": [
    "Vamos observar o preço médio do carro importado."
   ]
  },
  {
   "cell_type": "code",
   "execution_count": 62,
   "metadata": {},
   "outputs": [
    {
     "name": "stdout",
     "output_type": "stream",
     "text": [
      "Média Impot.:  6384.681818181818\n",
      "Média Nacio.:  6072.423076923077\n"
     ]
    }
   ],
   "source": [
    "print('Média Impot.: ',df4_impot[\"price\"].mean())\n",
    "print('Média Nacio.: ',df4_nacio[\"price\"].mean())"
   ]
  },
  {
   "cell_type": "code",
   "execution_count": null,
   "metadata": {},
   "outputs": [],
   "source": []
  },
  {
   "cell_type": "code",
   "execution_count": 83,
   "metadata": {},
   "outputs": [],
   "source": [
    "df_filmes = pd.DataFrame(columns=('name', 'obs', 'rate'))"
   ]
  },
  {
   "cell_type": "code",
   "execution_count": 84,
   "metadata": {},
   "outputs": [
    {
     "data": {
      "text/html": [
       "<div>\n",
       "<style scoped>\n",
       "    .dataframe tbody tr th:only-of-type {\n",
       "        vertical-align: middle;\n",
       "    }\n",
       "\n",
       "    .dataframe tbody tr th {\n",
       "        vertical-align: top;\n",
       "    }\n",
       "\n",
       "    .dataframe thead th {\n",
       "        text-align: right;\n",
       "    }\n",
       "</style>\n",
       "<table border=\"1\" class=\"dataframe\">\n",
       "  <thead>\n",
       "    <tr style=\"text-align: right;\">\n",
       "      <th></th>\n",
       "      <th>name</th>\n",
       "      <th>obs</th>\n",
       "      <th>rate</th>\n",
       "    </tr>\n",
       "  </thead>\n",
       "  <tbody>\n",
       "  </tbody>\n",
       "</table>\n",
       "</div>"
      ],
      "text/plain": [
       "Empty DataFrame\n",
       "Columns: [name, obs, rate]\n",
       "Index: []"
      ]
     },
     "execution_count": 84,
     "metadata": {},
     "output_type": "execute_result"
    }
   ],
   "source": [
    "df_filmes"
   ]
  },
  {
   "cell_type": "code",
   "execution_count": 86,
   "metadata": {},
   "outputs": [
    {
     "data": {
      "text/plain": [
       "0"
      ]
     },
     "execution_count": 86,
     "metadata": {},
     "output_type": "execute_result"
    }
   ],
   "source": [
    "len(df_filmes)"
   ]
  },
  {
   "cell_type": "code",
   "execution_count": 88,
   "metadata": {},
   "outputs": [],
   "source": [
    "df_filmes.loc[0] = ['Teste', '50', '4']"
   ]
  },
  {
   "cell_type": "code",
   "execution_count": 89,
   "metadata": {},
   "outputs": [
    {
     "data": {
      "text/html": [
       "<div>\n",
       "<style scoped>\n",
       "    .dataframe tbody tr th:only-of-type {\n",
       "        vertical-align: middle;\n",
       "    }\n",
       "\n",
       "    .dataframe tbody tr th {\n",
       "        vertical-align: top;\n",
       "    }\n",
       "\n",
       "    .dataframe thead th {\n",
       "        text-align: right;\n",
       "    }\n",
       "</style>\n",
       "<table border=\"1\" class=\"dataframe\">\n",
       "  <thead>\n",
       "    <tr style=\"text-align: right;\">\n",
       "      <th></th>\n",
       "      <th>name</th>\n",
       "      <th>obs</th>\n",
       "      <th>rate</th>\n",
       "    </tr>\n",
       "  </thead>\n",
       "  <tbody>\n",
       "    <tr>\n",
       "      <th>0</th>\n",
       "      <td>Teste</td>\n",
       "      <td>50</td>\n",
       "      <td>4</td>\n",
       "    </tr>\n",
       "  </tbody>\n",
       "</table>\n",
       "</div>"
      ],
      "text/plain": [
       "    name obs rate\n",
       "0  Teste  50    4"
      ]
     },
     "execution_count": 89,
     "metadata": {},
     "output_type": "execute_result"
    }
   ],
   "source": [
    "df_filmes"
   ]
  },
  {
   "cell_type": "code",
   "execution_count": 90,
   "metadata": {},
   "outputs": [
    {
     "data": {
      "text/plain": [
       "1"
      ]
     },
     "execution_count": 90,
     "metadata": {},
     "output_type": "execute_result"
    }
   ],
   "source": [
    "len(df_filmes)"
   ]
  },
  {
   "cell_type": "code",
   "execution_count": 95,
   "metadata": {},
   "outputs": [],
   "source": [
    "df_filmes.loc[len(df_filmes)] = ['Teste', '50', '4']"
   ]
  },
  {
   "cell_type": "code",
   "execution_count": 100,
   "metadata": {},
   "outputs": [
    {
     "ename": "NameError",
     "evalue": "name 'df_filmes' is not defined",
     "output_type": "error",
     "traceback": [
      "\u001b[0;31m---------------------------------------------------------------------------\u001b[0m",
      "\u001b[0;31mNameError\u001b[0m                                 Traceback (most recent call last)",
      "\u001b[0;32m<ipython-input-100-978221a7a2ab>\u001b[0m in \u001b[0;36m<module>\u001b[0;34m\u001b[0m\n\u001b[0;32m----> 1\u001b[0;31m \u001b[0mdf_filmes\u001b[0m\u001b[0;34m\u001b[0m\u001b[0;34m\u001b[0m\u001b[0m\n\u001b[0m",
      "\u001b[0;31mNameError\u001b[0m: name 'df_filmes' is not defined"
     ]
    }
   ],
   "source": [
    "df_filmes"
   ]
  },
  {
   "cell_type": "code",
   "execution_count": 97,
   "metadata": {},
   "outputs": [
    {
     "data": {
      "text/plain": [
       "5"
      ]
     },
     "execution_count": 97,
     "metadata": {},
     "output_type": "execute_result"
    }
   ],
   "source": [
    "len(df_filmes)"
   ]
  },
  {
   "cell_type": "markdown",
   "metadata": {},
   "source": [
    "Deletar base de dados da memória"
   ]
  },
  {
   "cell_type": "code",
   "execution_count": 99,
   "metadata": {},
   "outputs": [],
   "source": [
    "del(df_filmes)"
   ]
  },
  {
   "cell_type": "code",
   "execution_count": 9,
   "metadata": {},
   "outputs": [],
   "source": [
    "df_filmes = pd.DataFrame(columns=('name', 'obs', 'rate'))"
   ]
  },
  {
   "cell_type": "code",
   "execution_count": 3,
   "metadata": {},
   "outputs": [],
   "source": [
    "import requests\n",
    "from bs4 import BeautifulSoup\n",
    "import unicodedata\n",
    "url = ['http://www.imdb.com/title/tt5013056/', \n",
    "       'http://www.imdb.com/title/tt1790809/',\n",
    "       'http://www.imdb.com/title/tt1596346/',\n",
    "       'http://www.imdb.com/title/tt0092099/',\n",
    "       'http://www.imdb.com/title/tt0108052/']"
   ]
  },
  {
   "cell_type": "code",
   "execution_count": 4,
   "metadata": {},
   "outputs": [],
   "source": [
    "def strip_accents(s):\n",
    "    return ''.join(c for c in unicodedata.normalize('NFD', s) if unicodedata.category(c) != 'Mn')"
   ]
  },
  {
   "cell_type": "code",
   "execution_count": null,
   "metadata": {},
   "outputs": [],
   "source": []
  },
  {
   "cell_type": "code",
   "execution_count": 10,
   "metadata": {},
   "outputs": [],
   "source": [
    "for item in url:\n",
    "    response = requests.get(item)\n",
    "    soup = BeautifulSoup(response.text, 'lxml')\n",
    "    name = strip_accents(soup.title.text)\n",
    "    obs = soup.find_all(\"div\", \"AggregateRatingButton__TotalRatingAmount-sc-1ll29m0-3\")[0].text\n",
    "    rate = soup.find_all(\"span\", \"AggregateRatingButton__RatingScore-sc-1ll29m0-1\")[0].text\n",
    "    df_filmes.loc[len(df_filmes)] = [name, obs, rate]"
   ]
  },
  {
   "cell_type": "code",
   "execution_count": 11,
   "metadata": {},
   "outputs": [
    {
     "data": {
      "text/html": [
       "<div>\n",
       "<style scoped>\n",
       "    .dataframe tbody tr th:only-of-type {\n",
       "        vertical-align: middle;\n",
       "    }\n",
       "\n",
       "    .dataframe tbody tr th {\n",
       "        vertical-align: top;\n",
       "    }\n",
       "\n",
       "    .dataframe thead th {\n",
       "        text-align: right;\n",
       "    }\n",
       "</style>\n",
       "<table border=\"1\" class=\"dataframe\">\n",
       "  <thead>\n",
       "    <tr style=\"text-align: right;\">\n",
       "      <th></th>\n",
       "      <th>name</th>\n",
       "      <th>obs</th>\n",
       "      <th>rate</th>\n",
       "    </tr>\n",
       "  </thead>\n",
       "  <tbody>\n",
       "    <tr>\n",
       "      <th>0</th>\n",
       "      <td>Dunkirk (2017) - IMDb</td>\n",
       "      <td>599K</td>\n",
       "      <td>7.8</td>\n",
       "    </tr>\n",
       "    <tr>\n",
       "      <th>1</th>\n",
       "      <td>Piratas do Caribe: A Vinganca de Salazar (2017...</td>\n",
       "      <td>282K</td>\n",
       "      <td>6.5</td>\n",
       "    </tr>\n",
       "    <tr>\n",
       "      <th>2</th>\n",
       "      <td>Soul Surfer: Coragem de Viver (2011) - IMDb</td>\n",
       "      <td>48K</td>\n",
       "      <td>7.0</td>\n",
       "    </tr>\n",
       "    <tr>\n",
       "      <th>3</th>\n",
       "      <td>Top Gun: Ases Indomaveis (1986) - IMDb</td>\n",
       "      <td>312K</td>\n",
       "      <td>6.9</td>\n",
       "    </tr>\n",
       "    <tr>\n",
       "      <th>4</th>\n",
       "      <td>A Lista de Schindler (1993) - IMDb</td>\n",
       "      <td>1.3M</td>\n",
       "      <td>8.9</td>\n",
       "    </tr>\n",
       "  </tbody>\n",
       "</table>\n",
       "</div>"
      ],
      "text/plain": [
       "                                                name   obs rate\n",
       "0                              Dunkirk (2017) - IMDb  599K  7.8\n",
       "1  Piratas do Caribe: A Vinganca de Salazar (2017...  282K  6.5\n",
       "2        Soul Surfer: Coragem de Viver (2011) - IMDb   48K  7.0\n",
       "3             Top Gun: Ases Indomaveis (1986) - IMDb  312K  6.9\n",
       "4                 A Lista de Schindler (1993) - IMDb  1.3M  8.9"
      ]
     },
     "execution_count": 11,
     "metadata": {},
     "output_type": "execute_result"
    }
   ],
   "source": [
    "df_filmes"
   ]
  },
  {
   "cell_type": "markdown",
   "metadata": {},
   "source": [
    "Podemos observar o tipo de variável. No caso de rate, ela é um object. Ou seja, não numérica."
   ]
  },
  {
   "cell_type": "code",
   "execution_count": 12,
   "metadata": {},
   "outputs": [
    {
     "data": {
      "text/plain": [
       "0    7.8\n",
       "1    6.5\n",
       "2    7.0\n",
       "3    6.9\n",
       "4    8.9\n",
       "Name: rate, dtype: object"
      ]
     },
     "execution_count": 12,
     "metadata": {},
     "output_type": "execute_result"
    }
   ],
   "source": [
    "df_filmes[\"rate\"]"
   ]
  },
  {
   "cell_type": "markdown",
   "metadata": {},
   "source": [
    "Neste caso, não conseguimos obter estatísticas"
   ]
  },
  {
   "cell_type": "code",
   "execution_count": 13,
   "metadata": {},
   "outputs": [
    {
     "data": {
      "text/plain": [
       "'7.86.57.06.98.9'"
      ]
     },
     "execution_count": 13,
     "metadata": {},
     "output_type": "execute_result"
    }
   ],
   "source": [
    "df_filmes[\"rate\"].sum()"
   ]
  },
  {
   "cell_type": "markdown",
   "metadata": {},
   "source": [
    "Mas podemos converter: "
   ]
  },
  {
   "cell_type": "code",
   "execution_count": 109,
   "metadata": {},
   "outputs": [],
   "source": [
    "df_filmes[\"rate\"] = pd.to_numeric(df_filmes[\"rate\"])"
   ]
  },
  {
   "cell_type": "code",
   "execution_count": 110,
   "metadata": {},
   "outputs": [
    {
     "data": {
      "text/plain": [
       "0    7.9\n",
       "1    6.5\n",
       "2    7.0\n",
       "3    6.9\n",
       "4    8.9\n",
       "Name: rate, dtype: float64"
      ]
     },
     "execution_count": 110,
     "metadata": {},
     "output_type": "execute_result"
    }
   ],
   "source": [
    "df_filmes[\"rate\"]"
   ]
  },
  {
   "cell_type": "code",
   "execution_count": 111,
   "metadata": {},
   "outputs": [
    {
     "data": {
      "text/plain": [
       "37.199999999999996"
      ]
     },
     "execution_count": 111,
     "metadata": {},
     "output_type": "execute_result"
    }
   ],
   "source": [
    "df_filmes[\"rate\"].sum()"
   ]
  },
  {
   "cell_type": "code",
   "execution_count": 112,
   "metadata": {},
   "outputs": [
    {
     "data": {
      "text/plain": [
       "name     object\n",
       "obs      object\n",
       "rate    float64\n",
       "dtype: object"
      ]
     },
     "execution_count": 112,
     "metadata": {},
     "output_type": "execute_result"
    }
   ],
   "source": [
    "df_filmes.dtypes"
   ]
  },
  {
   "cell_type": "code",
   "execution_count": 113,
   "metadata": {},
   "outputs": [
    {
     "name": "stdout",
     "output_type": "stream",
     "text": [
      "37.199999999999996\n",
      "8.9\n",
      "6.5\n",
      "7.4399999999999995\n"
     ]
    }
   ],
   "source": [
    "print(df_filmes[\"rate\"].sum())\n",
    "print(df_filmes[\"rate\"].max())\n",
    "print(df_filmes[\"rate\"].min())\n",
    "print(df_filmes[\"rate\"].mean())"
   ]
  },
  {
   "cell_type": "markdown",
   "metadata": {},
   "source": [
    "Uma outra operação importante é obter dummies. Iremos criar uma outra base com a dummies e depois juntar a base original"
   ]
  },
  {
   "cell_type": "code",
   "execution_count": 114,
   "metadata": {},
   "outputs": [],
   "source": [
    "df_dum = pd.get_dummies(df_filmes['name'])"
   ]
  },
  {
   "cell_type": "code",
   "execution_count": 115,
   "metadata": {},
   "outputs": [
    {
     "data": {
      "text/html": [
       "<div>\n",
       "<style scoped>\n",
       "    .dataframe tbody tr th:only-of-type {\n",
       "        vertical-align: middle;\n",
       "    }\n",
       "\n",
       "    .dataframe tbody tr th {\n",
       "        vertical-align: top;\n",
       "    }\n",
       "\n",
       "    .dataframe thead th {\n",
       "        text-align: right;\n",
       "    }\n",
       "</style>\n",
       "<table border=\"1\" class=\"dataframe\">\n",
       "  <thead>\n",
       "    <tr style=\"text-align: right;\">\n",
       "      <th></th>\n",
       "      <th>A Lista de Schindler (1993) - IMDb</th>\n",
       "      <th>Dunkirk (2017) - IMDb</th>\n",
       "      <th>Piratas do Caribe: A Vinganca de Salazar (2017) - IMDb</th>\n",
       "      <th>Soul Surfer: Coragem de Viver (2011) - IMDb</th>\n",
       "      <th>Top Gun: Ases Indomaveis (1986) - IMDb</th>\n",
       "    </tr>\n",
       "  </thead>\n",
       "  <tbody>\n",
       "    <tr>\n",
       "      <th>0</th>\n",
       "      <td>0</td>\n",
       "      <td>1</td>\n",
       "      <td>0</td>\n",
       "      <td>0</td>\n",
       "      <td>0</td>\n",
       "    </tr>\n",
       "    <tr>\n",
       "      <th>1</th>\n",
       "      <td>0</td>\n",
       "      <td>0</td>\n",
       "      <td>1</td>\n",
       "      <td>0</td>\n",
       "      <td>0</td>\n",
       "    </tr>\n",
       "    <tr>\n",
       "      <th>2</th>\n",
       "      <td>0</td>\n",
       "      <td>0</td>\n",
       "      <td>0</td>\n",
       "      <td>1</td>\n",
       "      <td>0</td>\n",
       "    </tr>\n",
       "    <tr>\n",
       "      <th>3</th>\n",
       "      <td>0</td>\n",
       "      <td>0</td>\n",
       "      <td>0</td>\n",
       "      <td>0</td>\n",
       "      <td>1</td>\n",
       "    </tr>\n",
       "    <tr>\n",
       "      <th>4</th>\n",
       "      <td>1</td>\n",
       "      <td>0</td>\n",
       "      <td>0</td>\n",
       "      <td>0</td>\n",
       "      <td>0</td>\n",
       "    </tr>\n",
       "  </tbody>\n",
       "</table>\n",
       "</div>"
      ],
      "text/plain": [
       "   A Lista de Schindler (1993) - IMDb  Dunkirk (2017) - IMDb  \\\n",
       "0                                   0                      1   \n",
       "1                                   0                      0   \n",
       "2                                   0                      0   \n",
       "3                                   0                      0   \n",
       "4                                   1                      0   \n",
       "\n",
       "   Piratas do Caribe: A Vinganca de Salazar (2017) - IMDb  \\\n",
       "0                                                  0        \n",
       "1                                                  1        \n",
       "2                                                  0        \n",
       "3                                                  0        \n",
       "4                                                  0        \n",
       "\n",
       "   Soul Surfer: Coragem de Viver (2011) - IMDb  \\\n",
       "0                                            0   \n",
       "1                                            0   \n",
       "2                                            1   \n",
       "3                                            0   \n",
       "4                                            0   \n",
       "\n",
       "   Top Gun: Ases Indomaveis (1986) - IMDb  \n",
       "0                                       0  \n",
       "1                                       0  \n",
       "2                                       0  \n",
       "3                                       1  \n",
       "4                                       0  "
      ]
     },
     "execution_count": 115,
     "metadata": {},
     "output_type": "execute_result"
    }
   ],
   "source": [
    "df_dum"
   ]
  },
  {
   "cell_type": "markdown",
   "metadata": {},
   "source": [
    "Podemos usar o comando ``pd.concat``para concatenar as duas bases"
   ]
  },
  {
   "cell_type": "code",
   "execution_count": 116,
   "metadata": {},
   "outputs": [],
   "source": [
    "df_filmes = pd.concat([df_filmes, df_dum], axis=1)"
   ]
  },
  {
   "cell_type": "code",
   "execution_count": 117,
   "metadata": {},
   "outputs": [
    {
     "data": {
      "text/html": [
       "<div>\n",
       "<style scoped>\n",
       "    .dataframe tbody tr th:only-of-type {\n",
       "        vertical-align: middle;\n",
       "    }\n",
       "\n",
       "    .dataframe tbody tr th {\n",
       "        vertical-align: top;\n",
       "    }\n",
       "\n",
       "    .dataframe thead th {\n",
       "        text-align: right;\n",
       "    }\n",
       "</style>\n",
       "<table border=\"1\" class=\"dataframe\">\n",
       "  <thead>\n",
       "    <tr style=\"text-align: right;\">\n",
       "      <th></th>\n",
       "      <th>name</th>\n",
       "      <th>obs</th>\n",
       "      <th>rate</th>\n",
       "      <th>A Lista de Schindler (1993) - IMDb</th>\n",
       "      <th>Dunkirk (2017) - IMDb</th>\n",
       "      <th>Piratas do Caribe: A Vinganca de Salazar (2017) - IMDb</th>\n",
       "      <th>Soul Surfer: Coragem de Viver (2011) - IMDb</th>\n",
       "      <th>Top Gun: Ases Indomaveis (1986) - IMDb</th>\n",
       "    </tr>\n",
       "  </thead>\n",
       "  <tbody>\n",
       "    <tr>\n",
       "      <th>0</th>\n",
       "      <td>Dunkirk (2017) - IMDb</td>\n",
       "      <td>545.102</td>\n",
       "      <td>7.9</td>\n",
       "      <td>0</td>\n",
       "      <td>1</td>\n",
       "      <td>0</td>\n",
       "      <td>0</td>\n",
       "      <td>0</td>\n",
       "    </tr>\n",
       "    <tr>\n",
       "      <th>1</th>\n",
       "      <td>Piratas do Caribe: A Vinganca de Salazar (2017...</td>\n",
       "      <td>259.809</td>\n",
       "      <td>6.5</td>\n",
       "      <td>0</td>\n",
       "      <td>0</td>\n",
       "      <td>1</td>\n",
       "      <td>0</td>\n",
       "      <td>0</td>\n",
       "    </tr>\n",
       "    <tr>\n",
       "      <th>2</th>\n",
       "      <td>Soul Surfer: Coragem de Viver (2011) - IMDb</td>\n",
       "      <td>45.333</td>\n",
       "      <td>7.0</td>\n",
       "      <td>0</td>\n",
       "      <td>0</td>\n",
       "      <td>0</td>\n",
       "      <td>1</td>\n",
       "      <td>0</td>\n",
       "    </tr>\n",
       "    <tr>\n",
       "      <th>3</th>\n",
       "      <td>Top Gun: Ases Indomaveis (1986) - IMDb</td>\n",
       "      <td>292.146</td>\n",
       "      <td>6.9</td>\n",
       "      <td>0</td>\n",
       "      <td>0</td>\n",
       "      <td>0</td>\n",
       "      <td>0</td>\n",
       "      <td>1</td>\n",
       "    </tr>\n",
       "    <tr>\n",
       "      <th>4</th>\n",
       "      <td>A Lista de Schindler (1993) - IMDb</td>\n",
       "      <td>1.200.891</td>\n",
       "      <td>8.9</td>\n",
       "      <td>1</td>\n",
       "      <td>0</td>\n",
       "      <td>0</td>\n",
       "      <td>0</td>\n",
       "      <td>0</td>\n",
       "    </tr>\n",
       "  </tbody>\n",
       "</table>\n",
       "</div>"
      ],
      "text/plain": [
       "                                                name        obs  rate  \\\n",
       "0                              Dunkirk (2017) - IMDb    545.102   7.9   \n",
       "1  Piratas do Caribe: A Vinganca de Salazar (2017...    259.809   6.5   \n",
       "2        Soul Surfer: Coragem de Viver (2011) - IMDb     45.333   7.0   \n",
       "3             Top Gun: Ases Indomaveis (1986) - IMDb    292.146   6.9   \n",
       "4                 A Lista de Schindler (1993) - IMDb  1.200.891   8.9   \n",
       "\n",
       "   A Lista de Schindler (1993) - IMDb  Dunkirk (2017) - IMDb  \\\n",
       "0                                   0                      1   \n",
       "1                                   0                      0   \n",
       "2                                   0                      0   \n",
       "3                                   0                      0   \n",
       "4                                   1                      0   \n",
       "\n",
       "   Piratas do Caribe: A Vinganca de Salazar (2017) - IMDb  \\\n",
       "0                                                  0        \n",
       "1                                                  1        \n",
       "2                                                  0        \n",
       "3                                                  0        \n",
       "4                                                  0        \n",
       "\n",
       "   Soul Surfer: Coragem de Viver (2011) - IMDb  \\\n",
       "0                                            0   \n",
       "1                                            0   \n",
       "2                                            1   \n",
       "3                                            0   \n",
       "4                                            0   \n",
       "\n",
       "   Top Gun: Ases Indomaveis (1986) - IMDb  \n",
       "0                                       0  \n",
       "1                                       0  \n",
       "2                                       0  \n",
       "3                                       1  \n",
       "4                                       0  "
      ]
     },
     "execution_count": 117,
     "metadata": {},
     "output_type": "execute_result"
    }
   ],
   "source": [
    "df_filmes"
   ]
  },
  {
   "cell_type": "code",
   "execution_count": 120,
   "metadata": {},
   "outputs": [
    {
     "data": {
      "text/plain": [
       "'\\\\begin{tabular}{lllrrrrrr}\\n\\\\toprule\\n{} &                                               name &        obs &  rate &  A Lista de Schindler (1993) - IMDb &  Dunkirk (2017) - IMDb &  Piratas do Caribe: A Vinganca de Salazar (2017) - IMDb &  Soul Surfer: Coragem de Viver (2011) - IMDb &  Top Gun: Ases Indomaveis (1986) - IMDb \\\\\\\\\\n\\\\midrule\\n0 &                              Dunkirk (2017) - IMDb &    545.102 &   7.9 &                                   0 &                      1 &                                                  0 &                                            0 &                                       0 \\\\\\\\\\n1 &  Piratas do Caribe: A Vinganca de Salazar (2017... &    259.809 &   6.5 &                                   0 &                      0 &                                                  1 &                                            0 &                                       0 \\\\\\\\\\n2 &        Soul Surfer: Coragem de Viver (2011) - IMDb &     45.333 &   7.0 &                                   0 &                      0 &                                                  0 &                                            1 &                                       0 \\\\\\\\\\n3 &             Top Gun: Ases Indomaveis (1986) - IMDb &    292.146 &   6.9 &                                   0 &                      0 &                                                  0 &                                            0 &                                       1 \\\\\\\\\\n4 &                 A Lista de Schindler (1993) - IMDb &  1.200.891 &   8.9 &                                   1 &                      0 &                                                  0 &                                            0 &                                       0 \\\\\\\\\\n\\\\bottomrule\\n\\\\end{tabular}\\n'"
      ]
     },
     "execution_count": 120,
     "metadata": {},
     "output_type": "execute_result"
    }
   ],
   "source": [
    "df_filmes.to_latex()"
   ]
  },
  {
   "cell_type": "code",
   "execution_count": null,
   "metadata": {},
   "outputs": [],
   "source": []
  },
  {
   "cell_type": "code",
   "execution_count": 1,
   "metadata": {},
   "outputs": [],
   "source": [
    "import pandas as pd\n",
    "import pickle"
   ]
  },
  {
   "cell_type": "code",
   "execution_count": 3,
   "metadata": {},
   "outputs": [],
   "source": [
    "df = pd.read_pickle('dados.pkl')"
   ]
  },
  {
   "cell_type": "code",
   "execution_count": null,
   "metadata": {},
   "outputs": [],
   "source": [
    "\n"
   ]
  },
  {
   "cell_type": "code",
   "execution_count": null,
   "metadata": {},
   "outputs": [],
   "source": []
  },
  {
   "cell_type": "code",
   "execution_count": null,
   "metadata": {},
   "outputs": [],
   "source": []
  },
  {
   "cell_type": "code",
   "execution_count": null,
   "metadata": {},
   "outputs": [],
   "source": []
  }
 ],
 "metadata": {
  "kernelspec": {
   "display_name": "Python 3",
   "language": "python",
   "name": "python3"
  },
  "language_info": {
   "codemirror_mode": {
    "name": "ipython",
    "version": 3
   },
   "file_extension": ".py",
   "mimetype": "text/x-python",
   "name": "python",
   "nbconvert_exporter": "python",
   "pygments_lexer": "ipython3",
   "version": "3.9.1"
  }
 },
 "nbformat": 4,
 "nbformat_minor": 2
}
