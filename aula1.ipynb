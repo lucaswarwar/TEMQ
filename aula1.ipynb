{
 "cells": [
  {
   "cell_type": "markdown",
   "metadata": {},
   "source": [
    "# Aula 1: Introdução ao Python - Scraping\n",
    "\n",
    "Utilizaremos o modulo [*requests*](http://python-requests.org) para realizar requisições para páginas. Observe que podemos obter informações sobre um *package* utilizando a função *help()*"
   ]
  },
  {
   "cell_type": "code",
   "execution_count": 4,
   "metadata": {},
   "outputs": [],
   "source": [
    "import requests"
   ]
  },
  {
   "cell_type": "code",
   "execution_count": 2,
   "metadata": {},
   "outputs": [
    {
     "name": "stdout",
     "output_type": "stream",
     "text": [
      "Help on package requests:\n",
      "\n",
      "NAME\n",
      "    requests\n",
      "\n",
      "DESCRIPTION\n",
      "    Requests HTTP Library\n",
      "    ~~~~~~~~~~~~~~~~~~~~~\n",
      "    \n",
      "    Requests is an HTTP library, written in Python, for human beings.\n",
      "    Basic GET usage:\n",
      "    \n",
      "       >>> import requests\n",
      "       >>> r = requests.get('https://www.python.org')\n",
      "       >>> r.status_code\n",
      "       200\n",
      "       >>> b'Python is a programming language' in r.content\n",
      "       True\n",
      "    \n",
      "    ... or POST:\n",
      "    \n",
      "       >>> payload = dict(key1='value1', key2='value2')\n",
      "       >>> r = requests.post('https://httpbin.org/post', data=payload)\n",
      "       >>> print(r.text)\n",
      "       {\n",
      "         ...\n",
      "         \"form\": {\n",
      "           \"key1\": \"value1\",\n",
      "           \"key2\": \"value2\"\n",
      "         },\n",
      "         ...\n",
      "       }\n",
      "    \n",
      "    The other HTTP methods are supported - see `requests.api`. Full documentation\n",
      "    is at <https://requests.readthedocs.io>.\n",
      "    \n",
      "    :copyright: (c) 2017 by Kenneth Reitz.\n",
      "    :license: Apache 2.0, see LICENSE for more details.\n",
      "\n",
      "PACKAGE CONTENTS\n",
      "    __version__\n",
      "    _internal_utils\n",
      "    adapters\n",
      "    api\n",
      "    auth\n",
      "    certs\n",
      "    compat\n",
      "    cookies\n",
      "    exceptions\n",
      "    help\n",
      "    hooks\n",
      "    models\n",
      "    packages\n",
      "    sessions\n",
      "    status_codes\n",
      "    structures\n",
      "    utils\n",
      "\n",
      "FUNCTIONS\n",
      "    check_compatibility(urllib3_version, chardet_version)\n",
      "\n",
      "DATA\n",
      "    __author_email__ = 'me@kennethreitz.org'\n",
      "    __build__ = 140288\n",
      "    __cake__ = '✨ 🍰 ✨'\n",
      "    __copyright__ = 'Copyright 2020 Kenneth Reitz'\n",
      "    __description__ = 'Python HTTP for Humans.'\n",
      "    __license__ = 'Apache 2.0'\n",
      "    __title__ = 'requests'\n",
      "    __url__ = 'https://requests.readthedocs.io'\n",
      "    codes = <lookup 'status_codes'>\n",
      "\n",
      "VERSION\n",
      "    2.24.0\n",
      "\n",
      "AUTHOR\n",
      "    Kenneth Reitz\n",
      "\n",
      "FILE\n",
      "    /Users/gustavorsampaio/anaconda3/lib/python3.7/site-packages/requests/__init__.py\n",
      "\n",
      "\n"
     ]
    }
   ],
   "source": [
    "help(requests)"
   ]
  },
  {
   "cell_type": "markdown",
   "metadata": {},
   "source": [
    "Podemos definir uma variável com o endereço de uma página qualquer. Por exemplo, vamos usar uma página do imdb. \n",
    "\n",
    "Uma vez definida, utilizaremos a função *get()* para ler o código fonte da página desejada. \n",
    "\n",
    "Depois pegamos o código fonte como texto legível a um humano."
   ]
  },
  {
   "cell_type": "code",
   "execution_count": 5,
   "metadata": {},
   "outputs": [],
   "source": [
    "url = 'http://www.imdb.com/title/tt5013056/'"
   ]
  },
  {
   "cell_type": "code",
   "execution_count": 6,
   "metadata": {},
   "outputs": [],
   "source": [
    "#response = requests.get(\"http://www.imdb.com/title/tt5013056/\")\n",
    "response = requests.get(url)"
   ]
  },
  {
   "cell_type": "code",
   "execution_count": 7,
   "metadata": {},
   "outputs": [
    {
     "data": {
      "text/plain": [
       "<Response [200]>"
      ]
     },
     "execution_count": 7,
     "metadata": {},
     "output_type": "execute_result"
    }
   ],
   "source": [
    "response"
   ]
  },
  {
   "cell_type": "code",
   "execution_count": 7,
   "metadata": {},
   "outputs": [],
   "source": [
    "page_html = response.text"
   ]
  },
  {
   "cell_type": "code",
   "execution_count": null,
   "metadata": {},
   "outputs": [],
   "source": []
  },
  {
   "cell_type": "markdown",
   "metadata": {},
   "source": [
    "Observe que o código fonte é apenas o código HTML que gera a página do imdb. Este texto é uma *string*, ou seja, um texto com elementos não acessíveis. "
   ]
  },
  {
   "cell_type": "markdown",
   "metadata": {},
   "source": [
    "Podemos transformar a *string* em um texto em que o python reconheça os *tags* em html. Desta forma, transformamos o texto em algo acessível. Para tal, utilizamos o pacote [Beautiful Soup](https://www.crummy.com/software/BeautifulSoup/bs4/doc/)"
   ]
  },
  {
   "cell_type": "code",
   "execution_count": 8,
   "metadata": {},
   "outputs": [],
   "source": [
    "from bs4 import BeautifulSoup"
   ]
  },
  {
   "cell_type": "markdown",
   "metadata": {},
   "source": [
    "Para pegarmos o código fonte da página precisamos definir um *parser*. O *parser* é o método de carregar o código fonte assim como um navegador faria quando se abre a página na web.\n",
    "\n",
    "Existem vários *parsers*. Ver a [documentação](https://www.crummy.com/software/BeautifulSoup/bs4/doc/) para mais detalhes.\n",
    "\n",
    "O mais comum é o [html.parser]() e o [lxml]()"
   ]
  },
  {
   "cell_type": "code",
   "execution_count": 9,
   "metadata": {},
   "outputs": [],
   "source": [
    "#soup = BeautifulSoup(response.text, 'lxml')\n",
    "soup = BeautifulSoup(page_html, 'lxml')"
   ]
  },
  {
   "cell_type": "code",
   "execution_count": null,
   "metadata": {},
   "outputs": [],
   "source": []
  },
  {
   "cell_type": "code",
   "execution_count": 52,
   "metadata": {},
   "outputs": [],
   "source": [
    "#soup\n"
   ]
  },
  {
   "cell_type": "code",
   "execution_count": null,
   "metadata": {},
   "outputs": [],
   "source": []
  },
  {
   "cell_type": "code",
   "execution_count": null,
   "metadata": {},
   "outputs": [],
   "source": []
  },
  {
   "cell_type": "markdown",
   "metadata": {},
   "source": [
    "Agora, observe que podemos nos referir a cada tag dentro do código html e pegar as informações desejadas. \n",
    "\n",
    "Por exemplo, podemos pegar o título da página"
   ]
  },
  {
   "cell_type": "code",
   "execution_count": 10,
   "metadata": {},
   "outputs": [
    {
     "data": {
      "text/plain": [
       "'Dunkirk (2017) - IMDb'"
      ]
     },
     "execution_count": 10,
     "metadata": {},
     "output_type": "execute_result"
    }
   ],
   "source": [
    "soup.title.text"
   ]
  },
  {
   "cell_type": "markdown",
   "metadata": {},
   "source": [
    "Existem diversas maneiras de extrair texto do código html. Podemos nos referir a um determinado tag, assim como fizemos acima, ou procurar por tags dentro do código html.\n",
    "\n",
    "Iremos utilizar a segunda opção e procurar por todos os tags [&lt;span>](). Observe que o objeto resultante passou a ser uma lista (coleção de objetos), já que existem vários tags encontrados."
   ]
  },
  {
   "cell_type": "code",
   "execution_count": 39,
   "metadata": {},
   "outputs": [
    {
     "data": {
      "text/plain": [
       "[<span class=\"_2Q0QZxgQqVpU0nQBqv1xlY\"><label aria-label=\"Expand Movies Nav Links\" class=\"_2vjThdvAXrHx6CofJjm03w\" data-testid=\"category-expando\" for=\"nav-link-categories-mov\" role=\"button\" tabindex=\"0\"><span class=\"_1tLXJMH37mh4UmvfVF8swF\"><svg class=\"ipc-icon ipc-icon--movie\" fill=\"currentColor\" height=\"24\" role=\"presentation\" viewbox=\"0 0 24 24\" width=\"24\" xmlns=\"http://www.w3.org/2000/svg\"><path d=\"M0 0h24v24H0V0z\" fill=\"none\"></path><path d=\"M18 4v1h-2V4c0-.55-.45-1-1-1H9c-.55 0-1 .45-1 1v1H6V4c0-.55-.45-1-1-1s-1 .45-1 1v16c0 .55.45 1 1 1s1-.45 1-1v-1h2v1c0 .55.45 1 1 1h6c.55 0 1-.45 1-1v-1h2v1c0 .55.45 1 1 1s1-.45 1-1V4c0-.55-.45-1-1-1s-1 .45-1 1zM8 17H6v-2h2v2zm0-4H6v-2h2v2zm0-4H6V7h2v2zm10 8h-2v-2h2v2zm0-4h-2v-2h2v2zm0-4h-2V7h2v2z\"></path></svg></span><span class=\"_2aunAih-uMfbdgTUIjnQMd\">Movies</span><span class=\"_2BeDp2pKthfMnxArm4lS0T\"><svg class=\"ipc-icon ipc-icon--chevron-right\" fill=\"currentColor\" height=\"24\" role=\"presentation\" viewbox=\"0 0 24 24\" width=\"24\" xmlns=\"http://www.w3.org/2000/svg\"><path d=\"M0 0h24v24H0V0z\" fill=\"none\"></path><path d=\"M9.29 6.71a.996.996 0 0 0 0 1.41L13.17 12l-3.88 3.88a.996.996 0 1 0 1.41 1.41l4.59-4.59a.996.996 0 0 0 0-1.41L10.7 6.7c-.38-.38-1.02-.38-1.41.01z\"></path></svg></span></label><div aria-expanded=\"false\" aria-hidden=\"true\" class=\"_1S9IOoNAVMPB2VikET3Lr2\" data-testid=\"list-container\"><div class=\"_1IQgIe3JwGh2arzItRgYN3\" role=\"presentation\"><ul aria-orientation=\"vertical\" class=\"ipc-list _1gB7giE3RrFWXvlzwjWk-q ipc-list--baseAlt\" role=\"menu\"><a aria-disabled=\"false\" class=\"ipc-list__item nav-link NavLink-sc-19k0khm-0 LrpYY ipc-list__item--indent-one\" href=\"https://www.imdb.com/calendar/?ref_=nv_mv_cal\" role=\"menuitem\" tabindex=\"-1\"><span class=\"ipc-list-item__text\" role=\"presentation\">Release Calendar</span></a><a aria-disabled=\"false\" class=\"ipc-list__item nav-link nav-link--hideXS nav-link--hideS nav-link--hideM NavLink-sc-19k0khm-0 LrpYY ipc-list__item--indent-one\" href=\"https://www.imdb.com/list/ls016522954/?ref_=nv_tvv_dvd\" role=\"menuitem\" tabindex=\"-1\"><span class=\"ipc-list-item__text\" role=\"presentation\">DVD &amp; Blu-ray Releases</span></a><a aria-disabled=\"false\" class=\"ipc-list__item nav-link NavLink-sc-19k0khm-0 LrpYY ipc-list__item--indent-one\" href=\"/chart/top/?ref_=nv_mv_250\" role=\"menuitem\" tabindex=\"-1\"><span class=\"ipc-list-item__text\" role=\"presentation\">Top Rated Movies</span></a><a aria-disabled=\"false\" class=\"ipc-list__item nav-link NavLink-sc-19k0khm-0 LrpYY ipc-list__item--indent-one\" href=\"/chart/moviemeter/?ref_=nv_mv_mpm\" role=\"menuitem\" tabindex=\"-1\"><span class=\"ipc-list-item__text\" role=\"presentation\">Most Popular Movies</span></a><a aria-disabled=\"false\" class=\"ipc-list__item nav-link nav-link--hideXS nav-link--hideS nav-link--hideM NavLink-sc-19k0khm-0 LrpYY ipc-list__item--indent-one\" href=\"https://www.imdb.com/feature/genre/?ref_=nv_ch_gr\" role=\"menuitem\" tabindex=\"-1\"><span class=\"ipc-list-item__text\" role=\"presentation\">Browse Movies by Genre</span></a><a aria-disabled=\"false\" class=\"ipc-list__item nav-link NavLink-sc-19k0khm-0 LrpYY ipc-list__item--indent-one\" href=\"/chart/boxoffice/?ref_=nv_ch_cht\" role=\"menuitem\" tabindex=\"-1\"><span class=\"ipc-list-item__text\" role=\"presentation\">Top Box Office</span></a><a aria-disabled=\"false\" class=\"ipc-list__item nav-link nav-link--hideL nav-link--hideXL NavLink-sc-19k0khm-0 LrpYY ipc-list__item--indent-one\" href=\"https://m.imdb.com/showtimes/movie/?ref_=nv_mv_sh\" role=\"menuitem\" tabindex=\"-1\"><span class=\"ipc-list-item__text\" role=\"presentation\">Showtimes &amp; Tickets</span></a><a aria-disabled=\"false\" class=\"ipc-list__item nav-link nav-link--hideXS nav-link--hideS nav-link--hideM NavLink-sc-19k0khm-0 LrpYY ipc-list__item--indent-one\" href=\"https://www.imdb.com/showtimes/?ref_=nv_mv_sh\" role=\"menuitem\" tabindex=\"-1\"><span class=\"ipc-list-item__text\" role=\"presentation\">Showtimes &amp; Tickets</span></a><a aria-disabled=\"false\" class=\"ipc-list__item nav-link nav-link--hideXS nav-link--hideS nav-link--hideM NavLink-sc-19k0khm-0 LrpYY ipc-list__item--indent-one\" href=\"https://www.imdb.com/movies-in-theaters/?ref_=nv_mv_inth\" role=\"menuitem\" tabindex=\"-1\"><span class=\"ipc-list-item__text\" role=\"presentation\">In Theaters</span></a><a aria-disabled=\"false\" class=\"ipc-list__item nav-link nav-link--hideL nav-link--hideXL NavLink-sc-19k0khm-0 LrpYY ipc-list__item--indent-one\" href=\"https://m.imdb.com/coming-soon/?ref_=nv_mv_cs\" role=\"menuitem\" tabindex=\"-1\"><span class=\"ipc-list-item__text\" role=\"presentation\">Coming Soon</span></a><a aria-disabled=\"false\" class=\"ipc-list__item nav-link nav-link--hideXS nav-link--hideS nav-link--hideM NavLink-sc-19k0khm-0 LrpYY ipc-list__item--indent-one\" href=\"https://www.imdb.com/coming-soon/?ref_=nv_mv_cs\" role=\"menuitem\" tabindex=\"-1\"><span class=\"ipc-list-item__text\" role=\"presentation\">Coming Soon</span></a><a aria-disabled=\"false\" class=\"ipc-list__item nav-link NavLink-sc-19k0khm-0 LrpYY ipc-list__item--indent-one\" href=\"/news/movie/?ref_=nv_nw_mv\" role=\"menuitem\" tabindex=\"-1\"><span class=\"ipc-list-item__text\" role=\"presentation\">Movie News</span></a><a aria-disabled=\"false\" class=\"ipc-list__item nav-link NavLink-sc-19k0khm-0 LrpYY ipc-list__item--indent-one\" href=\"/india/toprated/?ref_=nv_mv_in\" role=\"menuitem\" tabindex=\"-1\"><span class=\"ipc-list-item__text\" role=\"presentation\">India Movie Spotlight</span></a></ul></div></div></span>,\n",
       " <span class=\"_1tLXJMH37mh4UmvfVF8swF\"><svg class=\"ipc-icon ipc-icon--movie\" fill=\"currentColor\" height=\"24\" role=\"presentation\" viewbox=\"0 0 24 24\" width=\"24\" xmlns=\"http://www.w3.org/2000/svg\"><path d=\"M0 0h24v24H0V0z\" fill=\"none\"></path><path d=\"M18 4v1h-2V4c0-.55-.45-1-1-1H9c-.55 0-1 .45-1 1v1H6V4c0-.55-.45-1-1-1s-1 .45-1 1v16c0 .55.45 1 1 1s1-.45 1-1v-1h2v1c0 .55.45 1 1 1h6c.55 0 1-.45 1-1v-1h2v1c0 .55.45 1 1 1s1-.45 1-1V4c0-.55-.45-1-1-1s-1 .45-1 1zM8 17H6v-2h2v2zm0-4H6v-2h2v2zm0-4H6V7h2v2zm10 8h-2v-2h2v2zm0-4h-2v-2h2v2zm0-4h-2V7h2v2z\"></path></svg></span>,\n",
       " <span class=\"_2aunAih-uMfbdgTUIjnQMd\">Movies</span>,\n",
       " <span class=\"_2BeDp2pKthfMnxArm4lS0T\"><svg class=\"ipc-icon ipc-icon--chevron-right\" fill=\"currentColor\" height=\"24\" role=\"presentation\" viewbox=\"0 0 24 24\" width=\"24\" xmlns=\"http://www.w3.org/2000/svg\"><path d=\"M0 0h24v24H0V0z\" fill=\"none\"></path><path d=\"M9.29 6.71a.996.996 0 0 0 0 1.41L13.17 12l-3.88 3.88a.996.996 0 1 0 1.41 1.41l4.59-4.59a.996.996 0 0 0 0-1.41L10.7 6.7c-.38-.38-1.02-.38-1.41.01z\"></path></svg></span>,\n",
       " <span class=\"ipc-list-item__text\" role=\"presentation\">Release Calendar</span>,\n",
       " <span class=\"ipc-list-item__text\" role=\"presentation\">DVD &amp; Blu-ray Releases</span>,\n",
       " <span class=\"ipc-list-item__text\" role=\"presentation\">Top Rated Movies</span>,\n",
       " <span class=\"ipc-list-item__text\" role=\"presentation\">Most Popular Movies</span>,\n",
       " <span class=\"ipc-list-item__text\" role=\"presentation\">Browse Movies by Genre</span>,\n",
       " <span class=\"ipc-list-item__text\" role=\"presentation\">Top Box Office</span>,\n",
       " <span class=\"ipc-list-item__text\" role=\"presentation\">Showtimes &amp; Tickets</span>,\n",
       " <span class=\"ipc-list-item__text\" role=\"presentation\">Showtimes &amp; Tickets</span>,\n",
       " <span class=\"ipc-list-item__text\" role=\"presentation\">In Theaters</span>,\n",
       " <span class=\"ipc-list-item__text\" role=\"presentation\">Coming Soon</span>,\n",
       " <span class=\"ipc-list-item__text\" role=\"presentation\">Coming Soon</span>,\n",
       " <span class=\"ipc-list-item__text\" role=\"presentation\">Movie News</span>,\n",
       " <span class=\"ipc-list-item__text\" role=\"presentation\">India Movie Spotlight</span>,\n",
       " <span class=\"_2Q0QZxgQqVpU0nQBqv1xlY\"><label aria-label=\"Expand TV Shows Nav Links\" class=\"_2vjThdvAXrHx6CofJjm03w\" data-testid=\"category-expando\" for=\"nav-link-categories-tvshows\" role=\"button\" tabindex=\"0\"><span class=\"_1tLXJMH37mh4UmvfVF8swF\"><svg class=\"ipc-icon ipc-icon--television\" fill=\"currentColor\" height=\"24\" role=\"presentation\" viewbox=\"0 0 24 24\" width=\"24\" xmlns=\"http://www.w3.org/2000/svg\"><path d=\"M0 0h24v24H0V0z\" fill=\"none\"></path><path d=\"M21 3H3c-1.1 0-2 .9-2 2v12c0 1.1.9 2 2 2h5v1c0 .55.45 1 1 1h6c.55 0 1-.45 1-1v-1h5c1.1 0 1.99-.9 1.99-2L23 5a2 2 0 0 0-2-2zm-1 14H4c-.55 0-1-.45-1-1V6c0-.55.45-1 1-1h16c.55 0 1 .45 1 1v10c0 .55-.45 1-1 1z\"></path></svg></span><span class=\"_2aunAih-uMfbdgTUIjnQMd\">TV Shows</span><span class=\"_2BeDp2pKthfMnxArm4lS0T\"><svg class=\"ipc-icon ipc-icon--chevron-right\" fill=\"currentColor\" height=\"24\" role=\"presentation\" viewbox=\"0 0 24 24\" width=\"24\" xmlns=\"http://www.w3.org/2000/svg\"><path d=\"M0 0h24v24H0V0z\" fill=\"none\"></path><path d=\"M9.29 6.71a.996.996 0 0 0 0 1.41L13.17 12l-3.88 3.88a.996.996 0 1 0 1.41 1.41l4.59-4.59a.996.996 0 0 0 0-1.41L10.7 6.7c-.38-.38-1.02-.38-1.41.01z\"></path></svg></span></label><div aria-expanded=\"false\" aria-hidden=\"true\" class=\"_1S9IOoNAVMPB2VikET3Lr2\" data-testid=\"list-container\"><div class=\"_1IQgIe3JwGh2arzItRgYN3\" role=\"presentation\"><ul aria-orientation=\"vertical\" class=\"ipc-list _1gB7giE3RrFWXvlzwjWk-q ipc-list--baseAlt\" role=\"menu\"><a aria-disabled=\"false\" class=\"ipc-list__item nav-link nav-link--hideXS nav-link--hideS nav-link--hideM NavLink-sc-19k0khm-0 LrpYY ipc-list__item--indent-one\" href=\"https://www.imdb.com/whats-on-tv/?ref_=nv_tv_ontv\" role=\"menuitem\" tabindex=\"-1\"><span class=\"ipc-list-item__text\" role=\"presentation\">What's on TV &amp; Streaming</span></a><a aria-disabled=\"false\" class=\"ipc-list__item nav-link nav-link--hideL nav-link--hideXL NavLink-sc-19k0khm-0 LrpYY ipc-list__item--indent-one\" href=\"https://m.imdb.com/whats-on-tv/?ref_=nv_tv_ontv\" role=\"menuitem\" tabindex=\"-1\"><span class=\"ipc-list-item__text\" role=\"presentation\">What's on TV &amp; Streaming</span></a><a aria-disabled=\"false\" class=\"ipc-list__item nav-link NavLink-sc-19k0khm-0 LrpYY ipc-list__item--indent-one\" href=\"/chart/toptv/?ref_=nv_tvv_250\" role=\"menuitem\" tabindex=\"-1\"><span class=\"ipc-list-item__text\" role=\"presentation\">Top Rated Shows</span></a><a aria-disabled=\"false\" class=\"ipc-list__item nav-link NavLink-sc-19k0khm-0 LrpYY ipc-list__item--indent-one\" href=\"/chart/tvmeter/?ref_=nv_tvv_mptv\" role=\"menuitem\" tabindex=\"-1\"><span class=\"ipc-list-item__text\" role=\"presentation\">Most Popular Shows</span></a><a aria-disabled=\"false\" class=\"ipc-list__item nav-link nav-link--hideXS nav-link--hideS nav-link--hideM NavLink-sc-19k0khm-0 LrpYY ipc-list__item--indent-one\" href=\"https://www.imdb.com/feature/genre/?ref_=nv_tv_gr\" role=\"menuitem\" tabindex=\"-1\"><span class=\"ipc-list-item__text\" role=\"presentation\">Browse TV Shows by Genre</span></a><a aria-disabled=\"false\" class=\"ipc-list__item nav-link NavLink-sc-19k0khm-0 LrpYY ipc-list__item--indent-one\" href=\"/news/tv/?ref_=nv_nw_tv\" role=\"menuitem\" tabindex=\"-1\"><span class=\"ipc-list-item__text\" role=\"presentation\">TV News</span></a><a aria-disabled=\"false\" class=\"ipc-list__item nav-link NavLink-sc-19k0khm-0 LrpYY ipc-list__item--indent-one\" href=\"/india/tv?ref_=nv_tv_in\" role=\"menuitem\" tabindex=\"-1\"><span class=\"ipc-list-item__text\" role=\"presentation\">India TV Spotlight</span></a></ul></div></div></span>,\n",
       " <span class=\"_1tLXJMH37mh4UmvfVF8swF\"><svg class=\"ipc-icon ipc-icon--television\" fill=\"currentColor\" height=\"24\" role=\"presentation\" viewbox=\"0 0 24 24\" width=\"24\" xmlns=\"http://www.w3.org/2000/svg\"><path d=\"M0 0h24v24H0V0z\" fill=\"none\"></path><path d=\"M21 3H3c-1.1 0-2 .9-2 2v12c0 1.1.9 2 2 2h5v1c0 .55.45 1 1 1h6c.55 0 1-.45 1-1v-1h5c1.1 0 1.99-.9 1.99-2L23 5a2 2 0 0 0-2-2zm-1 14H4c-.55 0-1-.45-1-1V6c0-.55.45-1 1-1h16c.55 0 1 .45 1 1v10c0 .55-.45 1-1 1z\"></path></svg></span>,\n",
       " <span class=\"_2aunAih-uMfbdgTUIjnQMd\">TV Shows</span>,\n",
       " <span class=\"_2BeDp2pKthfMnxArm4lS0T\"><svg class=\"ipc-icon ipc-icon--chevron-right\" fill=\"currentColor\" height=\"24\" role=\"presentation\" viewbox=\"0 0 24 24\" width=\"24\" xmlns=\"http://www.w3.org/2000/svg\"><path d=\"M0 0h24v24H0V0z\" fill=\"none\"></path><path d=\"M9.29 6.71a.996.996 0 0 0 0 1.41L13.17 12l-3.88 3.88a.996.996 0 1 0 1.41 1.41l4.59-4.59a.996.996 0 0 0 0-1.41L10.7 6.7c-.38-.38-1.02-.38-1.41.01z\"></path></svg></span>,\n",
       " <span class=\"ipc-list-item__text\" role=\"presentation\">What's on TV &amp; Streaming</span>,\n",
       " <span class=\"ipc-list-item__text\" role=\"presentation\">What's on TV &amp; Streaming</span>,\n",
       " <span class=\"ipc-list-item__text\" role=\"presentation\">Top Rated Shows</span>,\n",
       " <span class=\"ipc-list-item__text\" role=\"presentation\">Most Popular Shows</span>,\n",
       " <span class=\"ipc-list-item__text\" role=\"presentation\">Browse TV Shows by Genre</span>,\n",
       " <span class=\"ipc-list-item__text\" role=\"presentation\">TV News</span>,\n",
       " <span class=\"ipc-list-item__text\" role=\"presentation\">India TV Spotlight</span>,\n",
       " <span class=\"_2Q0QZxgQqVpU0nQBqv1xlY\"><label aria-label=\"Expand Watch Nav Links\" class=\"_2vjThdvAXrHx6CofJjm03w\" data-testid=\"category-expando\" for=\"nav-link-categories-video\" role=\"button\" tabindex=\"0\"><span class=\"_1tLXJMH37mh4UmvfVF8swF\"><svg class=\"ipc-icon ipc-icon--video-library\" fill=\"currentColor\" height=\"24\" role=\"presentation\" viewbox=\"0 0 24 24\" width=\"24\" xmlns=\"http://www.w3.org/2000/svg\"><path d=\"M3 6c-.55 0-1 .45-1 1v13c0 1.1.9 2 2 2h13c.55 0 1-.45 1-1s-.45-1-1-1H5c-.55 0-1-.45-1-1V7c0-.55-.45-1-1-1zm17-4H8c-1.1 0-2 .9-2 2v12c0 1.1.9 2 2 2h12c1.1 0 2-.9 2-2V4c0-1.1-.9-2-2-2zm-8 12.5v-9l5.47 4.1c.27.2.27.6 0 .8L12 14.5z\"></path></svg></span><span class=\"_2aunAih-uMfbdgTUIjnQMd\">Watch</span><span class=\"_2BeDp2pKthfMnxArm4lS0T\"><svg class=\"ipc-icon ipc-icon--chevron-right\" fill=\"currentColor\" height=\"24\" role=\"presentation\" viewbox=\"0 0 24 24\" width=\"24\" xmlns=\"http://www.w3.org/2000/svg\"><path d=\"M0 0h24v24H0V0z\" fill=\"none\"></path><path d=\"M9.29 6.71a.996.996 0 0 0 0 1.41L13.17 12l-3.88 3.88a.996.996 0 1 0 1.41 1.41l4.59-4.59a.996.996 0 0 0 0-1.41L10.7 6.7c-.38-.38-1.02-.38-1.41.01z\"></path></svg></span></label><div aria-expanded=\"false\" aria-hidden=\"true\" class=\"_1S9IOoNAVMPB2VikET3Lr2\" data-testid=\"list-container\"><div class=\"_1IQgIe3JwGh2arzItRgYN3\" role=\"presentation\"><ul aria-orientation=\"vertical\" class=\"ipc-list _1gB7giE3RrFWXvlzwjWk-q ipc-list--baseAlt\" role=\"menu\"><a aria-disabled=\"false\" class=\"ipc-list__item nav-link NavLink-sc-19k0khm-0 LrpYY ipc-list__item--indent-one\" href=\"/what-to-watch/?ref_=nv_watch\" role=\"menuitem\" tabindex=\"-1\"><span class=\"ipc-list-item__text\" role=\"presentation\">What to Watch</span></a><a aria-disabled=\"false\" class=\"ipc-list__item nav-link NavLink-sc-19k0khm-0 LrpYY ipc-list__item--indent-one\" href=\"/trailers/?ref_=nv_mv_tr\" role=\"menuitem\" tabindex=\"-1\"><span class=\"ipc-list-item__text\" role=\"presentation\">Latest Trailers</span></a><a aria-disabled=\"false\" class=\"ipc-list__item nav-link NavLink-sc-19k0khm-0 LrpYY ipc-list__item--indent-one\" href=\"/originals/?ref_=nv_sf_ori\" role=\"menuitem\" tabindex=\"-1\"><span class=\"ipc-list-item__text\" role=\"presentation\">IMDb Originals</span></a><a aria-disabled=\"false\" class=\"ipc-list__item nav-link NavLink-sc-19k0khm-0 LrpYY ipc-list__item--indent-one\" href=\"/imdbpicks/?ref_=nv_pi\" role=\"menuitem\" tabindex=\"-1\"><span class=\"ipc-list-item__text\" role=\"presentation\">IMDb Picks</span></a><a aria-disabled=\"false\" class=\"ipc-list__item nav-link NavLink-sc-19k0khm-0 LrpYY ipc-list__item--indent-one\" href=\"/podcasts/?ref_=nv_pod\" role=\"menuitem\" tabindex=\"-1\"><span class=\"ipc-list-item__text\" role=\"presentation\">IMDb Podcasts</span></a></ul></div></div></span>,\n",
       " <span class=\"_1tLXJMH37mh4UmvfVF8swF\"><svg class=\"ipc-icon ipc-icon--video-library\" fill=\"currentColor\" height=\"24\" role=\"presentation\" viewbox=\"0 0 24 24\" width=\"24\" xmlns=\"http://www.w3.org/2000/svg\"><path d=\"M3 6c-.55 0-1 .45-1 1v13c0 1.1.9 2 2 2h13c.55 0 1-.45 1-1s-.45-1-1-1H5c-.55 0-1-.45-1-1V7c0-.55-.45-1-1-1zm17-4H8c-1.1 0-2 .9-2 2v12c0 1.1.9 2 2 2h12c1.1 0 2-.9 2-2V4c0-1.1-.9-2-2-2zm-8 12.5v-9l5.47 4.1c.27.2.27.6 0 .8L12 14.5z\"></path></svg></span>,\n",
       " <span class=\"_2aunAih-uMfbdgTUIjnQMd\">Watch</span>,\n",
       " <span class=\"_2BeDp2pKthfMnxArm4lS0T\"><svg class=\"ipc-icon ipc-icon--chevron-right\" fill=\"currentColor\" height=\"24\" role=\"presentation\" viewbox=\"0 0 24 24\" width=\"24\" xmlns=\"http://www.w3.org/2000/svg\"><path d=\"M0 0h24v24H0V0z\" fill=\"none\"></path><path d=\"M9.29 6.71a.996.996 0 0 0 0 1.41L13.17 12l-3.88 3.88a.996.996 0 1 0 1.41 1.41l4.59-4.59a.996.996 0 0 0 0-1.41L10.7 6.7c-.38-.38-1.02-.38-1.41.01z\"></path></svg></span>,\n",
       " <span class=\"ipc-list-item__text\" role=\"presentation\">What to Watch</span>,\n",
       " <span class=\"ipc-list-item__text\" role=\"presentation\">Latest Trailers</span>,\n",
       " <span class=\"ipc-list-item__text\" role=\"presentation\">IMDb Originals</span>,\n",
       " <span class=\"ipc-list-item__text\" role=\"presentation\">IMDb Picks</span>,\n",
       " <span class=\"ipc-list-item__text\" role=\"presentation\">IMDb Podcasts</span>,\n",
       " <span class=\"_2Q0QZxgQqVpU0nQBqv1xlY\"><label aria-label=\"Expand Awards &amp; Events Nav Links\" class=\"_2vjThdvAXrHx6CofJjm03w\" data-testid=\"category-expando\" for=\"nav-link-categories-awards\" role=\"button\" tabindex=\"0\"><span class=\"_1tLXJMH37mh4UmvfVF8swF\"><svg class=\"ipc-icon ipc-icon--star-circle-filled\" fill=\"currentColor\" height=\"24\" role=\"presentation\" viewbox=\"0 0 24 24\" width=\"24\" xmlns=\"http://www.w3.org/2000/svg\"><path d=\"M0 0h24v24H0V0z\" fill=\"none\"></path><path d=\"M11.99 2C6.47 2 2 6.48 2 12s4.47 10 9.99 10C17.52 22 22 17.52 22 12S17.52 2 11.99 2zm3.23 15.39L12 15.45l-3.22 1.94a.502.502 0 0 1-.75-.54l.85-3.66-2.83-2.45a.505.505 0 0 1 .29-.88l3.74-.32 1.46-3.45c.17-.41.75-.41.92 0l1.46 3.44 3.74.32a.5.5 0 0 1 .28.88l-2.83 2.45.85 3.67c.1.43-.36.77-.74.54z\"></path></svg></span><span class=\"_2aunAih-uMfbdgTUIjnQMd\">Awards &amp; Events</span><span class=\"_2BeDp2pKthfMnxArm4lS0T\"><svg class=\"ipc-icon ipc-icon--chevron-right\" fill=\"currentColor\" height=\"24\" role=\"presentation\" viewbox=\"0 0 24 24\" width=\"24\" xmlns=\"http://www.w3.org/2000/svg\"><path d=\"M0 0h24v24H0V0z\" fill=\"none\"></path><path d=\"M9.29 6.71a.996.996 0 0 0 0 1.41L13.17 12l-3.88 3.88a.996.996 0 1 0 1.41 1.41l4.59-4.59a.996.996 0 0 0 0-1.41L10.7 6.7c-.38-.38-1.02-.38-1.41.01z\"></path></svg></span></label><div aria-expanded=\"false\" aria-hidden=\"true\" class=\"_1S9IOoNAVMPB2VikET3Lr2\" data-testid=\"list-container\"><div class=\"_1IQgIe3JwGh2arzItRgYN3\" role=\"presentation\"><ul aria-orientation=\"vertical\" class=\"ipc-list _1gB7giE3RrFWXvlzwjWk-q ipc-list--baseAlt\" role=\"menu\"><a aria-disabled=\"false\" class=\"ipc-list__item nav-link NavLink-sc-19k0khm-0 LrpYY ipc-list__item--indent-one\" href=\"/oscars/?ref_=nv_ev_acd\" role=\"menuitem\" tabindex=\"-1\"><span class=\"ipc-list-item__text\" role=\"presentation\">Oscars</span></a><a aria-disabled=\"false\" class=\"ipc-list__item nav-link nav-link--hideL nav-link--hideXL NavLink-sc-19k0khm-0 LrpYY ipc-list__item--indent-one\" href=\"https://m.imdb.com/feature/bestpicture/?ref_=nv_ch_osc\" role=\"menuitem\" tabindex=\"-1\"><span class=\"ipc-list-item__text\" role=\"presentation\">Best Picture Winners</span></a><a aria-disabled=\"false\" class=\"ipc-list__item nav-link nav-link--hideXS nav-link--hideS nav-link--hideM NavLink-sc-19k0khm-0 LrpYY ipc-list__item--indent-one\" href=\"https://www.imdb.com/search/title/?count=100&amp;groups=oscar_best_picture_winners&amp;sort=year%2Cdesc&amp;ref_=nv_ch_osc\" role=\"menuitem\" tabindex=\"-1\"><span class=\"ipc-list-item__text\" role=\"presentation\">Best Picture Winners</span></a><a aria-disabled=\"false\" class=\"ipc-list__item nav-link NavLink-sc-19k0khm-0 LrpYY ipc-list__item--indent-one\" href=\"/golden-globes/?ref_=nv_ev_gg\" role=\"menuitem\" tabindex=\"-1\"><span class=\"ipc-list-item__text\" role=\"presentation\">Golden Globes</span></a><a aria-disabled=\"false\" class=\"ipc-list__item nav-link NavLink-sc-19k0khm-0 LrpYY ipc-list__item--indent-one\" href=\"/emmys/?ref_=nv_ev_rte\" role=\"menuitem\" tabindex=\"-1\"><span class=\"ipc-list-item__text\" role=\"presentation\">Emmys</span></a><a aria-disabled=\"false\" class=\"ipc-list__item nav-link NavLink-sc-19k0khm-0 LrpYY ipc-list__item--indent-one\" href=\"/starmeterawards/?ref_=nv_ev_sma\" role=\"menuitem\" tabindex=\"-1\"><span class=\"ipc-list-item__text\" role=\"presentation\">STARmeter Awards</span></a><a aria-disabled=\"false\" class=\"ipc-list__item nav-link NavLink-sc-19k0khm-0 LrpYY ipc-list__item--indent-one\" href=\"/comic-con/?ref_=nv_ev_comic\" role=\"menuitem\" tabindex=\"-1\"><span class=\"ipc-list-item__text\" role=\"presentation\">San Diego Comic-Con</span></a><a aria-disabled=\"false\" class=\"ipc-list__item nav-link NavLink-sc-19k0khm-0 LrpYY ipc-list__item--indent-one\" href=\"/nycc/?ref_=nv_ev_nycc\" role=\"menuitem\" tabindex=\"-1\"><span class=\"ipc-list-item__text\" role=\"presentation\">New York Comic-Con</span></a><a aria-disabled=\"false\" class=\"ipc-list__item nav-link NavLink-sc-19k0khm-0 LrpYY ipc-list__item--indent-one\" href=\"/sundance/?ref_=nv_ev_sun\" role=\"menuitem\" tabindex=\"-1\"><span class=\"ipc-list-item__text\" role=\"presentation\">Sundance Film Festival</span></a><a aria-disabled=\"false\" class=\"ipc-list__item nav-link NavLink-sc-19k0khm-0 LrpYY ipc-list__item--indent-one\" href=\"/toronto/?ref_=nv_ev_tor\" role=\"menuitem\" tabindex=\"-1\"><span class=\"ipc-list-item__text\" role=\"presentation\">Toronto Int'l Film Festival</span></a><a aria-disabled=\"false\" class=\"ipc-list__item nav-link NavLink-sc-19k0khm-0 LrpYY ipc-list__item--indent-one\" href=\"/awards-central/?ref_=nv_ev_awrd\" role=\"menuitem\" tabindex=\"-1\"><span class=\"ipc-list-item__text\" role=\"presentation\">Awards Central</span></a><a aria-disabled=\"false\" class=\"ipc-list__item nav-link NavLink-sc-19k0khm-0 LrpYY ipc-list__item--indent-one\" href=\"/festival-central/?ref_=nv_ev_fc\" role=\"menuitem\" tabindex=\"-1\"><span class=\"ipc-list-item__text\" role=\"presentation\">Festival Central</span></a><a aria-disabled=\"false\" class=\"ipc-list__item nav-link NavLink-sc-19k0khm-0 LrpYY ipc-list__item--indent-one\" href=\"https://www.imdb.com/event/all/?ref_=nv_ev_all\" role=\"menuitem\" tabindex=\"-1\"><span class=\"ipc-list-item__text\" role=\"presentation\">All Events</span></a></ul></div></div></span>,\n",
       " <span class=\"_1tLXJMH37mh4UmvfVF8swF\"><svg class=\"ipc-icon ipc-icon--star-circle-filled\" fill=\"currentColor\" height=\"24\" role=\"presentation\" viewbox=\"0 0 24 24\" width=\"24\" xmlns=\"http://www.w3.org/2000/svg\"><path d=\"M0 0h24v24H0V0z\" fill=\"none\"></path><path d=\"M11.99 2C6.47 2 2 6.48 2 12s4.47 10 9.99 10C17.52 22 22 17.52 22 12S17.52 2 11.99 2zm3.23 15.39L12 15.45l-3.22 1.94a.502.502 0 0 1-.75-.54l.85-3.66-2.83-2.45a.505.505 0 0 1 .29-.88l3.74-.32 1.46-3.45c.17-.41.75-.41.92 0l1.46 3.44 3.74.32a.5.5 0 0 1 .28.88l-2.83 2.45.85 3.67c.1.43-.36.77-.74.54z\"></path></svg></span>,\n",
       " <span class=\"_2aunAih-uMfbdgTUIjnQMd\">Awards &amp; Events</span>,\n",
       " <span class=\"_2BeDp2pKthfMnxArm4lS0T\"><svg class=\"ipc-icon ipc-icon--chevron-right\" fill=\"currentColor\" height=\"24\" role=\"presentation\" viewbox=\"0 0 24 24\" width=\"24\" xmlns=\"http://www.w3.org/2000/svg\"><path d=\"M0 0h24v24H0V0z\" fill=\"none\"></path><path d=\"M9.29 6.71a.996.996 0 0 0 0 1.41L13.17 12l-3.88 3.88a.996.996 0 1 0 1.41 1.41l4.59-4.59a.996.996 0 0 0 0-1.41L10.7 6.7c-.38-.38-1.02-.38-1.41.01z\"></path></svg></span>,\n",
       " <span class=\"ipc-list-item__text\" role=\"presentation\">Oscars</span>,\n",
       " <span class=\"ipc-list-item__text\" role=\"presentation\">Best Picture Winners</span>,\n",
       " <span class=\"ipc-list-item__text\" role=\"presentation\">Best Picture Winners</span>,\n",
       " <span class=\"ipc-list-item__text\" role=\"presentation\">Golden Globes</span>,\n",
       " <span class=\"ipc-list-item__text\" role=\"presentation\">Emmys</span>,\n",
       " <span class=\"ipc-list-item__text\" role=\"presentation\">STARmeter Awards</span>,\n",
       " <span class=\"ipc-list-item__text\" role=\"presentation\">San Diego Comic-Con</span>,\n",
       " <span class=\"ipc-list-item__text\" role=\"presentation\">New York Comic-Con</span>,\n",
       " <span class=\"ipc-list-item__text\" role=\"presentation\">Sundance Film Festival</span>,\n",
       " <span class=\"ipc-list-item__text\" role=\"presentation\">Toronto Int'l Film Festival</span>,\n",
       " <span class=\"ipc-list-item__text\" role=\"presentation\">Awards Central</span>,\n",
       " <span class=\"ipc-list-item__text\" role=\"presentation\">Festival Central</span>,\n",
       " <span class=\"ipc-list-item__text\" role=\"presentation\">All Events</span>,\n",
       " <span class=\"_2Q0QZxgQqVpU0nQBqv1xlY\"><label aria-label=\"Expand Celebs Nav Links\" class=\"_2vjThdvAXrHx6CofJjm03w\" data-testid=\"category-expando\" for=\"nav-link-categories-celebs\" role=\"button\" tabindex=\"0\"><span class=\"_1tLXJMH37mh4UmvfVF8swF\"><svg class=\"ipc-icon ipc-icon--people\" fill=\"currentColor\" height=\"24\" role=\"presentation\" viewbox=\"0 0 24 24\" width=\"24\" xmlns=\"http://www.w3.org/2000/svg\"><path d=\"M0 0h24v24H0V0z\" fill=\"none\"></path><path d=\"M16 11c1.66 0 2.99-1.34 2.99-3S17.66 5 16 5s-3 1.34-3 3 1.34 3 3 3zm-8 0c1.66 0 2.99-1.34 2.99-3S9.66 5 8 5 5 6.34 5 8s1.34 3 3 3zm0 2c-2.33 0-7 1.17-7 3.5V18c0 .55.45 1 1 1h12c.55 0 1-.45 1-1v-1.5c0-2.33-4.67-3.5-7-3.5zm8 0c-.29 0-.62.02-.97.05.02.01.03.03.04.04 1.14.83 1.93 1.94 1.93 3.41V18c0 .35-.07.69-.18 1H22c.55 0 1-.45 1-1v-1.5c0-2.33-4.67-3.5-7-3.5z\"></path></svg></span><span class=\"_2aunAih-uMfbdgTUIjnQMd\">Celebs</span><span class=\"_2BeDp2pKthfMnxArm4lS0T\"><svg class=\"ipc-icon ipc-icon--chevron-right\" fill=\"currentColor\" height=\"24\" role=\"presentation\" viewbox=\"0 0 24 24\" width=\"24\" xmlns=\"http://www.w3.org/2000/svg\"><path d=\"M0 0h24v24H0V0z\" fill=\"none\"></path><path d=\"M9.29 6.71a.996.996 0 0 0 0 1.41L13.17 12l-3.88 3.88a.996.996 0 1 0 1.41 1.41l4.59-4.59a.996.996 0 0 0 0-1.41L10.7 6.7c-.38-.38-1.02-.38-1.41.01z\"></path></svg></span></label><div aria-expanded=\"false\" aria-hidden=\"true\" class=\"_1S9IOoNAVMPB2VikET3Lr2\" data-testid=\"list-container\"><div class=\"_1IQgIe3JwGh2arzItRgYN3\" role=\"presentation\"><ul aria-orientation=\"vertical\" class=\"ipc-list _1gB7giE3RrFWXvlzwjWk-q ipc-list--baseAlt\" role=\"menu\"><a aria-disabled=\"false\" class=\"ipc-list__item nav-link NavLink-sc-19k0khm-0 LrpYY ipc-list__item--indent-one\" href=\"/feature/bornondate/?ref_=nv_cel_brn\" role=\"menuitem\" tabindex=\"-1\"><span class=\"ipc-list-item__text\" role=\"presentation\">Born Today</span></a><a aria-disabled=\"false\" class=\"ipc-list__item nav-link nav-link--hideL nav-link--hideXL NavLink-sc-19k0khm-0 LrpYY ipc-list__item--indent-one\" href=\"https://m.imdb.com/chart/starmeter/?ref_=nv_cel_brn\" role=\"menuitem\" tabindex=\"-1\"><span class=\"ipc-list-item__text\" role=\"presentation\">Most Popular Celebs</span></a><a aria-disabled=\"false\" class=\"ipc-list__item nav-link nav-link--hideXS nav-link--hideS nav-link--hideM NavLink-sc-19k0khm-0 LrpYY ipc-list__item--indent-one\" href=\"https://www.imdb.com/search/name/?gender=male%2Cfemale&amp;ref_=nv_cel_m\" role=\"menuitem\" tabindex=\"-1\"><span class=\"ipc-list-item__text\" role=\"presentation\">Most Popular Celebs</span></a><a aria-disabled=\"false\" class=\"ipc-list__item nav-link NavLink-sc-19k0khm-0 LrpYY ipc-list__item--indent-one\" href=\"/news/celebrity/?ref_=nv_cel_nw\" role=\"menuitem\" tabindex=\"-1\"><span class=\"ipc-list-item__text\" role=\"presentation\">Celebrity News</span></a></ul></div></div></span>,\n",
       " <span class=\"_1tLXJMH37mh4UmvfVF8swF\"><svg class=\"ipc-icon ipc-icon--people\" fill=\"currentColor\" height=\"24\" role=\"presentation\" viewbox=\"0 0 24 24\" width=\"24\" xmlns=\"http://www.w3.org/2000/svg\"><path d=\"M0 0h24v24H0V0z\" fill=\"none\"></path><path d=\"M16 11c1.66 0 2.99-1.34 2.99-3S17.66 5 16 5s-3 1.34-3 3 1.34 3 3 3zm-8 0c1.66 0 2.99-1.34 2.99-3S9.66 5 8 5 5 6.34 5 8s1.34 3 3 3zm0 2c-2.33 0-7 1.17-7 3.5V18c0 .55.45 1 1 1h12c.55 0 1-.45 1-1v-1.5c0-2.33-4.67-3.5-7-3.5zm8 0c-.29 0-.62.02-.97.05.02.01.03.03.04.04 1.14.83 1.93 1.94 1.93 3.41V18c0 .35-.07.69-.18 1H22c.55 0 1-.45 1-1v-1.5c0-2.33-4.67-3.5-7-3.5z\"></path></svg></span>,\n",
       " <span class=\"_2aunAih-uMfbdgTUIjnQMd\">Celebs</span>,\n",
       " <span class=\"_2BeDp2pKthfMnxArm4lS0T\"><svg class=\"ipc-icon ipc-icon--chevron-right\" fill=\"currentColor\" height=\"24\" role=\"presentation\" viewbox=\"0 0 24 24\" width=\"24\" xmlns=\"http://www.w3.org/2000/svg\"><path d=\"M0 0h24v24H0V0z\" fill=\"none\"></path><path d=\"M9.29 6.71a.996.996 0 0 0 0 1.41L13.17 12l-3.88 3.88a.996.996 0 1 0 1.41 1.41l4.59-4.59a.996.996 0 0 0 0-1.41L10.7 6.7c-.38-.38-1.02-.38-1.41.01z\"></path></svg></span>,\n",
       " <span class=\"ipc-list-item__text\" role=\"presentation\">Born Today</span>,\n",
       " <span class=\"ipc-list-item__text\" role=\"presentation\">Most Popular Celebs</span>,\n",
       " <span class=\"ipc-list-item__text\" role=\"presentation\">Most Popular Celebs</span>,\n",
       " <span class=\"ipc-list-item__text\" role=\"presentation\">Celebrity News</span>,\n",
       " <span class=\"_2Q0QZxgQqVpU0nQBqv1xlY\"><label aria-label=\"Expand Community Nav Links\" class=\"_2vjThdvAXrHx6CofJjm03w\" data-testid=\"category-expando\" for=\"nav-link-categories-comm\" role=\"button\" tabindex=\"0\"><span class=\"_1tLXJMH37mh4UmvfVF8swF\"><svg class=\"ipc-icon ipc-icon--earth\" fill=\"currentColor\" height=\"24\" role=\"presentation\" viewbox=\"0 0 24 24\" width=\"24\" xmlns=\"http://www.w3.org/2000/svg\"><path d=\"M0 0h24v24H0V0z\" fill=\"none\"></path><path d=\"M12 2C6.48 2 2 6.48 2 12s4.48 10 10 10 10-4.48 10-10S17.52 2 12 2zm-1 17.93c-3.95-.49-7-3.85-7-7.93 0-.62.08-1.21.21-1.79L9 15v1c0 1.1.9 2 2 2v1.93zm6.9-2.54c-.26-.81-1-1.39-1.9-1.39h-1v-3c0-.55-.45-1-1-1H8v-2h2c.55 0 1-.45 1-1V7h2c1.1 0 2-.9 2-2v-.41c2.93 1.19 5 4.06 5 7.41 0 2.08-.8 3.97-2.1 5.39z\"></path></svg></span><span class=\"_2aunAih-uMfbdgTUIjnQMd\">Community</span><span class=\"_2BeDp2pKthfMnxArm4lS0T\"><svg class=\"ipc-icon ipc-icon--chevron-right\" fill=\"currentColor\" height=\"24\" role=\"presentation\" viewbox=\"0 0 24 24\" width=\"24\" xmlns=\"http://www.w3.org/2000/svg\"><path d=\"M0 0h24v24H0V0z\" fill=\"none\"></path><path d=\"M9.29 6.71a.996.996 0 0 0 0 1.41L13.17 12l-3.88 3.88a.996.996 0 1 0 1.41 1.41l4.59-4.59a.996.996 0 0 0 0-1.41L10.7 6.7c-.38-.38-1.02-.38-1.41.01z\"></path></svg></span></label><div aria-expanded=\"false\" aria-hidden=\"true\" class=\"_1S9IOoNAVMPB2VikET3Lr2\" data-testid=\"list-container\"><div class=\"_1IQgIe3JwGh2arzItRgYN3\" role=\"presentation\"><ul aria-orientation=\"vertical\" class=\"ipc-list _1gB7giE3RrFWXvlzwjWk-q ipc-list--baseAlt\" role=\"menu\"><a aria-disabled=\"false\" class=\"ipc-list__item nav-link NavLink-sc-19k0khm-0 LrpYY ipc-list__item--indent-one\" href=\"https://help.imdb.com/imdb?ref_=cons_nb_hlp\" role=\"menuitem\" tabindex=\"-1\"><span class=\"ipc-list-item__text\" role=\"presentation\">Help Center</span></a><a aria-disabled=\"false\" class=\"ipc-list__item nav-link NavLink-sc-19k0khm-0 LrpYY ipc-list__item--indent-one\" href=\"https://contribute.imdb.com/czone?ref_=nv_cm_cz\" role=\"menuitem\" tabindex=\"-1\"><span class=\"ipc-list-item__text\" role=\"presentation\">Contributor Zone</span></a><a aria-disabled=\"false\" class=\"ipc-list__item nav-link NavLink-sc-19k0khm-0 LrpYY ipc-list__item--indent-one\" href=\"/poll/?ref_=nv_cm_pl\" role=\"menuitem\" tabindex=\"-1\"><span class=\"ipc-list-item__text\" role=\"presentation\">Polls</span></a></ul></div></div></span>,\n",
       " <span class=\"_1tLXJMH37mh4UmvfVF8swF\"><svg class=\"ipc-icon ipc-icon--earth\" fill=\"currentColor\" height=\"24\" role=\"presentation\" viewbox=\"0 0 24 24\" width=\"24\" xmlns=\"http://www.w3.org/2000/svg\"><path d=\"M0 0h24v24H0V0z\" fill=\"none\"></path><path d=\"M12 2C6.48 2 2 6.48 2 12s4.48 10 10 10 10-4.48 10-10S17.52 2 12 2zm-1 17.93c-3.95-.49-7-3.85-7-7.93 0-.62.08-1.21.21-1.79L9 15v1c0 1.1.9 2 2 2v1.93zm6.9-2.54c-.26-.81-1-1.39-1.9-1.39h-1v-3c0-.55-.45-1-1-1H8v-2h2c.55 0 1-.45 1-1V7h2c1.1 0 2-.9 2-2v-.41c2.93 1.19 5 4.06 5 7.41 0 2.08-.8 3.97-2.1 5.39z\"></path></svg></span>,\n",
       " <span class=\"_2aunAih-uMfbdgTUIjnQMd\">Community</span>,\n",
       " <span class=\"_2BeDp2pKthfMnxArm4lS0T\"><svg class=\"ipc-icon ipc-icon--chevron-right\" fill=\"currentColor\" height=\"24\" role=\"presentation\" viewbox=\"0 0 24 24\" width=\"24\" xmlns=\"http://www.w3.org/2000/svg\"><path d=\"M0 0h24v24H0V0z\" fill=\"none\"></path><path d=\"M9.29 6.71a.996.996 0 0 0 0 1.41L13.17 12l-3.88 3.88a.996.996 0 1 0 1.41 1.41l4.59-4.59a.996.996 0 0 0 0-1.41L10.7 6.7c-.38-.38-1.02-.38-1.41.01z\"></path></svg></span>,\n",
       " <span class=\"ipc-list-item__text\" role=\"presentation\">Help Center</span>,\n",
       " <span class=\"ipc-list-item__text\" role=\"presentation\">Contributor Zone</span>,\n",
       " <span class=\"ipc-list-item__text\" role=\"presentation\">Polls</span>,\n",
       " <span class=\"ipc-list-item__text\" role=\"presentation\"><div class=\"_33PK8nBHiT1fGjnfXwum3v NavLinkCategoryList__LogoNavLink-sc-13vymju-1 RQLCk\"><svg class=\"ipc-logo\" height=\"14\" version=\"1.1\" viewbox=\"0 0 52 14\" width=\"52\" xmlns=\"http://www.w3.org/2000/svg\"><g fill=\"currentColor\"><rect height=\"12.34\" width=\"3.21\" x=\"0\" y=\"1\"></rect><path d=\"M10,1 L9.3,6.76 L8.84,3.63 C8.7,2.62 8.58,1.75 8.45,1 L4.3,1 L4.3,13.34 L7.11,13.34 L7.11,5.19 L8.3,13.34 L10.3,13.34 L11.42,5 L11.42,13.33 L14.22,13.33 L14.22,1 L10,1 Z\"></path><path d=\"M19.24,3.22 C19.3711159,3.29185219 19.4602235,3.42180078 19.48,3.57 C19.5340993,3.92393477 19.554191,4.28223587 19.54,4.64 L19.54,9.42 C19.578852,9.92887392 19.5246327,10.4405682 19.38,10.93 C19.27,11.12 18.99,11.21 18.53,11.21 L18.53,3.11 C18.7718735,3.09406934 19.0142863,3.13162626 19.24,3.22 Z M19.24,13.34 C19.8163127,13.3574057 20.3928505,13.3138302 20.96,13.21 C21.3245396,13.1481159 21.6680909,12.9969533 21.96,12.77 C22.2288287,12.5438006 22.4209712,12.2398661 22.51,11.9 C22.643288,11.1679419 22.6969338,10.4236056 22.67,9.68 L22.67,5.34 C22.6662002,4.55669241 22.6060449,3.77467335 22.49,3 C22.43037,2.59841431 22.260779,2.22116094 22,1.91 C21.6636187,1.56093667 21.2326608,1.317654 20.76,1.21 C19.7709421,1.02848785 18.7647002,0.958050915 17.76,1 L15.32,1 L15.32,13.34 L19.24,13.34 Z\"></path><path d=\"M27.86,10.34 C27.8769902,10.7218086 27.8501483,11.1043064 27.78,11.48 C27.72,11.63 27.46,11.71 27.26,11.71 C27.0954951,11.7299271 26.9386363,11.6349863 26.88,11.48 C26.7930212,11.1542289 26.7592527,10.8165437 26.78,10.48 L26.78,7.18 C26.7626076,6.84408875 26.7929089,6.50740774 26.87,6.18 C26.9317534,6.03447231 27.0833938,5.94840616 27.24,5.97 C27.43,5.97 27.7,6.05 27.76,6.21 C27.8468064,6.53580251 27.8805721,6.87345964 27.86,7.21 L27.86,10.34 Z M23.7,1 L23.7,13.34 L26.58,13.34 L26.78,12.55 C27.0112432,12.8467609 27.3048209,13.0891332 27.64,13.26 C28.0022345,13.4198442 28.394069,13.5016184 28.79,13.5 C29.2588971,13.515288 29.7196211,13.3746089 30.1,13.1 C30.4399329,12.8800058 30.6913549,12.5471372 30.81,12.16 C30.9423503,11.6167622 31.0061799,11.0590937 31,10.5 L31,7 C31.0087531,6.51279482 30.9920637,6.02546488 30.95,5.54 C30.904474,5.28996521 30.801805,5.05382649 30.65,4.85 C30.4742549,4.59691259 30.2270668,4.40194735 29.94,4.29 C29.5869438,4.15031408 29.2096076,4.08232558 28.83,4.09 C28.4361722,4.08961884 28.0458787,4.16428368 27.68,4.31 C27.3513666,4.46911893 27.0587137,4.693713 26.82,4.97 L26.82,1 L23.7,1 Z\"></path><path d=\"M32.13,1 L35.32,1 C35.9925574,0.978531332 36.6650118,1.04577677 37.32,1.2 C37.717112,1.29759578 38.0801182,1.50157071 38.37,1.79 C38.6060895,2.05302496 38.7682605,2.37391646 38.84,2.72 C38.935586,3.27463823 38.9757837,3.8374068 38.96,4.4 L38.96,5.46 C38.9916226,6.03689533 38.9100917,6.61440551 38.72,7.16 C38.5402933,7.53432344 38.2260614,7.82713037 37.84,7.98 C37.3049997,8.18709035 36.7332458,8.28238268 36.16,8.26 L35.31,8.26 L35.31,13.16 L32.13,13.16 L32.13,1 Z M35.29,3.08 L35.29,6.18 L35.53,6.18 C35.7515781,6.20532753 35.9725786,6.12797738 36.13,5.97 C36.2717869,5.69610033 36.3308522,5.38687568 36.3,5.08 L36.3,4.08 C36.3390022,3.79579475 36.2713114,3.5072181 36.11,3.27 C35.8671804,3.11299554 35.5771259,3.04578777 35.29,3.08 Z\"></path><path d=\"M42,4.36 L41.89,5.52 C42.28,4.69 43.67,4.42 44.41,4.37 L43.6,7.3 C43.2290559,7.27725357 42.8582004,7.34593052 42.52,7.5 C42.3057075,7.61238438 42.1519927,7.81367763 42.1,8.05 C42.0178205,8.59259006 41.9843538,9.14144496 42,9.69 L42,13.16 L39.34,13.16 L39.34,4.36 L42,4.36 Z\"></path><path d=\"M51.63,9.71 C51.6472876,10.3265292 51.6003682,10.9431837 51.49,11.55 C51.376862,11.9620426 51.1639158,12.3398504 50.87,12.65 C50.5352227,13.001529 50.1148049,13.2599826 49.65,13.4 C49.0994264,13.5686585 48.5257464,13.6496486 47.95,13.64 C47.3333389,13.6524659 46.7178074,13.5818311 46.12,13.43 C45.6996896,13.322764 45.3140099,13.1092627 45,12.81 C44.7275808,12.5275876 44.5254637,12.1850161 44.41,11.81 C44.2627681,11.2181509 44.1921903,10.6098373 44.2,10 L44.2,7.64 C44.1691064,6.9584837 44.2780071,6.27785447 44.52,5.64 C44.7547114,5.12751365 45.1616363,4.71351186 45.67,4.47 C46.3337168,4.13941646 47.0688388,3.97796445 47.81,4 C48.4454888,3.98667568 49.0783958,4.08482705 49.68,4.29 C50.1352004,4.42444561 50.5506052,4.66819552 50.89,5 C51.1535526,5.26601188 51.3550281,5.58700663 51.48,5.94 C51.6001358,6.42708696 51.6506379,6.92874119 51.63,7.43 L51.63,9.71 Z M48.39,6.73 C48.412199,6.42705368 48.3817488,6.12255154 48.3,5.83 C48.2091142,5.71223121 48.0687606,5.64325757 47.92,5.64325757 C47.7712394,5.64325757 47.6308858,5.71223121 47.54,5.83 C47.447616,6.12046452 47.4136298,6.42634058 47.44,6.73 L47.44,10.93 C47.4168299,11.2204468 47.4508034,11.5126191 47.54,11.79 C47.609766,11.9270995 47.7570827,12.0067302 47.91,11.99 C48.0639216,12.0108082 48.2159732,11.9406305 48.3,11.81 C48.3790864,11.5546009 48.4096133,11.2866434 48.39,11.02 L48.39,6.73 Z\"></path></g></svg><div class=\"NavLinkCategoryList__TextNavLink-sc-13vymju-2 YOYgO\">For Industry Professionals</div></div></span>,\n",
       " <span class=\"ipc-list-item__icon ipc-list-item__icon--post\" role=\"presentation\"><svg class=\"ipc-icon ipc-icon--launch\" fill=\"currentColor\" height=\"24\" role=\"presentation\" viewbox=\"0 0 24 24\" width=\"24\" xmlns=\"http://www.w3.org/2000/svg\"><path d=\"M16 16.667H8A.669.669 0 0 1 7.333 16V8c0-.367.3-.667.667-.667h3.333c.367 0 .667-.3.667-.666C12 6.3 11.7 6 11.333 6h-4C6.593 6 6 6.6 6 7.333v9.334C6 17.4 6.6 18 7.333 18h9.334C17.4 18 18 17.4 18 16.667v-4c0-.367-.3-.667-.667-.667-.366 0-.666.3-.666.667V16c0 .367-.3.667-.667.667zm-2.667-10c0 .366.3.666.667.666h1.727L9.64 13.42a.664.664 0 1 0 .94.94l6.087-6.087V10c0 .367.3.667.666.667.367 0 .667-.3.667-.667V6h-4c-.367 0-.667.3-.667.667z\"></path></svg></span>,\n",
       " <span id=\"navbar-search-category-select-contents\"><ul aria-orientation=\"vertical\" class=\"ipc-list _2crW0ewf49BFHCKEEUJ_9o ipc-list--baseAlt\" role=\"menu\"><a aria-disabled=\"false\" aria-label=\"All\" class=\"ipc-list__item _1L5qcXA4wOKR8LeHJgsqja _3lrXaniHRqyCb5hUFHbcds\" role=\"menuitem\" tabindex=\"0\"><span class=\"ipc-list-item__text\" role=\"presentation\"><svg class=\"ipc-icon ipc-icon--search _2re8nTkPmRXI_TBcLnh1u8\" fill=\"currentColor\" height=\"24\" role=\"presentation\" viewbox=\"0 0 24 24\" width=\"24\" xmlns=\"http://www.w3.org/2000/svg\"><path d=\"M0 0h24v24H0V0z\" fill=\"none\"></path><path d=\"M15.5 14h-.79l-.28-.27a6.5 6.5 0 0 0 1.48-5.34c-.47-2.78-2.79-5-5.59-5.34a6.505 6.505 0 0 0-7.27 7.27c.34 2.8 2.56 5.12 5.34 5.59a6.5 6.5 0 0 0 5.34-1.48l.27.28v.79l4.25 4.25c.41.41 1.08.41 1.49 0 .41-.41.41-1.08 0-1.49L15.5 14zm-6 0C7.01 14 5 11.99 5 9.5S7.01 5 9.5 5 14 7.01 14 9.5 11.99 14 9.5 14z\"></path></svg>All</span></a><a aria-disabled=\"false\" aria-label=\"Titles\" class=\"ipc-list__item _1L5qcXA4wOKR8LeHJgsqja\" role=\"menuitem\" tabindex=\"0\"><span class=\"ipc-list-item__text\" role=\"presentation\"><svg class=\"ipc-icon ipc-icon--movie _2re8nTkPmRXI_TBcLnh1u8\" fill=\"currentColor\" height=\"24\" role=\"presentation\" viewbox=\"0 0 24 24\" width=\"24\" xmlns=\"http://www.w3.org/2000/svg\"><path d=\"M0 0h24v24H0V0z\" fill=\"none\"></path><path d=\"M18 4v1h-2V4c0-.55-.45-1-1-1H9c-.55 0-1 .45-1 1v1H6V4c0-.55-.45-1-1-1s-1 .45-1 1v16c0 .55.45 1 1 1s1-.45 1-1v-1h2v1c0 .55.45 1 1 1h6c.55 0 1-.45 1-1v-1h2v1c0 .55.45 1 1 1s1-.45 1-1V4c0-.55-.45-1-1-1s-1 .45-1 1zM8 17H6v-2h2v2zm0-4H6v-2h2v2zm0-4H6V7h2v2zm10 8h-2v-2h2v2zm0-4h-2v-2h2v2zm0-4h-2V7h2v2z\"></path></svg>Titles</span></a><a aria-disabled=\"false\" aria-label=\"TV Episodes\" class=\"ipc-list__item _1L5qcXA4wOKR8LeHJgsqja\" role=\"menuitem\" tabindex=\"0\"><span class=\"ipc-list-item__text\" role=\"presentation\"><svg class=\"ipc-icon ipc-icon--television _2re8nTkPmRXI_TBcLnh1u8\" fill=\"currentColor\" height=\"24\" role=\"presentation\" viewbox=\"0 0 24 24\" width=\"24\" xmlns=\"http://www.w3.org/2000/svg\"><path d=\"M0 0h24v24H0V0z\" fill=\"none\"></path><path d=\"M21 3H3c-1.1 0-2 .9-2 2v12c0 1.1.9 2 2 2h5v1c0 .55.45 1 1 1h6c.55 0 1-.45 1-1v-1h5c1.1 0 1.99-.9 1.99-2L23 5a2 2 0 0 0-2-2zm-1 14H4c-.55 0-1-.45-1-1V6c0-.55.45-1 1-1h16c.55 0 1 .45 1 1v10c0 .55-.45 1-1 1z\"></path></svg>TV Episodes</span></a><a aria-disabled=\"false\" aria-label=\"Celebs\" class=\"ipc-list__item _1L5qcXA4wOKR8LeHJgsqja\" role=\"menuitem\" tabindex=\"0\"><span class=\"ipc-list-item__text\" role=\"presentation\"><svg class=\"ipc-icon ipc-icon--people _2re8nTkPmRXI_TBcLnh1u8\" fill=\"currentColor\" height=\"24\" role=\"presentation\" viewbox=\"0 0 24 24\" width=\"24\" xmlns=\"http://www.w3.org/2000/svg\"><path d=\"M0 0h24v24H0V0z\" fill=\"none\"></path><path d=\"M16 11c1.66 0 2.99-1.34 2.99-3S17.66 5 16 5s-3 1.34-3 3 1.34 3 3 3zm-8 0c1.66 0 2.99-1.34 2.99-3S9.66 5 8 5 5 6.34 5 8s1.34 3 3 3zm0 2c-2.33 0-7 1.17-7 3.5V18c0 .55.45 1 1 1h12c.55 0 1-.45 1-1v-1.5c0-2.33-4.67-3.5-7-3.5zm8 0c-.29 0-.62.02-.97.05.02.01.03.03.04.04 1.14.83 1.93 1.94 1.93 3.41V18c0 .35-.07.69-.18 1H22c.55 0 1-.45 1-1v-1.5c0-2.33-4.67-3.5-7-3.5z\"></path></svg>Celebs</span></a><a aria-disabled=\"false\" aria-label=\"Companies\" class=\"ipc-list__item _1L5qcXA4wOKR8LeHJgsqja\" role=\"menuitem\" tabindex=\"0\"><span class=\"ipc-list-item__text\" role=\"presentation\"><svg class=\"ipc-icon ipc-icon--business _2re8nTkPmRXI_TBcLnh1u8\" fill=\"currentColor\" height=\"24\" role=\"presentation\" viewbox=\"0 0 24 24\" width=\"24\" xmlns=\"http://www.w3.org/2000/svg\"><path d=\"M0 0h24v24H0V0z\" fill=\"none\"></path><path d=\"M12 7V5c0-1.1-.9-2-2-2H4c-1.1 0-2 .9-2 2v14c0 1.1.9 2 2 2h16c1.1 0 2-.9 2-2V9c0-1.1-.9-2-2-2h-8zM6 19H4v-2h2v2zm0-4H4v-2h2v2zm0-4H4V9h2v2zm0-4H4V5h2v2zm4 12H8v-2h2v2zm0-4H8v-2h2v2zm0-4H8V9h2v2zm0-4H8V5h2v2zm9 12h-7v-2h2v-2h-2v-2h2v-2h-2V9h7c.55 0 1 .45 1 1v8c0 .55-.45 1-1 1zm-1-8h-2v2h2v-2zm0 4h-2v2h2v-2z\"></path></svg>Companies</span></a><a aria-disabled=\"false\" aria-label=\"Keywords\" class=\"ipc-list__item _1L5qcXA4wOKR8LeHJgsqja\" role=\"menuitem\" tabindex=\"0\"><span class=\"ipc-list-item__text\" role=\"presentation\"><svg class=\"ipc-icon ipc-icon--label _2re8nTkPmRXI_TBcLnh1u8\" fill=\"currentColor\" height=\"24\" role=\"presentation\" viewbox=\"0 0 24 24\" width=\"24\" xmlns=\"http://www.w3.org/2000/svg\"><path d=\"M0 0h24v24H0V0z\" fill=\"none\"></path><path d=\"M17.63 5.84C17.27 5.33 16.67 5 16 5L5 5.01C3.9 5.01 3 5.9 3 7v10c0 1.1.9 1.99 2 1.99L16 19c.67 0 1.27-.33 1.63-.84l3.96-5.58a.99.99 0 0 0 0-1.16l-3.96-5.58z\"></path></svg>Keywords</span></a><li class=\"ipc-list-divider\" role=\"separator\"></li><a aria-disabled=\"false\" class=\"ipc-list__item _1L5qcXA4wOKR8LeHJgsqja\" href=\"https://www.imdb.com/search/\" role=\"menuitem\" tabindex=\"0\"><span class=\"ipc-list-item__text\" role=\"presentation\"><svg class=\"ipc-icon ipc-icon--find-in-page _2re8nTkPmRXI_TBcLnh1u8\" fill=\"currentColor\" height=\"24\" role=\"presentation\" viewbox=\"0 0 24 24\" width=\"24\" xmlns=\"http://www.w3.org/2000/svg\"><path d=\"M0 0h24v24H0V0z\" fill=\"none\"></path><path d=\"M20 19.59V8.83c0-.53-.21-1.04-.59-1.41l-4.83-4.83c-.37-.38-.88-.59-1.41-.59H6c-1.1 0-1.99.9-1.99 2L4 20c0 1.1.89 2 1.99 2H18c.45 0 .85-.15 1.19-.4l-4.43-4.43c-.86.56-1.89.88-3 .82-2.37-.11-4.4-1.96-4.72-4.31a5.013 5.013 0 0 1 5.83-5.61c1.95.33 3.57 1.85 4 3.78.33 1.46.01 2.82-.7 3.9L20 19.59zM9 13c0 1.66 1.34 3 3 3s3-1.34 3-3-1.34-3-3-3-3 1.34-3 3z\"></path></svg>Advanced Search</span><span class=\"ipc-list-item__icon ipc-list-item__icon--post\" role=\"presentation\"><svg class=\"ipc-icon ipc-icon--chevron-right\" fill=\"currentColor\" height=\"24\" role=\"presentation\" viewbox=\"0 0 24 24\" width=\"24\" xmlns=\"http://www.w3.org/2000/svg\"><path d=\"M0 0h24v24H0V0z\" fill=\"none\"></path><path d=\"M9.29 6.71a.996.996 0 0 0 0 1.41L13.17 12l-3.88 3.88a.996.996 0 1 0 1.41 1.41l4.59-4.59a.996.996 0 0 0 0-1.41L10.7 6.7c-.38-.38-1.02-.38-1.41.01z\"></path></svg></span></a></ul></span>,\n",
       " <span class=\"ipc-list-item__text\" role=\"presentation\"><svg class=\"ipc-icon ipc-icon--search _2re8nTkPmRXI_TBcLnh1u8\" fill=\"currentColor\" height=\"24\" role=\"presentation\" viewbox=\"0 0 24 24\" width=\"24\" xmlns=\"http://www.w3.org/2000/svg\"><path d=\"M0 0h24v24H0V0z\" fill=\"none\"></path><path d=\"M15.5 14h-.79l-.28-.27a6.5 6.5 0 0 0 1.48-5.34c-.47-2.78-2.79-5-5.59-5.34a6.505 6.505 0 0 0-7.27 7.27c.34 2.8 2.56 5.12 5.34 5.59a6.5 6.5 0 0 0 5.34-1.48l.27.28v.79l4.25 4.25c.41.41 1.08.41 1.49 0 .41-.41.41-1.08 0-1.49L15.5 14zm-6 0C7.01 14 5 11.99 5 9.5S7.01 5 9.5 5 14 7.01 14 9.5 11.99 14 9.5 14z\"></path></svg>All</span>,\n",
       " <span class=\"ipc-list-item__text\" role=\"presentation\"><svg class=\"ipc-icon ipc-icon--movie _2re8nTkPmRXI_TBcLnh1u8\" fill=\"currentColor\" height=\"24\" role=\"presentation\" viewbox=\"0 0 24 24\" width=\"24\" xmlns=\"http://www.w3.org/2000/svg\"><path d=\"M0 0h24v24H0V0z\" fill=\"none\"></path><path d=\"M18 4v1h-2V4c0-.55-.45-1-1-1H9c-.55 0-1 .45-1 1v1H6V4c0-.55-.45-1-1-1s-1 .45-1 1v16c0 .55.45 1 1 1s1-.45 1-1v-1h2v1c0 .55.45 1 1 1h6c.55 0 1-.45 1-1v-1h2v1c0 .55.45 1 1 1s1-.45 1-1V4c0-.55-.45-1-1-1s-1 .45-1 1zM8 17H6v-2h2v2zm0-4H6v-2h2v2zm0-4H6V7h2v2zm10 8h-2v-2h2v2zm0-4h-2v-2h2v2zm0-4h-2V7h2v2z\"></path></svg>Titles</span>,\n",
       " <span class=\"ipc-list-item__text\" role=\"presentation\"><svg class=\"ipc-icon ipc-icon--television _2re8nTkPmRXI_TBcLnh1u8\" fill=\"currentColor\" height=\"24\" role=\"presentation\" viewbox=\"0 0 24 24\" width=\"24\" xmlns=\"http://www.w3.org/2000/svg\"><path d=\"M0 0h24v24H0V0z\" fill=\"none\"></path><path d=\"M21 3H3c-1.1 0-2 .9-2 2v12c0 1.1.9 2 2 2h5v1c0 .55.45 1 1 1h6c.55 0 1-.45 1-1v-1h5c1.1 0 1.99-.9 1.99-2L23 5a2 2 0 0 0-2-2zm-1 14H4c-.55 0-1-.45-1-1V6c0-.55.45-1 1-1h16c.55 0 1 .45 1 1v10c0 .55-.45 1-1 1z\"></path></svg>TV Episodes</span>,\n",
       " <span class=\"ipc-list-item__text\" role=\"presentation\"><svg class=\"ipc-icon ipc-icon--people _2re8nTkPmRXI_TBcLnh1u8\" fill=\"currentColor\" height=\"24\" role=\"presentation\" viewbox=\"0 0 24 24\" width=\"24\" xmlns=\"http://www.w3.org/2000/svg\"><path d=\"M0 0h24v24H0V0z\" fill=\"none\"></path><path d=\"M16 11c1.66 0 2.99-1.34 2.99-3S17.66 5 16 5s-3 1.34-3 3 1.34 3 3 3zm-8 0c1.66 0 2.99-1.34 2.99-3S9.66 5 8 5 5 6.34 5 8s1.34 3 3 3zm0 2c-2.33 0-7 1.17-7 3.5V18c0 .55.45 1 1 1h12c.55 0 1-.45 1-1v-1.5c0-2.33-4.67-3.5-7-3.5zm8 0c-.29 0-.62.02-.97.05.02.01.03.03.04.04 1.14.83 1.93 1.94 1.93 3.41V18c0 .35-.07.69-.18 1H22c.55 0 1-.45 1-1v-1.5c0-2.33-4.67-3.5-7-3.5z\"></path></svg>Celebs</span>,\n",
       " <span class=\"ipc-list-item__text\" role=\"presentation\"><svg class=\"ipc-icon ipc-icon--business _2re8nTkPmRXI_TBcLnh1u8\" fill=\"currentColor\" height=\"24\" role=\"presentation\" viewbox=\"0 0 24 24\" width=\"24\" xmlns=\"http://www.w3.org/2000/svg\"><path d=\"M0 0h24v24H0V0z\" fill=\"none\"></path><path d=\"M12 7V5c0-1.1-.9-2-2-2H4c-1.1 0-2 .9-2 2v14c0 1.1.9 2 2 2h16c1.1 0 2-.9 2-2V9c0-1.1-.9-2-2-2h-8zM6 19H4v-2h2v2zm0-4H4v-2h2v2zm0-4H4V9h2v2zm0-4H4V5h2v2zm4 12H8v-2h2v2zm0-4H8v-2h2v2zm0-4H8V9h2v2zm0-4H8V5h2v2zm9 12h-7v-2h2v-2h-2v-2h2v-2h-2V9h7c.55 0 1 .45 1 1v8c0 .55-.45 1-1 1zm-1-8h-2v2h2v-2zm0 4h-2v2h2v-2z\"></path></svg>Companies</span>,\n",
       " <span class=\"ipc-list-item__text\" role=\"presentation\"><svg class=\"ipc-icon ipc-icon--label _2re8nTkPmRXI_TBcLnh1u8\" fill=\"currentColor\" height=\"24\" role=\"presentation\" viewbox=\"0 0 24 24\" width=\"24\" xmlns=\"http://www.w3.org/2000/svg\"><path d=\"M0 0h24v24H0V0z\" fill=\"none\"></path><path d=\"M17.63 5.84C17.27 5.33 16.67 5 16 5L5 5.01C3.9 5.01 3 5.9 3 7v10c0 1.1.9 1.99 2 1.99L16 19c.67 0 1.27-.33 1.63-.84l3.96-5.58a.99.99 0 0 0 0-1.16l-3.96-5.58z\"></path></svg>Keywords</span>,\n",
       " <span class=\"ipc-list-item__text\" role=\"presentation\"><svg class=\"ipc-icon ipc-icon--find-in-page _2re8nTkPmRXI_TBcLnh1u8\" fill=\"currentColor\" height=\"24\" role=\"presentation\" viewbox=\"0 0 24 24\" width=\"24\" xmlns=\"http://www.w3.org/2000/svg\"><path d=\"M0 0h24v24H0V0z\" fill=\"none\"></path><path d=\"M20 19.59V8.83c0-.53-.21-1.04-.59-1.41l-4.83-4.83c-.37-.38-.88-.59-1.41-.59H6c-1.1 0-1.99.9-1.99 2L4 20c0 1.1.89 2 1.99 2H18c.45 0 .85-.15 1.19-.4l-4.43-4.43c-.86.56-1.89.88-3 .82-2.37-.11-4.4-1.96-4.72-4.31a5.013 5.013 0 0 1 5.83-5.61c1.95.33 3.57 1.85 4 3.78.33 1.46.01 2.82-.7 3.9L20 19.59zM9 13c0 1.66 1.34 3 3 3s3-1.34 3-3-1.34-3-3-3-3 1.34-3 3z\"></path></svg>Advanced Search</span>,\n",
       " <span class=\"ipc-list-item__icon ipc-list-item__icon--post\" role=\"presentation\"><svg class=\"ipc-icon ipc-icon--chevron-right\" fill=\"currentColor\" height=\"24\" role=\"presentation\" viewbox=\"0 0 24 24\" width=\"24\" xmlns=\"http://www.w3.org/2000/svg\"><path d=\"M0 0h24v24H0V0z\" fill=\"none\"></path><path d=\"M9.29 6.71a.996.996 0 0 0 0 1.41L13.17 12l-3.88 3.88a.996.996 0 1 0 1.41 1.41l4.59-4.59a.996.996 0 0 0 0-1.41L10.7 6.7c-.38-.38-1.02-.38-1.41.01z\"></path></svg></span>,\n",
       " <span class=\"ghost\">|</span>,\n",
       " <span class=\"ghost\">|</span>,\n",
       " <span class=\"ghost\">|</span>,\n",
       " <span class=\"ghost\">|</span>,\n",
       " <span class=\"show_more quicklink\">\n",
       "             MORE<span class=\"titleOverviewSprite quicklinksArrowUp\"></span>\n",
       " </span>,\n",
       " <span class=\"titleOverviewSprite quicklinksArrowUp\"></span>,\n",
       " <span class=\"show_less quicklink\" style=\"display:none\">\n",
       "            LESS<span class=\"titleOverviewSprite quicklinksArrowDown\"></span>\n",
       " </span>,\n",
       " <span class=\"titleOverviewSprite quicklinksArrowDown\"></span>,\n",
       " <span id=\"title-social-sharing-widget\"></span>,\n",
       " <span class=\"btn2_wrapper\"><a class=\"btn2 large btn2_text_on disabled checkins_action_btn\" onclick=\"\"><span class=\"btn2_glyph\">0</span><span class=\"btn2_text\">Check in</span></a></span>,\n",
       " <span class=\"btn2_glyph\">0</span>,\n",
       " <span class=\"btn2_text\">Check in</span>,\n",
       " <span class=\"title\">I'm Watching This!</span>,\n",
       " <span>Check in</span>,\n",
       " <span itemprop=\"ratingValue\">7.9</span>,\n",
       " <span class=\"grey\">/</span>,\n",
       " <span class=\"grey\" itemprop=\"bestRating\">10</span>,\n",
       " <span class=\"small\" itemprop=\"ratingCount\">539,717</span>,\n",
       " <span itemprop=\"reviewCount\">2,413 user</span>,\n",
       " <span itemprop=\"reviewCount\">625 critic</span>,\n",
       " <span class=\"star-rating-star no-rating\"></span>,\n",
       " <span class=\"star-rating-text\">Rate This</span>,\n",
       " <span id=\"titleYear\">(<a href=\"/year/2017/\">2017</a>)</span>,\n",
       " <span class=\"ghost\">|</span>,\n",
       " <span class=\"ghost\">|</span>,\n",
       " <span class=\"ghost\">|</span>,\n",
       " <span class=\"ghost\">|</span>,\n",
       " <span class=\"ghost\">|</span>,\n",
       " <span class=\"ghost\">|</span>,\n",
       " <span>94</span>,\n",
       " <span class=\"subText\"> \n",
       "                From <a href=\"http://www.metacritic.com\" target=\"_blank\">metacritic.com</a>\n",
       " </span>,\n",
       " <span class=\"subText\">\n",
       " <a href=\"reviews\">2,413 user</a>\n",
       " <span class=\"ghostText\">|</span>\n",
       " <a href=\"externalreviews\">625 critic</a>\n",
       " </span>,\n",
       " <span class=\"ghostText\">|</span>,\n",
       " <span class=\"subText\">\n",
       "                     289\n",
       "       (<span class=\"titleOverviewSprite popularityImageDown\"></span> <span class=\"popularityDown\">30</span>)\n",
       "                 </span>,\n",
       " <span class=\"titleOverviewSprite popularityImageDown\"></span>,\n",
       " <span class=\"popularityDown\">30</span>,\n",
       " <span class=\"pro_title_link_text\">\n",
       " View production, box office, &amp; company info\n",
       " </span>,\n",
       " <span class=\"ab_widget\">\n",
       " <div class=\"ab_ninja\">\n",
       " <span class=\"widget_header\"> <span class=\"oneline\"> <a href=\"/gallery/rg1248434944/mediaviewer/rm1171107840\"> <h3> Halloween Movies for the Whole Family</h3> </a> </span> </span> <div class=\"widget_content no_inline_blurb\"> <div class=\"widget_nested\"> <div class=\"ninja_image_pack\"> <div class=\"ninja_center\"> <div class=\"ninja_image first_image last_image\" style=\"width:307px;height:auto;\"> <div style=\"width:307px;height:auto;margin:0 auto;\"> <div class=\"widget_image\"> <div class=\"image\"> <a href=\"/gallery/rg1248434944/mediaviewer/rm1171107840\"> <img alt=\"Production art\" class=\"pri_image\" src=\"https://m.media-amazon.com/images/M/MV5BZmNmOWIwNDUtZTVjNy00MDc4LWFlYTAtYzk4M2Y3Yjc2ZTg4XkEyXkFqcGdeQXVyMDM2NDM2MQ@@._V1_SY230_SX307_AL_.jpg\" title=\"Production art\"/> </a> </div> </div> </div> </div> </div> </div> </div> </div> <p class=\"blurb\">From <i><a href=\"/title/tt0327597/\">Coraline</a></i> to <i><a href=\"/title/tt1623288/\">ParaNorman</a></i> check out some of our favorite family-friendly movie picks to watch this Halloween.</p> <p class=\"seemore\"><a class=\"position_bottom supplemental\" href=\"/gallery/rg1248434944/mediaviewer/rm1171107840\"> See the full gallery</a></p> </div>\n",
       " </span>,\n",
       " <span class=\"widget_header\"> <span class=\"oneline\"> <a href=\"/gallery/rg1248434944/mediaviewer/rm1171107840\"> <h3> Halloween Movies for the Whole Family</h3> </a> </span> </span>,\n",
       " <span class=\"oneline\"> <a href=\"/gallery/rg1248434944/mediaviewer/rm1171107840\"> <h3> Halloween Movies for the Whole Family</h3> </a> </span>,\n",
       " <span>28 October 2020</span>,\n",
       " <span>|</span>,\n",
       " <span>We Got This Covered</span>,\n",
       " <span>26 October 2020</span>,\n",
       " <span>|</span>,\n",
       " <span>ScreenDaily</span>,\n",
       " <span>19 October 2020</span>,\n",
       " <span>|</span>,\n",
       " <span>Variety</span>,\n",
       " <span class=\"ab_widget\">\n",
       " <div class=\"ab_zergnet\">\n",
       " <span class=\"widget_header\"> <span class=\"oneline\"> <h3> Around The Web</h3> <span> | </span> <h4> <a href=\"https://zergnet.com/privacy-widget\" rel=\"noreferrer noopener\" target=\"_blank\">Powered by ZergNet</a></h4> </span> </span> <div class=\"widget_content no_inline_blurb\"> <div class=\"widget_nested\"> <iframe class=\"zergnet-frame__sidebar\" scrolling=\"no\" seamless=\"\" src=\"https://m.media-amazon.com/images/G/01/imdb/html/zergnet-52541664._CB428294580_.html?widgetId=47009&amp;cookiesAllowed=true\"> </iframe> </div> </div> </div>\n",
       " </span>,\n",
       " <span class=\"widget_header\"> <span class=\"oneline\"> <h3> Around The Web</h3> <span> | </span> <h4> <a href=\"https://zergnet.com/privacy-widget\" rel=\"noreferrer noopener\" target=\"_blank\">Powered by ZergNet</a></h4> </span> </span>,\n",
       " <span class=\"oneline\"> <h3> Around The Web</h3> <span> | </span> <h4> <a href=\"https://zergnet.com/privacy-widget\" rel=\"noreferrer noopener\" target=\"_blank\">Powered by ZergNet</a></h4> </span>,\n",
       " <span> | </span>,\n",
       " <span class=\"imdbRatingPlugin imdbRatingStyle1\" data-style=\"t1\" data-title=\"tt5013056\" data-user=\"\">\n",
       " <a href=\"/title/tt5013056/\"> <img alt=\"Dunkirk (2017) on IMDb\" src=\"https://m.media-amazon.com/images/G/01/imdb/images/plugins/imdb_46x22-2264473254._CB468224391_.png\"/>\n",
       " </a> <span class=\"rating\">7.9<span class=\"ofTen\">/10</span></span>\n",
       " <img class=\"star\" src=\"https://m.media-amazon.com/images/G/01/imdb/images/plugins/imdb_star_22x21-2889147855._CB466680980_.png\"/>\n",
       " </span>,\n",
       " <span class=\"rating\">7.9<span class=\"ofTen\">/10</span></span>,\n",
       " <span class=\"ofTen\">/10</span>,\n",
       " <span class=\"titlePageSprite arrows show\"></span>,\n",
       " <span class=\"awards-blurb\">\n",
       " <b>\n",
       "             Won\n",
       "             3\n",
       "             Oscars.\n",
       "         </b>\n",
       " </span>,\n",
       " <span class=\"awards-blurb\">\n",
       "             Another\n",
       "         64 wins &amp; 230 nominations.\n",
       "     </span>,\n",
       " <span class=\"see-more inline\">\n",
       " <a class=\"btn-full\" href=\"/title/tt5013056/awards\">See more awards</a> »            </span>,\n",
       " <span class=\"video_slate\">\n",
       " <a class=\"video-modal\" data-context=\"imdb\" data-rid=\"DHQ42HV1GSFN9KMNVAJE\" data-video=\"vi3402283289\" href=\"/title/tt5013056/videoplayer/vi3402283289\" widget-context=\"titleMainDetails\"><img alt=\"\" class=\"loadlate hidden video\" height=\"\" loadlate=\"https://m.media-amazon.com/images/M/MV5BN2VhMGY3YWQtMGYwZC00ZmM5LTg2MzgtZGRlNWQ2MGE2MTNiXkEyXkFqcGdeQXVyMjM4OTI2MTU@._V1_SP330,330,0,C,0,0,0_CR65,90,200,150_PIimdb-blackband-204-14,TopLeft,0,0_PIimdb-blackband-204-28,BottomLeft,0,1_CR0,0,200,150_PIimdb-bluebutton-big,BottomRight,-1,-1_ZATrailer,4,123,16,196,verdenab,8,255,255,255,1_ZAon%2520IMDb,4,1,14,196,verdenab,7,255,255,255,1_ZA00%253A31,164,1,14,36,verdenab,7,255,255,255,1_PIimdb-HDIconMiniWhite,BottomLeft,4,-2_ZADunkirk,24,138,14,176,arialbd,7,255,255,255,1_.jpg\" src=\"https://m.media-amazon.com/images/G/01/imdb/images/nopicture/small/no-video-slate-856072904._CB468410586_.png\" title=\"\" viconst=\"vi3402283289\" width=\"\"/></a> </span>,\n",
       " <span class=\"video_slate\">\n",
       " <a class=\"video-modal\" data-context=\"imdb\" data-rid=\"DHQ42HV1GSFN9KMNVAJE\" data-video=\"vi3603609881\" href=\"/title/tt5013056/videoplayer/vi3603609881\" widget-context=\"titleMainDetails\"><img alt=\"\" class=\"loadlate hidden video\" height=\"\" loadlate=\"https://m.media-amazon.com/images/M/MV5BOTI3MjU1NGMtZWFmZi00ODRhLWE2YjEtZjM3MTRhMThiYjFhXkEyXkFqcGdeQXVyMjM4OTI2MTU@._V1_SP330,330,0,C,0,0,0_CR65,90,200,150_PIimdb-blackband-204-14,TopLeft,0,0_PIimdb-blackband-204-28,BottomLeft,0,1_CR0,0,200,150_PIimdb-bluebutton-big,BottomRight,-1,-1_ZATrailer,4,123,16,196,verdenab,8,255,255,255,1_ZAon%2520IMDb,4,1,14,196,verdenab,7,255,255,255,1_ZA00%253A31,164,1,14,36,verdenab,7,255,255,255,1_PIimdb-HDIconMiniWhite,BottomLeft,4,-2_ZADunkirk,24,138,14,176,arialbd,7,255,255,255,1_.jpg\" src=\"https://m.media-amazon.com/images/G/01/imdb/images/nopicture/small/no-video-slate-856072904._CB468410586_.png\" title=\"\" viconst=\"vi3603609881\" width=\"\"/></a> </span>,\n",
       " <span class=\"video_slate_last\">\n",
       " <a class=\"video-modal\" data-context=\"imdb\" data-rid=\"DHQ42HV1GSFN9KMNVAJE\" data-video=\"vi3012802841\" href=\"/title/tt5013056/videoplayer/vi3012802841\" widget-context=\"titleMainDetails\"><img alt=\"\" class=\"loadlate hidden video\" height=\"\" loadlate=\"https://m.media-amazon.com/images/M/MV5BNjUwMjg0NTY5MV5BMl5BanBnXkFtZTgwODcyOTIyMjI@._V1_SP330,330,0,C,0,0,0_CR65,90,200,150_PIimdb-blackband-204-14,TopLeft,0,0_PIimdb-blackband-204-28,BottomLeft,0,1_CR0,0,200,150_PIimdb-bluebutton-big,BottomRight,-1,-1_ZATrailer,4,123,16,196,verdenab,8,255,255,255,1_ZAon%2520IMDb,4,1,14,196,verdenab,7,255,255,255,1_ZA02%253A27,164,1,14,36,verdenab,7,255,255,255,1_PIimdb-HDIconMiniWhite,BottomLeft,4,-2_ZADunkirk,24,138,14,176,arialbd,7,255,255,255,1_.jpg\" src=\"https://m.media-amazon.com/images/G/01/imdb/images/nopicture/small/no-video-slate-856072904._CB468410586_.png\" title=\"\" viconst=\"vi3012802841\" width=\"\"/></a> </span>,\n",
       " <span class=\"titlePageSprite showAllVidsAndPics\"></span>,\n",
       " <span class=\"rightcornerlink\">\n",
       " <a href=\"/register/login?why=edit\" rel=\"login\">Edit</a>\n",
       " </span>,\n",
       " <span class=\"pro_title_link_text\">\n",
       " View production, box office, &amp; company info\n",
       " </span>,\n",
       " <span class=\"ab_widget\">\n",
       " <div class=\"ab_ninja\">\n",
       " <span class=\"widget_header\"> <span class=\"oneline\"> <a href=\"/list/ls025720609/videoplayer/vi2351545881/\"> <h3> Director's Trademarks: The Films of Christopher Nolan</h3> </a> </span> </span> <div class=\"widget_content no_inline_blurb\"> <div class=\"widget_nested\"> <div class=\"ninja_image_pack\"> <div class=\"ninja_center\"> <div class=\"ninja_image first_image last_image\" style=\"width:624px;height:auto;\"> <div style=\"width:624px;height:auto;margin:0 auto;\"> <div class=\"widget_image\"> <div class=\"image\"> <a class=\"video-modal\" data-ref=\"tt_ecw_cn_dt_i_1\" data-refsuffix=\"tt_ecw_cn_dt\" href=\"/list/ls025720609/videoplayer/vi2351545881\"> <img alt=\"Director's Trademarks (2017-)\" class=\"pri_image\" src=\"https://m.media-amazon.com/images/M/MV5BMTU2NjIzMTk2NV5BMl5BanBnXkFtZTgwMTY1OTA5NTM@._V1_SY351_SX624_AL_.jpg\" title=\"Director's Trademarks (2017-)\"/> <img alt=\"Director's Trademarks (2017-)\" class=\"image_overlay overlay_mouseout\" data-src-x2=\"https://m.media-amazon.com/images/G/01/IMDb/icon/play-button._CB485946531_.png\" src=\"https://m.media-amazon.com/images/G/01/IMDb/icon/play-button._CB485946531_.png\" title=\"Director's Trademarks (2017-)\"/> <img alt=\"Director's Trademarks (2017-)\" class=\"image_overlay overlay_mouseover\" data-src-x2=\"https://m.media-amazon.com/images/G/01/IMDb/icon/play-button-hover._CB485934747_.png\" src=\"https://m.media-amazon.com/images/G/01/IMDb/icon/play-button-hover._CB485934747_.png\" title=\"Director's Trademarks (2017-)\"/> </a> </div> </div> </div> </div> </div> </div> </div> </div> <p class=\"blurb\">IMDb dives into the distinct trademarks of <a href=\"/name/nm0634240\">Christopher Nolan</a>'s directorial style to illustrate what <i><a href=\"/title/tt0468569\">The Dark Knight</a></i>, <i><a href=\"/title/tt1375666\">Inception</a></i>, and <i><a href=\"/title/tt0209144\">Memento</a></i> have in common.</p> <p class=\"seemore\"><a class=\"position_bottom supplemental\" href=\"/list/ls025720609/videoplayer/vi2351545881/\"> Watch the video</a></p> </div>\n",
       " </span>,\n",
       " <span class=\"widget_header\"> <span class=\"oneline\"> <a href=\"/list/ls025720609/videoplayer/vi2351545881/\"> <h3> Director's Trademarks: The Films of Christopher Nolan</h3> </a> </span> </span>,\n",
       " <span class=\"oneline\"> <a href=\"/list/ls025720609/videoplayer/vi2351545881/\"> <h3> Director's Trademarks: The Films of Christopher Nolan</h3> </a> </span>,\n",
       " <span class=\"rightcornerlink\">\n",
       " <a href=\"/register/login?why=edit\" rel=\"login\">Edit</a>\n",
       " </span>,\n",
       " <span>    Evacuation of Allied soldiers from the British Empire, and France, who were cut off and surrounded by the German Army from the beaches and harbor of Dunkirk, France, between May 26- June 04, 1940, during Battle of France in World War II.</span>,\n",
       " <span class=\"see-more inline\">\n",
       " <a href=\"/title/tt5013056/plotsummary\">Plot Summary</a>\n",
       " <span>|</span>\n",
       " <a href=\"/title/tt5013056/synopsis\">Plot Synopsis</a>\n",
       " </span>,\n",
       " <span>|</span>,\n",
       " <span class=\"itemprop\">1940s</span>,\n",
       " <span>|</span>,\n",
       " <span class=\"itemprop\">world war two</span>,\n",
       " <span>|</span>,\n",
       " <span class=\"itemprop\">soldier</span>,\n",
       " <span>|</span>,\n",
       " <span class=\"itemprop\">world war two in france</span>,\n",
       " <span>|</span>,\n",
       " <span class=\"itemprop\">beach</span>,\n",
       " <span>|</span>,\n",
       " <span class=\"see-more inline\">\n",
       " <a href=\"/title/tt5013056/taglines\"> See more</a> »\n",
       "                 </span>,\n",
       " <span>|</span>,\n",
       " <span>|</span>,\n",
       " <span>|</span>,\n",
       " <span>|</span>,\n",
       " <span>14</span>,\n",
       " <span class=\"ghost\">|</span>,\n",
       " <span class=\"see-more inline\">\n",
       " <a href=\"/title/tt5013056/parentalguide#certification\"> See all certifications</a> »\n",
       "             </span>,\n",
       " <span class=\"see-more inline\">\n",
       " <a href=\"/title/tt5013056/parentalguide\"> View content advisory</a> »\n",
       "         </span>,\n",
       " <span class=\"rightcornerlink\">\n",
       " <a href=\"/register/login?why=edit\" rel=\"login\">Edit</a>\n",
       " </span>,\n",
       " <span class=\"fine\">first lines</span>,\n",
       " <span class=\"character\">Tommy</span>,\n",
       " <span class=\"fine\">to French soldiers</span>,\n",
       " <span>\n",
       " <strong>Drama War</strong>\n",
       " <div class=\"comment-meta\">\n",
       "                         22 February 2020 | by <a href=\"/user/ur87850731/\"><span>MR_Heraclius</span></a>\n",
       "                         – <a href=\"/user/ur87850731/comments\">See all my reviews</a>\n",
       " </div>\n",
       " <div>\n",
       " <p>This film shows that Christopher Nolan does not only depend on crazy action or crazy plot twist. He shows 3 separate stories that come together and tells us a good story.</p>\n",
       " </div>\n",
       " </span>,\n",
       " <span>MR_Heraclius</span>,\n",
       " <span>|</span>,\n",
       " <span class=\"see-more inline\">\n",
       " <a class=\"nobr\" href=\"/title/tt5013056/faq\">See more</a>\n",
       " </span>,\n",
       " <span class=\"rightcornerlink\">\n",
       " <a href=\"/register/login?why=edit\" rel=\"login\">Edit</a>\n",
       " </span>,\n",
       " <span class=\"ghost\">|</span>,\n",
       " <span class=\"ghost\">|</span>,\n",
       " <span class=\"see-more inline\">\n",
       " <a href=\"externalsites#official\">See more</a> »\n",
       "       </span>,\n",
       " <span class=\"ghost\">|</span>,\n",
       " <span class=\"ghost\">|</span>,\n",
       " <span class=\"ghost\">|</span>,\n",
       " <span class=\"ghost\">|</span>,\n",
       " <span class=\"ghost\">|</span>,\n",
       " <span class=\"see-more inline\">\n",
       " <a href=\"releaseinfo\">See more</a> »\n",
       "     </span>,\n",
       " <span class=\"see-more inline\">\n",
       " <a href=\"releaseinfo#akas\">See more</a> »\n",
       "       </span>,\n",
       " <span class=\"see-more inline\">\n",
       " <a href=\"locations\">See more</a> »\n",
       "       </span>,\n",
       " <span class=\"rightcornerlink\">\n",
       " <a href=\"/register/login?why=edit\" rel=\"login\">Edit</a>\n",
       " </span>,\n",
       " <span class=\"attribute\">(estimated)</span>,\n",
       " <span class=\"attribute\">23 July 2017</span>,\n",
       " <span class=\"see-more inline\">\n",
       " <a href=\"https://pro.imdb.com/title/tt5013056?rf=cons_tt_bo_tt\">See more on IMDbPro</a> »\n",
       "     </span>,\n",
       " <span class=\"see-more inline\">\n",
       " <a href=\"companycredits\">See more</a> »\n",
       "       </span>,\n",
       " <span class=\"ghost\">|</span>,\n",
       " <span class=\"ghost\">|</span>,\n",
       " <span>|</span>,\n",
       " <span class=\"ab_widget\">\n",
       " <div class=\"ab_ninja\">\n",
       " <span class=\"widget_header\"> <span class=\"oneline\"> <a href=\"/what-to-watch/\"> <h3> We've Got Your Streaming Picks Covered</h3> </a> </span> </span> <p class=\"blurb\">Looking for some great streaming picks? Check out some of the IMDb editors' favorites movies and shows to round out your Watchlist.</p> <div class=\"widget_content no_inline_blurb\"> <div class=\"widget_nested\"> <div class=\"ninja_image_pack\"> <div class=\"ninja_left\"> <div class=\"ninja_image first_image\" style=\"width:201px;height:auto;\"> <div style=\"width:201px;height:auto;margin:0 auto;\"> <div class=\"widget_image\"> <div class=\"image\"> <a href=\"/list/ls081984100/mediaviewer/rm3663045377\"> <img class=\"pri_image\" src=\"https://m.media-amazon.com/images/M/MV5BMjQ1NTM1NTc0M15BMl5BanBnXkFtZTgwMDU0ODU5NTM@._CR273,153,432,640._SY298_SX201_AL_.jpg\"/> </a> </div> <div class=\"widget_caption caption_below\"> <div class=\"primary\"> <a href=\"/list/ls081984100/mediaviewer/rm3663045377\"> The Best Shows Coming to TV in 2020 </a> </div> </div> </div> </div> </div><div class=\"ninja_image ninja_image_fixed_padding widget_padding\"></div><div class=\"ninja_image\" style=\"width:201px;height:auto;\"> <div style=\"width:201px;height:auto;margin:0 auto;\"> <div class=\"widget_image\"> <div class=\"image\"> <a href=\"/list/ls083613909/mediaviewer/rm3654648833\"> <img class=\"pri_image\" src=\"https://m.media-amazon.com/images/M/MV5BOTUwNjcwZGUtMDExMC00NDk5LWFhZDAtOGFjNWZmODQ4NmU5XkEyXkFqcGdeQXVyMjc1NTI5NQ@@._CR555,24,827,1226._SY298_SX201_AL_.jpg\"/> </a> </div> <div class=\"widget_caption caption_below\"> <div class=\"primary\"> <a href=\"/list/ls083613909/mediaviewer/rm3654648833\"> October Streaming Picks </a> </div> </div> </div> </div> </div><div class=\"ninja_image ninja_image_fixed_padding widget_padding\"></div><div class=\"ninja_image last_image\" style=\"width:201px;height:auto;\"> <div style=\"width:201px;height:auto;margin:0 auto;\"> <div class=\"widget_image\"> <div class=\"image\"> <a href=\"/list/ls083134380/mediaviewer/rm300578304\"> <img class=\"pri_image\" src=\"https://m.media-amazon.com/images/M/MV5BMTgxODE5MDgyOV5BMl5BanBnXkFtZTgwMzkyODI4NjM@._CR788,164,463,686._SY298_SX201_AL_.jpg\"/> </a> </div> <div class=\"widget_caption caption_below\"> <div class=\"primary\"> <a href=\"/list/ls083134380/mediaviewer/rm300578304\"> Back to School Picks </a> </div> </div> </div> </div> </div> </div> </div> </div> </div> <p class=\"seemore\"><a class=\"position_bottom supplemental\" href=\"/what-to-watch/\"> Visit our What to Watch page</a></p> </div>\n",
       " </span>,\n",
       " <span class=\"widget_header\"> <span class=\"oneline\"> <a href=\"/what-to-watch/\"> <h3> We've Got Your Streaming Picks Covered</h3> </a> </span> </span>,\n",
       " <span class=\"oneline\"> <a href=\"/what-to-watch/\"> <h3> We've Got Your Streaming Picks Covered</h3> </a> </span>]"
      ]
     },
     "execution_count": 39,
     "metadata": {},
     "output_type": "execute_result"
    }
   ],
   "source": [
    "nota = soup.find_all(\"span\")\n",
    "nota"
   ]
  },
  {
   "cell_type": "markdown",
   "metadata": {},
   "source": [
    "Uma lista em python contém um ou mais elementos. Podemos nos referir a cada elemento através de sua posição na lista (sempre começando pelo elemento 0 (zero)).\n",
    "\n",
    "Assim, o elemento de número trinta e quatro se refere a nota do filme Dinkirk. "
   ]
  },
  {
   "cell_type": "code",
   "execution_count": 67,
   "metadata": {},
   "outputs": [
    {
     "data": {
      "text/plain": [
       "<span itemprop=\"ratingValue\">7.9</span>"
      ]
     },
     "execution_count": 67,
     "metadata": {},
     "output_type": "execute_result"
    }
   ],
   "source": [
    "nota[94]"
   ]
  },
  {
   "cell_type": "code",
   "execution_count": 68,
   "metadata": {},
   "outputs": [
    {
     "data": {
      "text/plain": [
       "'7.9'"
      ]
     },
     "execution_count": 68,
     "metadata": {},
     "output_type": "execute_result"
    }
   ],
   "source": [
    "nota[94].text"
   ]
  },
  {
   "cell_type": "markdown",
   "metadata": {},
   "source": [
    "Podemos refinar a nossa pesquisa para encontrar de forma mais eficiente a nota dada ao filme. Ao invés de procurar todos os tags [&lt;span>](), vamos encontrar todos os tags [&lt;div>]() que possuas a classe [ratingValue]()."
   ]
  },
  {
   "cell_type": "code",
   "execution_count": 69,
   "metadata": {},
   "outputs": [
    {
     "name": "stdout",
     "output_type": "stream",
     "text": [
      "[<div class=\"ratingValue\">\n",
      "<strong title=\"7.9 based on 539,717 user ratings\"><span itemprop=\"ratingValue\">7.9</span></strong><span class=\"grey\">/</span><span class=\"grey\" itemprop=\"bestRating\">10</span> </div>]\n"
     ]
    }
   ],
   "source": [
    "rate = soup.find_all(\"div\", \"ratingValue\")\n",
    "print(rate)"
   ]
  },
  {
   "cell_type": "code",
   "execution_count": 73,
   "metadata": {},
   "outputs": [
    {
     "name": "stdout",
     "output_type": "stream",
     "text": [
      "[<div class=\"ratingValue\">\n",
      "<strong title=\"7.9 based on 539,717 user ratings\"><span itemprop=\"ratingValue\">7.9</span></strong><span class=\"grey\">/</span><span class=\"grey\" itemprop=\"bestRating\">10</span> </div>]\n"
     ]
    }
   ],
   "source": [
    "rate1 = soup.find_all(\"div\",attrs={'class':'ratingValue'})\n",
    "print(rate1)"
   ]
  },
  {
   "cell_type": "code",
   "execution_count": 76,
   "metadata": {},
   "outputs": [
    {
     "data": {
      "text/plain": [
       "'7.9'"
      ]
     },
     "execution_count": 76,
     "metadata": {},
     "output_type": "execute_result"
    }
   ],
   "source": [
    "rate1[0].span.text"
   ]
  },
  {
   "cell_type": "code",
   "execution_count": 72,
   "metadata": {},
   "outputs": [
    {
     "data": {
      "text/plain": [
       "[<span itemprop=\"ratingValue\">7.9</span>]"
      ]
     },
     "execution_count": 72,
     "metadata": {},
     "output_type": "execute_result"
    }
   ],
   "source": [
    "soup.find_all(\"span\",attrs={'itemprop':'ratingValue'})"
   ]
  },
  {
   "cell_type": "code",
   "execution_count": 2,
   "metadata": {},
   "outputs": [
    {
     "ename": "NameError",
     "evalue": "name 'rate1' is not defined",
     "output_type": "error",
     "traceback": [
      "\u001b[0;31m---------------------------------------------------------------------------\u001b[0m",
      "\u001b[0;31mNameError\u001b[0m                                 Traceback (most recent call last)",
      "\u001b[0;32m<ipython-input-2-aa0b9af7bcca>\u001b[0m in \u001b[0;36m<module>\u001b[0;34m\u001b[0m\n\u001b[0;32m----> 1\u001b[0;31m \u001b[0mprint\u001b[0m\u001b[0;34m(\u001b[0m\u001b[0mrate1\u001b[0m\u001b[0;34m[\u001b[0m\u001b[0;36m0\u001b[0m\u001b[0;34m]\u001b[0m\u001b[0;34m.\u001b[0m\u001b[0mspan\u001b[0m\u001b[0;34m.\u001b[0m\u001b[0mtext\u001b[0m\u001b[0;34m)\u001b[0m\u001b[0;34m\u001b[0m\u001b[0;34m\u001b[0m\u001b[0m\n\u001b[0m",
      "\u001b[0;31mNameError\u001b[0m: name 'rate1' is not defined"
     ]
    }
   ],
   "source": [
    "print(rate1[0].span.text)"
   ]
  },
  {
   "cell_type": "code",
   "execution_count": 12,
   "metadata": {},
   "outputs": [
    {
     "data": {
      "text/plain": [
       "'http://www.imdb.com/title/tt5013056/'"
      ]
     },
     "execution_count": 12,
     "metadata": {},
     "output_type": "execute_result"
    }
   ],
   "source": [
    "url"
   ]
  },
  {
   "cell_type": "code",
   "execution_count": 15,
   "metadata": {},
   "outputs": [
    {
     "data": {
      "text/plain": [
       "'540,752'"
      ]
     },
     "execution_count": 15,
     "metadata": {},
     "output_type": "execute_result"
    }
   ],
   "source": [
    "soup.find_all(\"div\", \"imdbRating\")[0].a.text"
   ]
  },
  {
   "cell_type": "code",
   "execution_count": null,
   "metadata": {},
   "outputs": [],
   "source": []
  },
  {
   "cell_type": "code",
   "execution_count": null,
   "metadata": {},
   "outputs": [],
   "source": []
  },
  {
   "cell_type": "code",
   "execution_count": null,
   "metadata": {},
   "outputs": [],
   "source": []
  },
  {
   "cell_type": "code",
   "execution_count": 77,
   "metadata": {},
   "outputs": [
    {
     "name": "stdout",
     "output_type": "stream",
     "text": [
      "[<div class=\"subnav\" id=\"quicklinksBar\">\n",
      "<div id=\"quicklinksMainSection\">\n",
      "<a class=\"quicklink\" href=\"/title/tt5013056/fullcredits\">FULL CAST AND CREW</a> <span class=\"ghost\">|</span>\n",
      "<a class=\"quicklink\" href=\"/title/tt5013056/trivia\">TRIVIA</a> <span class=\"ghost\">|</span>\n",
      "<a class=\"quicklink\" href=\"/title/tt5013056/reviews\">USER REVIEWS</a> <span class=\"ghost\">|</span>\n",
      "<a class=\"quicklink\" href=\"https://pro.imdb.com/title/tt5013056?rf=cons_tt_contact\">IMDbPro</a>\n",
      "<span class=\"ghost\">|</span>\n",
      "<span class=\"show_more quicklink\">\n",
      "            MORE<span class=\"titleOverviewSprite quicklinksArrowUp\"></span>\n",
      "</span>\n",
      "<span class=\"show_less quicklink\" style=\"display:none\">\n",
      "           LESS<span class=\"titleOverviewSprite quicklinksArrowDown\"></span>\n",
      "</span>\n",
      "</div>\n",
      "<span id=\"title-social-sharing-widget\"></span>\n",
      "<div id=\"share-checkin\">\n",
      "<div class=\"add_to_checkins\" data-const=\"tt5013056\" data-lcn=\"title-maindetails\">\n",
      "<span class=\"btn2_wrapper\"><a class=\"btn2 large btn2_text_on disabled checkins_action_btn\" onclick=\"\"><span class=\"btn2_glyph\">0</span><span class=\"btn2_text\">Check in</span></a></span> <div class=\"popup checkin-dialog\">\n",
      "<a class=\"dialog-close-button\">X</a>\n",
      "<span class=\"title\">I'm Watching This!</span>\n",
      "<div class=\"body\">\n",
      "<div class=\"info\">Keep track of everything you watch; tell your friends.\n",
      "            </div>\n",
      "<div class=\"small message_box\">\n",
      "<div class=\"hidden error\"><h2><div class=\"checkin-error\">Error</div></h2> Please try again!</div>\n",
      "<div class=\"hidden success\"><h2><div class=\"checkin-success\">Added to Your Check-Ins.</div></h2> <a href=\"/list/checkins\">View</a></div>\n",
      "</div>\n",
      "<textarea data-msg=\"Enter a comment...\"></textarea>\n",
      "<div class=\"share\">\n",
      "<button class=\"checkin-button\"><span>Check in</span></button>\n",
      "<!--\n",
      "                    Check-ins are more fun when<br>\n",
      "                    you <a href=\"/register/sharing\">enable Facebook sharing</a>!\n",
      "-->\n",
      "</div>\n",
      "</div>\n",
      "</div>\n",
      "<input name=\"49e6c\" type=\"hidden\" value=\"da29\"/>\n",
      "</div>\n",
      "</div>\n",
      "<div class=\"quicklinkSection\" id=\"full_subnav\" style=\"display:none\">\n",
      "<div class=\"quicklinkSectionColumn\">\n",
      "<div class=\"quicklinkGroup\">\n",
      "<div class=\"quicklinkSectionHeader\">DETAILS</div>\n",
      "<div class=\"quicklinkSectionItem\">\n",
      "<a class=\"quicklink\" href=\"/title/tt5013056/fullcredits\">Full Cast and Crew</a> </div>\n",
      "<div class=\"quicklinkSectionItem\">\n",
      "<a class=\"quicklink\" href=\"/title/tt5013056/releaseinfo\">Release Dates</a> </div>\n",
      "<div class=\"quicklinkSectionItem\">\n",
      "<a class=\"quicklink\" href=\"/title/tt5013056/officialsites\">Official Sites</a> </div>\n",
      "<div class=\"quicklinkSectionItem\">\n",
      "<a class=\"quicklink\" href=\"/title/tt5013056/companycredits\">Company Credits</a> </div>\n",
      "<div class=\"quicklinkSectionItem\">\n",
      "<a class=\"quicklink\" href=\"/title/tt5013056/locations\">Filming &amp; Production</a> </div>\n",
      "<div class=\"quicklinkSectionItem\">\n",
      "<a class=\"quicklink\" href=\"/title/tt5013056/technical\">Technical Specs</a> </div>\n",
      "</div>\n",
      "</div>\n",
      "<div class=\"quicklinkSectionColumn\">\n",
      "<div class=\"quicklinkGroup\">\n",
      "<div class=\"quicklinkSectionHeader\">STORYLINE</div>\n",
      "<div class=\"quicklinkSectionItem\">\n",
      "<a class=\"quicklink\" href=\"/title/tt5013056/taglines\">Taglines</a> </div>\n",
      "<div class=\"quicklinkSectionItem\">\n",
      "<a class=\"quicklink\" href=\"/title/tt5013056/plotsummary\">Plot Summary</a> </div>\n",
      "<div class=\"quicklinkSectionItem\">\n",
      "<a class=\"quicklink\" href=\"/title/tt5013056/synopsis\">Synopsis</a> </div>\n",
      "<div class=\"quicklinkSectionItem\">\n",
      "<a class=\"quicklink\" href=\"/title/tt5013056/keywords\">Plot Keywords</a> </div>\n",
      "<div class=\"quicklinkSectionItem\">\n",
      "<a class=\"quicklink\" href=\"/title/tt5013056/parentalguide\">Parents Guide</a> </div>\n",
      "</div>\n",
      "<div class=\"quicklinkGroup\">\n",
      "<div class=\"quicklinkSectionHeader\">RELATED ITEMS</div>\n",
      "<div class=\"quicklinkSectionItem\">\n",
      "<a class=\"quicklink\" href=\"/title/tt5013056/news\">News</a> </div>\n",
      "<div class=\"quicklinkSectionItem\">\n",
      "<a class=\"quicklink\" href=\"/title/tt5013056/externalsites\">External Sites</a> </div>\n",
      "</div>\n",
      "</div>\n",
      "<div class=\"quicklinkSectionColumn\">\n",
      "<div class=\"quicklinkGroup\">\n",
      "<div class=\"quicklinkSectionHeader\">OPINION</div>\n",
      "<div class=\"quicklinkSectionItem\">\n",
      "<a class=\"quicklink\" href=\"/title/tt5013056/awards\">Awards</a> </div>\n",
      "<div class=\"quicklinkSectionItem\">\n",
      "<a class=\"quicklink\" href=\"/title/tt5013056/faq\">FAQ</a> </div>\n",
      "<div class=\"quicklinkSectionItem\">\n",
      "<a class=\"quicklink\" href=\"/title/tt5013056/reviews\">User Reviews</a> </div>\n",
      "<div class=\"quicklinkSectionItem\">\n",
      "<a class=\"quicklink\" href=\"/title/tt5013056/ratings\">User Ratings</a> </div>\n",
      "<div class=\"quicklinkSectionItem\">\n",
      "<a class=\"quicklink\" href=\"/title/tt5013056/externalreviews\">External Reviews</a> </div>\n",
      "<div class=\"quicklinkSectionItem\">\n",
      "<a class=\"quicklink\" href=\"/title/tt5013056/criticreviews\">Metacritic Reviews</a> </div>\n",
      "</div>\n",
      "<div class=\"quicklinkGroup\">\n",
      "<div class=\"quicklinkSectionHeader\">PHOTO &amp; VIDEO</div>\n",
      "<div class=\"quicklinkSectionItem\">\n",
      "<a class=\"quicklink\" href=\"/title/tt5013056/mediaindex\">Photo Gallery</a> </div>\n",
      "<div class=\"quicklinkSectionItem\">\n",
      "<a class=\"quicklink\" href=\"/title/tt5013056/videogallery\">Trailers and Videos</a> </div>\n",
      "</div>\n",
      "</div>\n",
      "<div class=\"quicklinkSectionColumn\">\n",
      "<div class=\"quicklinkGroup\">\n",
      "<div class=\"quicklinkSectionHeader\">DID YOU KNOW?</div>\n",
      "<div class=\"quicklinkSectionItem\">\n",
      "<a class=\"quicklink\" href=\"/title/tt5013056/trivia\">Trivia</a> </div>\n",
      "<div class=\"quicklinkSectionItem\">\n",
      "<a class=\"quicklink\" href=\"/title/tt5013056/goofs\">Goofs</a> </div>\n",
      "<div class=\"quicklinkSectionItem\">\n",
      "<a class=\"quicklink\" href=\"/title/tt5013056/crazycredits\">Crazy Credits</a> </div>\n",
      "<div class=\"quicklinkSectionItem\">\n",
      "<a class=\"quicklink\" href=\"/title/tt5013056/quotes\">Quotes</a> </div>\n",
      "<div class=\"quicklinkSectionItem\">\n",
      "<a class=\"quicklink\" href=\"/title/tt5013056/alternateversions\">Alternate Versions</a> </div>\n",
      "<div class=\"quicklinkSectionItem\">\n",
      "<a class=\"quicklink\" href=\"/title/tt5013056/movieconnections\">Connections</a> </div>\n",
      "<div class=\"quicklinkSectionItem\">\n",
      "<a class=\"quicklink\" href=\"/title/tt5013056/soundtrack\">Soundtracks</a> </div>\n",
      "</div>\n",
      "</div>\n",
      "</div>\n",
      "</div>]\n"
     ]
    }
   ],
   "source": [
    "rate2 = soup.find_all(\"div\",attrs={'id':'quicklinksBar'})\n",
    "print(rate2)"
   ]
  },
  {
   "cell_type": "markdown",
   "metadata": {},
   "source": [
    "Vamos aprender um pouco mais sobre listas:"
   ]
  },
  {
   "cell_type": "code",
   "execution_count": 78,
   "metadata": {},
   "outputs": [],
   "source": [
    "list1 = ['physics', 'chemistry', 1997, 2000];\n",
    "list2 = [1, 2, 3, 4, 5, 6, 7 ];"
   ]
  },
  {
   "cell_type": "code",
   "execution_count": 86,
   "metadata": {},
   "outputs": [
    {
     "name": "stdout",
     "output_type": "stream",
     "text": [
      "list1[0]:  physics\n",
      "Primeiro Elemento:  physics\n"
     ]
    }
   ],
   "source": [
    "print(\"list1[0]: \", list1[0])\n",
    "print(\"Primeiro Elemento: \", list1[0]) # Lembrar a posição 0 do python"
   ]
  },
  {
   "cell_type": "code",
   "execution_count": 87,
   "metadata": {},
   "outputs": [
    {
     "name": "stdout",
     "output_type": "stream",
     "text": [
      "list2[1:5]:  [2, 3, 4, 5]\n"
     ]
    }
   ],
   "source": [
    "print(\"list2[1:5]: \", list2[1:5])"
   ]
  },
  {
   "cell_type": "code",
   "execution_count": 79,
   "metadata": {},
   "outputs": [],
   "source": [
    "list1[1] = 'economia'"
   ]
  },
  {
   "cell_type": "code",
   "execution_count": 80,
   "metadata": {},
   "outputs": [
    {
     "data": {
      "text/plain": [
       "['physics', 'economia', 1997, 2000]"
      ]
     },
     "execution_count": 80,
     "metadata": {},
     "output_type": "execute_result"
    }
   ],
   "source": [
    "list1"
   ]
  },
  {
   "cell_type": "markdown",
   "metadata": {},
   "source": [
    "As listas são mutáveis (ao contrário de uma string) e podemos alterar, apagar e adicionar elementos a elas."
   ]
  },
  {
   "cell_type": "code",
   "execution_count": 81,
   "metadata": {},
   "outputs": [],
   "source": [
    "del list1[2];"
   ]
  },
  {
   "cell_type": "code",
   "execution_count": 82,
   "metadata": {},
   "outputs": [
    {
     "data": {
      "text/plain": [
       "['physics', 'economia', 2000]"
      ]
     },
     "execution_count": 82,
     "metadata": {},
     "output_type": "execute_result"
    }
   ],
   "source": [
    "list1"
   ]
  },
  {
   "cell_type": "markdown",
   "metadata": {},
   "source": [
    "Podemos, também, calcular o tamanho de uma lista utilizando a função [len()](), bem como adinionar duas listas, verificar se existe um elemento específico em uma lista e, ainda, adicionar um novo elemento a uma lista."
   ]
  },
  {
   "cell_type": "code",
   "execution_count": 83,
   "metadata": {},
   "outputs": [
    {
     "data": {
      "text/plain": [
       "7"
      ]
     },
     "execution_count": 83,
     "metadata": {},
     "output_type": "execute_result"
    }
   ],
   "source": [
    "len(list2)"
   ]
  },
  {
   "cell_type": "code",
   "execution_count": 89,
   "metadata": {},
   "outputs": [],
   "source": [
    "li = [[1, 2, 3], [4, 5, 6]]"
   ]
  },
  {
   "cell_type": "code",
   "execution_count": 94,
   "metadata": {},
   "outputs": [
    {
     "data": {
      "text/plain": [
       "2"
      ]
     },
     "execution_count": 94,
     "metadata": {},
     "output_type": "execute_result"
    }
   ],
   "source": [
    "li[0][1]"
   ]
  },
  {
   "cell_type": "code",
   "execution_count": 85,
   "metadata": {},
   "outputs": [
    {
     "data": {
      "text/plain": [
       "False"
      ]
     },
     "execution_count": 85,
     "metadata": {},
     "output_type": "execute_result"
    }
   ],
   "source": [
    "6 in [1, 2, 3]"
   ]
  },
  {
   "cell_type": "code",
   "execution_count": 97,
   "metadata": {},
   "outputs": [
    {
     "name": "stdout",
     "output_type": "stream",
     "text": [
      "['physics', 'economia', 2000, 'gustavo', 'fernanda', 'lucas']\n"
     ]
    }
   ],
   "source": [
    "list1.append('lucas')\n",
    "print(list1)"
   ]
  },
  {
   "cell_type": "markdown",
   "metadata": {},
   "source": [
    "Já que aprendemos sobre listas, podemos aprender o que é um dicionário (ou JSON (JavaScript Object Notation)). Um dicionário é um objeto similar a uma lista mas ele armazena para item através de uma chave. \n",
    "\n",
    "Por exemplo, suponha que queiramos armazenar o nome e a idade dos alunos matriculados neste curso. Podemos criar um dicionário com as chaves *nome* e *idade* para cada um de nós da seguinte maneira"
   ]
  },
  {
   "cell_type": "code",
   "execution_count": 23,
   "metadata": {},
   "outputs": [],
   "source": [
    "professor = {\"nome\": \"Gustavo Sampaio\", \"idade\":27}"
   ]
  },
  {
   "cell_type": "code",
   "execution_count": 24,
   "metadata": {},
   "outputs": [
    {
     "data": {
      "text/plain": [
       "{'nome': 'Gustavo Sampaio', 'idade': 27}"
      ]
     },
     "execution_count": 24,
     "metadata": {},
     "output_type": "execute_result"
    }
   ],
   "source": [
    "professor"
   ]
  },
  {
   "cell_type": "code",
   "execution_count": 104,
   "metadata": {},
   "outputs": [
    {
     "data": {
      "text/plain": [
       "'Gustavo Sampaio'"
      ]
     },
     "execution_count": 104,
     "metadata": {},
     "output_type": "execute_result"
    }
   ],
   "source": [
    "professor[\"nome\"]"
   ]
  },
  {
   "cell_type": "markdown",
   "metadata": {},
   "source": [
    "Observe que um dicionário fica encapsulado através de chaves, enquanto uma lista fica encapsulada através de colchetes. \n",
    "\n",
    "Podemos, também, compinar as duas. Vamos criar uma lista, com as informações dos alunos deste curso."
   ]
  },
  {
   "cell_type": "code",
   "execution_count": 105,
   "metadata": {},
   "outputs": [],
   "source": [
    "pessoas = [{\"nome\":\"Pedro\", \"idade\":\"20\"},{\"nome\":\"Evandro\", \"idade\":\"23\"},{\"nome\":\"Maria\", \"idade\":\"21\"}]"
   ]
  },
  {
   "cell_type": "code",
   "execution_count": 122,
   "metadata": {},
   "outputs": [
    {
     "data": {
      "text/plain": [
       "[{'nome': 'Pedro', 'idade': '20'},\n",
       " {'nome': 'Evandro', 'idade': '23'},\n",
       " {'nome': 'Maria', 'idade': '21'}]"
      ]
     },
     "execution_count": 122,
     "metadata": {},
     "output_type": "execute_result"
    }
   ],
   "source": [
    "pessoas"
   ]
  },
  {
   "cell_type": "code",
   "execution_count": 123,
   "metadata": {},
   "outputs": [
    {
     "data": {
      "text/plain": [
       "'Evandro'"
      ]
     },
     "execution_count": 123,
     "metadata": {},
     "output_type": "execute_result"
    }
   ],
   "source": [
    "pessoas[1][\"nome\"]"
   ]
  },
  {
   "cell_type": "markdown",
   "metadata": {},
   "source": [
    "Podemos preencher o dicionário com novas chaves de entrada"
   ]
  },
  {
   "cell_type": "code",
   "execution_count": 112,
   "metadata": {},
   "outputs": [],
   "source": [
    "dicionario = {}"
   ]
  },
  {
   "cell_type": "code",
   "execution_count": 113,
   "metadata": {},
   "outputs": [],
   "source": [
    "dicionario[\"filme\"] = \"Piratas do Caribe\""
   ]
  },
  {
   "cell_type": "code",
   "execution_count": 114,
   "metadata": {},
   "outputs": [],
   "source": [
    "dicionario[\"legenda\"] = \"pt\""
   ]
  },
  {
   "cell_type": "code",
   "execution_count": 115,
   "metadata": {},
   "outputs": [],
   "source": [
    "dicionario[\"idioma\"] = \"Inglês\""
   ]
  },
  {
   "cell_type": "code",
   "execution_count": 116,
   "metadata": {},
   "outputs": [
    {
     "data": {
      "text/plain": [
       "{'filme': 'Piratas do Caribe', 'legenda': 'pt', 'idioma': 'Inglês'}"
      ]
     },
     "execution_count": 116,
     "metadata": {},
     "output_type": "execute_result"
    }
   ],
   "source": [
    "dicionario"
   ]
  },
  {
   "cell_type": "code",
   "execution_count": 117,
   "metadata": {},
   "outputs": [
    {
     "data": {
      "text/plain": [
       "'Inglês'"
      ]
     },
     "execution_count": 117,
     "metadata": {},
     "output_type": "execute_result"
    }
   ],
   "source": [
    "dicionario[\"idioma\"]"
   ]
  },
  {
   "cell_type": "markdown",
   "metadata": {},
   "source": [
    "### Loop em Python\n",
    "\n",
    "existem basicamente dois tipos de loops em python: [for loops](https://www.tutorialspoint.com/python/python_loops.htm) e [while loops](https://www.tutorialspoint.com/python/python_loops.htm)"
   ]
  },
  {
   "cell_type": "code",
   "execution_count": 26,
   "metadata": {},
   "outputs": [],
   "source": [
    "for i in range(0,10):\n",
    "    print(i)"
   ]
  },
  {
   "cell_type": "code",
   "execution_count": 17,
   "metadata": {},
   "outputs": [],
   "source": [
    "url = ['http://www.imdb.com/title/tt5013056/', 'http://www.imdb.com/title/tt1790809/','http://www.imdb.com/title/tt1596346/','http://www.imdb.com/title/tt0092099/','http://www.imdb.com/title/tt0108052/']"
   ]
  },
  {
   "cell_type": "code",
   "execution_count": 18,
   "metadata": {},
   "outputs": [
    {
     "name": "stdout",
     "output_type": "stream",
     "text": [
      "http://www.imdb.com/title/tt5013056/\n",
      "http://www.imdb.com/title/tt1790809/\n",
      "http://www.imdb.com/title/tt1596346/\n",
      "http://www.imdb.com/title/tt0092099/\n",
      "http://www.imdb.com/title/tt0108052/\n"
     ]
    }
   ],
   "source": [
    "for item in url:\n",
    "    print(item)"
   ]
  },
  {
   "cell_type": "code",
   "execution_count": null,
   "metadata": {},
   "outputs": [],
   "source": []
  },
  {
   "cell_type": "code",
   "execution_count": 22,
   "metadata": {},
   "outputs": [
    {
     "name": "stdout",
     "output_type": "stream",
     "text": [
      "Dunkirk (2017) - IMDb\t;540,752\t;7.9\n",
      "\n",
      "Piratas do Caribe: A Vingança de Salazar (2017) - IMDb\t;257,716\t;6.6\n",
      "\n",
      "Soul Surfer: Coragem de Viver (2011) - IMDb\t;45,118\t;7.0\n",
      "\n",
      "Top Gun: Ases Indomáveis (1986) - IMDb\t;290,584\t;6.9\n",
      "\n",
      "A Lista de Schindler (1993) - IMDb\t;1,194,535\t;8.9\n",
      "\n"
     ]
    }
   ],
   "source": [
    "for item in url:\n",
    "    response = requests.get(item)\n",
    "    soup = BeautifulSoup(response.text, 'lxml')\n",
    "    name = soup.title.text\n",
    "    rate = soup.find_all(\"div\", \"ratingValue\")[0].span.text\n",
    "    obs = soup.find_all(\"div\", \"imdbRating\")[0].a.text\n",
    "    #print(name,obs,rate)\n",
    "    print ('%s\\t;%s\\t;%s\\n' % (name,obs,rate))"
   ]
  },
  {
   "cell_type": "code",
   "execution_count": null,
   "metadata": {},
   "outputs": [],
   "source": []
  },
  {
   "cell_type": "code",
   "execution_count": null,
   "metadata": {},
   "outputs": [],
   "source": []
  },
  {
   "cell_type": "code",
   "execution_count": 23,
   "metadata": {},
   "outputs": [],
   "source": [
    "filmes = []\n",
    "for item in url:\n",
    "    dici = {}\n",
    "    response = requests.get(item)\n",
    "    soup = BeautifulSoup(response.text, 'lxml')\n",
    "    name = soup.title.text\n",
    "    dici['nome'] = name\n",
    "    rate = soup.find_all(\"div\", \"ratingValue\")[0].span.text\n",
    "    dici['nota'] = rate\n",
    "    obs = soup.find_all(\"div\", \"imdbRating\")[0].a.text\n",
    "    dici['visu'] = obs\n",
    "    filmes.append(dici)"
   ]
  },
  {
   "cell_type": "code",
   "execution_count": 24,
   "metadata": {},
   "outputs": [
    {
     "name": "stdout",
     "output_type": "stream",
     "text": [
      "[{'nome': 'Dunkirk (2017) - IMDb', 'nota': '7.9', 'visu': '540,752'}, {'nome': 'Piratas do Caribe: A Vingança de Salazar (2017) - IMDb', 'nota': '6.6', 'visu': '257,716'}, {'nome': 'Soul Surfer: Coragem de Viver (2011) - IMDb', 'nota': '7.0', 'visu': '45,118'}, {'nome': 'Top Gun: Ases Indomáveis (1986) - IMDb', 'nota': '6.9', 'visu': '290,584'}, {'nome': 'A Lista de Schindler (1993) - IMDb', 'nota': '8.9', 'visu': '1,194,535'}]\n"
     ]
    }
   ],
   "source": [
    "print(filmes)"
   ]
  },
  {
   "cell_type": "code",
   "execution_count": 25,
   "metadata": {},
   "outputs": [],
   "source": [
    "import pandas as pd"
   ]
  },
  {
   "cell_type": "code",
   "execution_count": 26,
   "metadata": {},
   "outputs": [],
   "source": [
    "base = pd.DataFrame(filmes)"
   ]
  },
  {
   "cell_type": "code",
   "execution_count": 27,
   "metadata": {},
   "outputs": [
    {
     "data": {
      "text/html": [
       "<div>\n",
       "<style scoped>\n",
       "    .dataframe tbody tr th:only-of-type {\n",
       "        vertical-align: middle;\n",
       "    }\n",
       "\n",
       "    .dataframe tbody tr th {\n",
       "        vertical-align: top;\n",
       "    }\n",
       "\n",
       "    .dataframe thead th {\n",
       "        text-align: right;\n",
       "    }\n",
       "</style>\n",
       "<table border=\"1\" class=\"dataframe\">\n",
       "  <thead>\n",
       "    <tr style=\"text-align: right;\">\n",
       "      <th></th>\n",
       "      <th>nome</th>\n",
       "      <th>nota</th>\n",
       "      <th>visu</th>\n",
       "    </tr>\n",
       "  </thead>\n",
       "  <tbody>\n",
       "    <tr>\n",
       "      <th>0</th>\n",
       "      <td>Dunkirk (2017) - IMDb</td>\n",
       "      <td>7.9</td>\n",
       "      <td>540,752</td>\n",
       "    </tr>\n",
       "    <tr>\n",
       "      <th>1</th>\n",
       "      <td>Piratas do Caribe: A Vingança de Salazar (2017...</td>\n",
       "      <td>6.6</td>\n",
       "      <td>257,716</td>\n",
       "    </tr>\n",
       "    <tr>\n",
       "      <th>2</th>\n",
       "      <td>Soul Surfer: Coragem de Viver (2011) - IMDb</td>\n",
       "      <td>7.0</td>\n",
       "      <td>45,118</td>\n",
       "    </tr>\n",
       "    <tr>\n",
       "      <th>3</th>\n",
       "      <td>Top Gun: Ases Indomáveis (1986) - IMDb</td>\n",
       "      <td>6.9</td>\n",
       "      <td>290,584</td>\n",
       "    </tr>\n",
       "    <tr>\n",
       "      <th>4</th>\n",
       "      <td>A Lista de Schindler (1993) - IMDb</td>\n",
       "      <td>8.9</td>\n",
       "      <td>1,194,535</td>\n",
       "    </tr>\n",
       "  </tbody>\n",
       "</table>\n",
       "</div>"
      ],
      "text/plain": [
       "                                                nome nota       visu\n",
       "0                              Dunkirk (2017) - IMDb  7.9    540,752\n",
       "1  Piratas do Caribe: A Vingança de Salazar (2017...  6.6    257,716\n",
       "2        Soul Surfer: Coragem de Viver (2011) - IMDb  7.0     45,118\n",
       "3             Top Gun: Ases Indomáveis (1986) - IMDb  6.9    290,584\n",
       "4                 A Lista de Schindler (1993) - IMDb  8.9  1,194,535"
      ]
     },
     "execution_count": 27,
     "metadata": {},
     "output_type": "execute_result"
    }
   ],
   "source": [
    "base"
   ]
  },
  {
   "cell_type": "code",
   "execution_count": null,
   "metadata": {},
   "outputs": [],
   "source": []
  },
  {
   "cell_type": "code",
   "execution_count": null,
   "metadata": {},
   "outputs": [],
   "source": []
  },
  {
   "cell_type": "code",
   "execution_count": null,
   "metadata": {},
   "outputs": [],
   "source": []
  },
  {
   "cell_type": "code",
   "execution_count": null,
   "metadata": {},
   "outputs": [],
   "source": []
  }
 ],
 "metadata": {
  "kernelspec": {
   "display_name": "Python 3",
   "language": "python",
   "name": "python3"
  },
  "language_info": {
   "codemirror_mode": {
    "name": "ipython",
    "version": 3
   },
   "file_extension": ".py",
   "mimetype": "text/x-python",
   "name": "python",
   "nbconvert_exporter": "python",
   "pygments_lexer": "ipython3",
   "version": "3.9.1"
  }
 },
 "nbformat": 4,
 "nbformat_minor": 2
}
